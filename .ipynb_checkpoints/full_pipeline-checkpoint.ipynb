{
 "cells": [
  {
   "cell_type": "code",
   "execution_count": 1,
   "metadata": {},
   "outputs": [],
   "source": [
    "import numpy as np\n",
    "import mne\n",
    "import matplotlib.pyplot as plt\n",
    "import seaborn as sns\n",
    "import glob, os\n",
    "import scipy\n",
    "import pickle\n",
    "%matplotlib inline\n",
    "#%matplotlib qt\n",
    "import preprocessing as prep\n",
    "from epoch_connectivity import ConnEEG as cnegg\n",
    "from epoch_connectivity import ConnectionMatrices as cm\n",
    "\n",
    "\n",
    "from epoch_connectivity.utils import FrequencyBand, only_EEG_channels\n",
    "\n",
    "import mne_connectivity as mnecon"
   ]
  },
  {
   "cell_type": "code",
   "execution_count": null,
   "metadata": {},
   "outputs": [],
   "source": []
  },
  {
   "cell_type": "markdown",
   "metadata": {},
   "source": [
    "### To create the connection matrices and save them as pickle\n",
    "\n",
    "This process can take some time, due to the MVAR model fit, that requires some computational power"
   ]
  },
  {
   "cell_type": "code",
   "execution_count": null,
   "metadata": {},
   "outputs": [],
   "source": [
    "mne.set_log_level(verbose='WARNING')\n",
    "direc = 'C:/code_thesis/brain_connectivity_epilepsy/plots/'\n",
    "direc_pickle = 'C:/code_thesis/brain_connectivity_epilepsy/connection_matrices/'\n",
    "\n",
    "PAT_metadata = {'PAT1':False, 'PAT2':False, 'PAT3':False, 'PAT4':True, 'PAT5':False, 'PAT6':True,\n",
    "               'PAT7':True, 'PAT8':False, 'PAT9':True, 'PAT10':True, 'PAT11':True, 'PAT12':True,\n",
    "               'PAT13':True, 'PAT14':False, 'PAT15':False, 'PAT16':False, 'PAT17':False, 'PAT18':False,\n",
    "               'PAT19':True, 'PAT20':True, 'PAT21':True, 'PAT22':True}\n",
    "to_process = [1, 2, 3, 4, 5, 6, 7, 8, 13, 14, 15, 16, 17, 18, 19]\n",
    "#to_process = [19]\n",
    "\n",
    "for pat_num in to_process:\n",
    "    patient_code = 'PAT'+str(pat_num)\n",
    "    weaning = PAT_metadata[patient_code]\n",
    "    epoched = prep.open_preprocessed_epoched(pat_num, weaning=weaning)\n",
    "    a_awake, a_sleep = (epoched[0]).copy(), (epoched[1]).copy()\n",
    "    cm_awake = cm.ConnectionsMatrices(a_awake, patient_number=pat_num, rec_status='awake')\n",
    "    cm_sleep = cm.ConnectionsMatrices(a_sleep, patient_number=pat_num, rec_status='sleep')\n",
    "    pickle.dump(cm_awake, open(direc_pickle+patient_code+'_'+'AWAKE.pickle', 'wb'))\n",
    "    pickle.dump(cm_sleep, open(direc_pickle+patient_code+'_'+'SLEEP.pickle', 'wb'))\n",
    "    for measure in ['DTF', 'PDC', 'wPLI']:\n",
    "        cm_awake.plot_fbands_hmaps(measure=measure, hide_diag=True, savefigure=True, directory=direc)\n",
    "        cm_sleep.plot_fbands_hmaps(measure=measure, hide_diag=True, savefigure=True, directory=direc)"
   ]
  }
 ],
 "metadata": {
  "kernelspec": {
   "display_name": "Python 3",
   "language": "python",
   "name": "python3"
  },
  "language_info": {
   "codemirror_mode": {
    "name": "ipython",
    "version": 3
   },
   "file_extension": ".py",
   "mimetype": "text/x-python",
   "name": "python",
   "nbconvert_exporter": "python",
   "pygments_lexer": "ipython3",
   "version": "3.7.3"
  },
  "toc": {
   "base_numbering": 1,
   "nav_menu": {},
   "number_sections": false,
   "sideBar": true,
   "skip_h1_title": false,
   "title_cell": "Table of Contents",
   "title_sidebar": "Contents",
   "toc_cell": false,
   "toc_position": {},
   "toc_section_display": true,
   "toc_window_display": false
  },
  "varInspector": {
   "cols": {
    "lenName": 16,
    "lenType": 16,
    "lenVar": 40
   },
   "kernels_config": {
    "python": {
     "delete_cmd_postfix": "",
     "delete_cmd_prefix": "del ",
     "library": "var_list.py",
     "varRefreshCmd": "print(var_dic_list())"
    },
    "r": {
     "delete_cmd_postfix": ") ",
     "delete_cmd_prefix": "rm(",
     "library": "var_list.r",
     "varRefreshCmd": "cat(var_dic_list()) "
    }
   },
   "types_to_exclude": [
    "module",
    "function",
    "builtin_function_or_method",
    "instance",
    "_Feature"
   ],
   "window_display": false
  }
 },
 "nbformat": 4,
 "nbformat_minor": 2
}
