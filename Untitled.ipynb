{
 "cells": [
  {
   "cell_type": "code",
   "execution_count": 1,
   "metadata": {},
   "outputs": [],
   "source": [
    "import numpy as np\n",
    "import mne\n",
    "import matplotlib\n",
    "#%matplotlib inline\n",
    "%matplotlib qt\n",
    "import matplotlib as mpl\n",
    "import matplotlib.pyplot as plt\n",
    "import seaborn as sns\n",
    "import glob, os\n",
    "import scipy\n",
    "import pickle\n",
    "import networkx as nx\n",
    "import preprocessing as prep\n",
    "from itertools import permutations\n",
    "import pandas as pd\n",
    "from tqdm import tqdm\n",
    "\n",
    "from mpmath import mp\n",
    "mp.dps = 32\n",
    "import decimal\n",
    "\n",
    "from matplotlib import mlab\n",
    "\n",
    "from epoch_connectivity import ConnEEG as cnegg\n",
    "from epoch_connectivity import ConnectionMatrices as cm\n",
    "from epoch_connectivity import Connectomes as cntms\n",
    "\n",
    "from epoch_connectivity.utils import FrequencyBand, only_EEG_channels\n",
    "\n",
    "from mne.time_frequency import csd_fourier, csd_multitaper, csd_morlet, csd_array_fourier, csd_array_multitaper, csd_array_morlet\n",
    "\n",
    "import mne_connectivity as mnecon"
   ]
  },
  {
   "cell_type": "code",
   "execution_count": 2,
   "metadata": {},
   "outputs": [],
   "source": [
    "def bandpass_butterworth(cut_low, cut_high, sampling_freq, order=2):\n",
    "    nyquist_freq = sampling_freq/2\n",
    "    normalized_low = cut_low/nyquist_freq\n",
    "    normalized_high = cut_high/nyquist_freq\n",
    "    b, a = scipy.signal.butter(order, [normalized_low, normalized_high], btype='bandpass')\n",
    "    return b, a\n",
    "\n",
    "def notch_butterworth(cut_low, cut_high, sampling_freq, order=2):\n",
    "    nyquist_freq = sampling_freq/2\n",
    "    normalized_low = cut_low/nyquist_freq\n",
    "    normalized_high = cut_high/nyquist_freq\n",
    "    b, a = scipy.signal.butter(order, [normalized_low, normalized_high], btype='bandstop')\n",
    "    return b, a\n",
    "\n",
    "# Patients metadata, because the folders are different and require different approachs (some have SEVRAGE and H1)\n",
    "\n",
    "# To dfine the VERBOSE level for mne\n",
    "mne.set_log_level(verbose='WARNING')\n",
    "#direc = 'C:/code_thesis/brain_connectivity_epilepsy/plots_binarized/' # directory to save the plots\n",
    "#direc = 'C:/code_thesis/brain_connectivity_epilepsy/plots/'\n",
    "#direc_pickle = 'C:/code_thesis/brain_connectivity_epilepsy/connection_matrices/' # directory to save the pickles\n",
    "direc = 'C:/code_thesis/brain_connectivity_epilepsy/plots_surrogate/'\n",
    "direc_pickle = 'C:/code_thesis/brain_connectivity_epilepsy/connection_matrices_surrogate/'\n",
    "\n",
    "# pat number : sevrage (bool)\n",
    "PAT_metadata = {'PAT1':False, 'PAT2':False, 'PAT3':False, 'PAT4':True, 'PAT5':False, 'PAT6':True,\n",
    "               'PAT7':True, 'PAT8':False, 'PAT9':False, 'PAT10':False, 'PAT11':False, 'PAT12':False,\n",
    "               'PAT13':True, 'PAT14':False, 'PAT15':False, 'PAT16':False, 'PAT17':False, 'PAT18':False,\n",
    "               'PAT19':True, 'PAT20':True, 'PAT21':True, 'PAT22':False, 'PAT23':False, 'PAT24':True, 'PAT25':True,\n",
    "               'PAT26':False, 'PAT27':True, 'PAT28':True, 'PAT29':False, 'PAT30':False, 'PAT31':True,\n",
    "               'PAT32':True, 'PAT33':True, 'PAT34':True, 'PAT35':True, 'PAT36':True, 'PAT37':True, 'PAT38':True, 'PAT39':False}\n",
    "# patients to process\n",
    "to_preprocess = [1, 2, 3, 4, 5, 6, 7, 8, 9, 10, 11, 12, 13, 14, 15, 16, 17, 18, 19, 20, 21, 22, 23, 24, 25, 26, 27, 28, 29, 30, 31, 32, 33, 34, 35, 36, 37, 38, 39]\n",
    "#to_preprocess = [12, 39]"
   ]
  },
  {
   "cell_type": "code",
   "execution_count": 3,
   "metadata": {},
   "outputs": [],
   "source": [
    "# To get a plot of the raw eeg\n",
    "open_preprocessed_eeg = prep.open_preprocessed_epoched(patient_number=1, weaning = PAT_metadata['PAT1'])\n",
    "#prep.plot_epoched_eeg(open_preprocessed_eeg[0])\n",
    "#rawEEG = prep.open_raw_eeg_filtered(patient_number=1, weaning = PAT_metadata['PAT1'])\n",
    "#prep.plot_full_eeg(rawEEG[0])\n",
    "\n",
    "# SLEEP, AWAKE\n",
    "#prep.plot_epoched_eeg(open_preprocessed_eeg[0])"
   ]
  },
  {
   "cell_type": "code",
   "execution_count": 31,
   "metadata": {},
   "outputs": [],
   "source": [
    "to_drop = list(set(open_preprocessed_eeg[0].info.ch_names) - ({'EEG C3', 'EEG C4'}))\n",
    "open_preprocessed_eeg[0].drop_channels(to_drop)\n",
    "#prep.plot_epoched_eeg(open_preprocessed_eeg[0])\n",
    "data_array = open_preprocessed_eeg[0].get_data()[:, :, :]\n",
    "n_epochs, n_channels, n_samples_epoch = np.shape(data_array)"
   ]
  },
  {
   "cell_type": "code",
   "execution_count": 65,
   "metadata": {},
   "outputs": [],
   "source": [
    "fs = 256 # Sampling frequency\n",
    "T = 10   # Time interval of each epoch\n",
    "\n",
    "window = scipy.signal.windows.hamming(M=int(fs*T/8)) # Window function to be used by the csd function\n",
    "\n",
    "numerators, denominators = [], []\n",
    "\n",
    "# for a pair of channels we do:\n",
    "for epoch in range(n_epochs): # for each epoch\n",
    "    x, y = data_array[epoch][0], data_array[epoch][1] # signals on the epoch\n",
    "    # Compute the CSD for the two signals on this epoch (this function is similar to the cpsd funtion from MATLAB)\n",
    "    freqs, Pxy = scipy.signal.csd(x, y, fs=256, nfft=256*2, nperseg=fs*T/8, noverlap=0, detrend=False, window=window)\n",
    "    Pxy, freqs = Pxy[1:-1], freqs[1:-1] # Droping the first and the last frequency bin to avoid numerical errors due to 0 division\n",
    "    # Compute the numerator and the denominator for this epoch\n",
    "    numerators.append(Pxy.imag)            # The numerator   is the imaginary part of Pxy\n",
    "    denominators.append(np.abs(Pxy.imag))  # The denominator is the module of the imaginary part of Pxy\n",
    "numerators, denominators = np.array(numerators), np.array(denominators)\n",
    "# For the numerators we get the average over epochs and then the absolute values of this\n",
    "numerators = np.abs(np.mean(numerators, axis = 0))\n",
    "# For the denominators we get the average of the absolute value over epochs\n",
    "denominators = np.mean(np.abs(denominators), axis = 0)\n",
    "\n",
    "wPLI = numerators/denominators # this array has the wPLI as a function of the frequency"
   ]
  },
  {
   "cell_type": "code",
   "execution_count": 93,
   "metadata": {},
   "outputs": [
    {
     "data": {
      "text/plain": [
       "array([  0.5,   1. ,   1.5,   2. ,   2.5,   3. ,   3.5,   4. ,   4.5,\n",
       "         5. ,   5.5,   6. ,   6.5,   7. ,   7.5,   8. ,   8.5,   9. ,\n",
       "         9.5,  10. ,  10.5,  11. ,  11.5,  12. ,  12.5,  13. ,  13.5,\n",
       "        14. ,  14.5,  15. ,  15.5,  16. ,  16.5,  17. ,  17.5,  18. ,\n",
       "        18.5,  19. ,  19.5,  20. ,  20.5,  21. ,  21.5,  22. ,  22.5,\n",
       "        23. ,  23.5,  24. ,  24.5,  25. ,  25.5,  26. ,  26.5,  27. ,\n",
       "        27.5,  28. ,  28.5,  29. ,  29.5,  30. ,  30.5,  31. ,  31.5,\n",
       "        32. ,  32.5,  33. ,  33.5,  34. ,  34.5,  35. ,  35.5,  36. ,\n",
       "        36.5,  37. ,  37.5,  38. ,  38.5,  39. ,  39.5,  40. ,  40.5,\n",
       "        41. ,  41.5,  42. ,  42.5,  43. ,  43.5,  44. ,  44.5,  45. ,\n",
       "        45.5,  46. ,  46.5,  47. ,  47.5,  48. ,  48.5,  49. ,  49.5,\n",
       "        50. ,  50.5,  51. ,  51.5,  52. ,  52.5,  53. ,  53.5,  54. ,\n",
       "        54.5,  55. ,  55.5,  56. ,  56.5,  57. ,  57.5,  58. ,  58.5,\n",
       "        59. ,  59.5,  60. ,  60.5,  61. ,  61.5,  62. ,  62.5,  63. ,\n",
       "        63.5,  64. ,  64.5,  65. ,  65.5,  66. ,  66.5,  67. ,  67.5,\n",
       "        68. ,  68.5,  69. ,  69.5,  70. ,  70.5,  71. ,  71.5,  72. ,\n",
       "        72.5,  73. ,  73.5,  74. ,  74.5,  75. ,  75.5,  76. ,  76.5,\n",
       "        77. ,  77.5,  78. ,  78.5,  79. ,  79.5,  80. ,  80.5,  81. ,\n",
       "        81.5,  82. ,  82.5,  83. ,  83.5,  84. ,  84.5,  85. ,  85.5,\n",
       "        86. ,  86.5,  87. ,  87.5,  88. ,  88.5,  89. ,  89.5,  90. ,\n",
       "        90.5,  91. ,  91.5,  92. ,  92.5,  93. ,  93.5,  94. ,  94.5,\n",
       "        95. ,  95.5,  96. ,  96.5,  97. ,  97.5,  98. ,  98.5,  99. ,\n",
       "        99.5, 100. , 100.5, 101. , 101.5, 102. , 102.5, 103. , 103.5,\n",
       "       104. , 104.5, 105. , 105.5, 106. , 106.5, 107. , 107.5, 108. ,\n",
       "       108.5, 109. , 109.5, 110. , 110.5, 111. , 111.5, 112. , 112.5,\n",
       "       113. , 113.5, 114. , 114.5, 115. , 115.5, 116. , 116.5, 117. ,\n",
       "       117.5, 118. , 118.5, 119. , 119.5, 120. , 120.5, 121. , 121.5,\n",
       "       122. , 122.5, 123. , 123.5, 124. , 124.5, 125. , 125.5, 126. ,\n",
       "       126.5, 127. , 127.5])"
      ]
     },
     "execution_count": 93,
     "metadata": {},
     "output_type": "execute_result"
    }
   ],
   "source": [
    "freqs"
   ]
  },
  {
   "cell_type": "code",
   "execution_count": 74,
   "metadata": {},
   "outputs": [
    {
     "data": {
      "text/plain": [
       "0.25153541189452416"
      ]
     },
     "execution_count": 74,
     "metadata": {},
     "output_type": "execute_result"
    }
   ],
   "source": [
    "np.mean(wPLI)"
   ]
  },
  {
   "cell_type": "code",
   "execution_count": 61,
   "metadata": {},
   "outputs": [
    {
     "data": {
      "text/plain": [
       "<AxesSubplot:>"
      ]
     },
     "execution_count": 61,
     "metadata": {},
     "output_type": "execute_result"
    }
   ],
   "source": [
    "sns.lineplot(x=freqs, y=wPLI)"
   ]
  },
  {
   "cell_type": "code",
   "execution_count": 70,
   "metadata": {},
   "outputs": [],
   "source": [
    "frequency_band = [0.5, 127.5]"
   ]
  },
  {
   "cell_type": "code",
   "execution_count": 47,
   "metadata": {},
   "outputs": [],
   "source": [
    "filt_b, filt_a = bandpass_butterworth(frequency_band[0], frequency_band[1], open_preprocessed_eeg[0].info['sfreq'], order=2)\n",
    "filtered_epoched = open_preprocessed_eeg[0].filter(l_freq=frequency_band[0], h_freq=frequency_band[1], picks=['eeg'], method='iir', iir_params=dict(b=filt_b, a=filt_a, padlen=0))\n",
    "#prep.plot_epoched_eeg(filtered_epoched)"
   ]
  },
  {
   "cell_type": "code",
   "execution_count": 91,
   "metadata": {},
   "outputs": [],
   "source": [
    "fmin=frequency_band[0]\n",
    "fmax=frequency_band[1]\n",
    "\n",
    "cwt_freqs = np.arange(fmin, fmax, 2)\n",
    "cwt_n_cycles = cwt_freqs / 7\n",
    "\n",
    "eeg_to_use = open_preprocessed_eeg[0] # SLEEP EEG\n",
    "eeg_to_use.pick(picks=['eeg'])\n",
    "\n",
    "#con = mnecon.spectral_connectivity_epochs(data=eeg_to_use, method='wpli', mode='cwt_morlet', faverage=True, verbose=False,\n",
    "#                                              sfreq=fs, cwt_freqs=cwt_freqs, fmin=fmin, fmax=fmax)\n",
    "#con_matrix_multitaper = con.get_data(output='dense')#[:,:,0]# + np.transpose(con.get_data(output='dense')[:,:,0])\n",
    "#final_matrix = np.mean(con_matrix_multitaper, axis=3)[:, :, 0] + np.transpose(np.mean(con_matrix_multitaper, axis=3)[:, :, 0])\n",
    "\n",
    "con = mnecon.spectral_connectivity_epochs(data=eeg_to_use, method='wpli', mode='multitaper', mt_low_bias=False, mt_adaptive=False, mt_bandwidth=0.1, faverage=False, verbose=False)\n",
    "con_matrix_multitaper = con.get_data(output='dense')#[:,:,0] + np.transpose(con.get_data(output='dense')[:,:,0])\n",
    "\n",
    "#con = mnecon.spectral_connectivity_epochs(data=eeg_to_use, method='wpli', mode='fourier', faverage=True, verbose=False)\n",
    "#con_matrix_fourier = con.get_data(output='dense')[:,:,0] + np.transpose(con.get_data(output='dense')[:,:,0])"
   ]
  },
  {
   "cell_type": "code",
   "execution_count": 92,
   "metadata": {},
   "outputs": [
    {
     "data": {
      "text/plain": [
       "0.4530690701795741"
      ]
     },
     "execution_count": 92,
     "metadata": {},
     "output_type": "execute_result"
    }
   ],
   "source": [
    "np.mean(con_matrix_multitaper[1][0])"
   ]
  },
  {
   "cell_type": "code",
   "execution_count": 239,
   "metadata": {},
   "outputs": [
    {
     "data": {
      "text/plain": [
       "0.4273378891625601"
      ]
     },
     "execution_count": 239,
     "metadata": {},
     "output_type": "execute_result"
    }
   ],
   "source": [
    "np.mean(con_matrix_multitaper)"
   ]
  },
  {
   "cell_type": "code",
   "execution_count": 205,
   "metadata": {},
   "outputs": [
    {
     "data": {
      "text/plain": [
       "0.3525944349797624"
      ]
     },
     "execution_count": 205,
     "metadata": {},
     "output_type": "execute_result"
    }
   ],
   "source": [
    "np.mean(con_matrix_fourier)"
   ]
  },
  {
   "cell_type": "code",
   "execution_count": 249,
   "metadata": {},
   "outputs": [
    {
     "name": "stderr",
     "output_type": "stream",
     "text": [
      "100%|██████████████████████████████████████████████████████████████████████████████| 1000/1000 [02:37<00:00,  6.35it/s]\n"
     ]
    }
   ],
   "source": [
    "fs = 256 # Sampling frequency\n",
    "ts = 1/fs\n",
    "T = 100 # Time interval\n",
    "amp = 6e-6\n",
    "L = T * fs # Lenght of the arrays\n",
    "t = np.linspace(0, T, L) # The time array to be used\n",
    "\n",
    "phi_t = np.linspace(np.pi, -np.pi, 1000, dtype='longdouble')\n",
    "\n",
    "wplis_morlet, wplis_fourier, wplis_multitaper = [], [], []\n",
    "\n",
    "fmin=25\n",
    "fmax=35\n",
    "\n",
    "cwt_freqs = np.arange(fmin, fmax, 2)\n",
    "cwt_n_cycles = cwt_freqs / 7\n",
    "\n",
    "for phi in tqdm(phi_t):\n",
    "    x = amp*np.cos(2*np.pi*30*t)\n",
    "    #y = amp*np.cos(2*np.pi*30*t+phi_t)\n",
    "    y = amp*np.cos(2*np.pi*30*t+phi)\n",
    "    info_file = mne.create_info(ch_names = ['Y1', 'Y2'], sfreq=fs, ch_types='eeg', verbose=None)\n",
    "    raw_file = mne.io.RawArray(data=np.array([x, y]), info=info_file, first_samp=0, copy='auto', verbose=None)\n",
    "    epoched = mne.make_fixed_length_epochs(raw_file, duration=1, preload=False, reject_by_annotation=True, proj=True, overlap=0.0, id=1, verbose=None)\n",
    "    \n",
    "    con = mnecon.spectral_connectivity_epochs(data=epoched, method='wpli', mode='cwt_morlet', faverage=True, verbose=False,\n",
    "                                              sfreq=fs, cwt_freqs=cwt_freqs, fmin=fmin, fmax=fmax)\n",
    "    con_matrix_multitaper = con.get_data(output='dense')[:,:,0]# + np.transpose(con.get_data(output='dense')[:,:,0])\n",
    "    final_matrix_1 = np.mean(con_matrix_multitaper, axis=2) + np.transpose(np.mean(con_matrix_multitaper, axis=2))\n",
    "    \n",
    "    con = mnecon.spectral_connectivity_epochs(data=epoched, method='wpli', mode='fourier', faverage=True, verbose=False,\n",
    "                                              sfreq=fs, fmin=fmin, fmax=fmax)\n",
    "    con_matrix_multitaper = con.get_data(output='dense')[:,:,0]# + np.transpose(con.get_data(output='dense')[:,:,0])\n",
    "    final_matrix_2 = con.get_data(output='dense')[:,:,0] + np.transpose(con.get_data(output='dense')[:,:,0])\n",
    "    \n",
    "    con = mnecon.spectral_connectivity_epochs(data=epoched, method='wpli', mode='multitaper', faverage=True, verbose=False,\n",
    "                                              sfreq=fs, mt_bandwidth=1, fmin=fmin, fmax=fmax, mt_low_bias=False)\n",
    "    con_matrix_multitaper = con.get_data(output='dense')[:,:,0]# + np.transpose(con.get_data(output='dense')[:,:,0])\n",
    "    final_matrix_3 = con.get_data(output='dense')[:,:,0] + np.transpose(con.get_data(output='dense')[:,:,0])\n",
    "    \n",
    "    #wplis.append(con_matrix_multitaper[1][0])\n",
    "    wplis_morlet.append(final_matrix_1[1][0])\n",
    "    wplis_fourier.append(final_matrix_2[1][0])\n",
    "    wplis_multitaper.append(final_matrix_3[1][0])"
   ]
  },
  {
   "cell_type": "code",
   "execution_count": 264,
   "metadata": {},
   "outputs": [],
   "source": [
    "data = {'CWT - Morlet':wplis_morlet, 'Fourier':wplis_fourier, 'Multitaper':wplis_multitaper}\n",
    "data = pd.DataFrame(data, index=phi_t)"
   ]
  },
  {
   "cell_type": "code",
   "execution_count": 273,
   "metadata": {},
   "outputs": [
    {
     "data": {
      "text/plain": [
       "Text(0.5, 1.0, 'wPLI')"
      ]
     },
     "execution_count": 273,
     "metadata": {},
     "output_type": "execute_result"
    }
   ],
   "source": [
    "sns.set_theme('notebook')\n",
    "sns.lineplot(data=data, legend='auto')#, x='Phase', y=['CWT - Morlet', 'Fourier', 'Multitaper'])\n",
    "plt.title('wPLI')"
   ]
  },
  {
   "cell_type": "code",
   "execution_count": 589,
   "metadata": {},
   "outputs": [
    {
     "name": "stderr",
     "output_type": "stream",
     "text": [
      "100%|██████████████████████████████████████████████████████████████████████████████| 1000/1000 [00:19<00:00, 52.43it/s]\n"
     ]
    }
   ],
   "source": [
    "fs = 256 # Sampling frequency\n",
    "ts = 1/fs\n",
    "T = 1 # Time interval\n",
    "amp = 1\n",
    "L = T * fs # Lenght of the arrays\n",
    "t = np.linspace(0, T, L) # The time array to be used\n",
    "\n",
    "num_mt, den_mt, num_csd, den_csd = [], [], [], []\n",
    "\n",
    "for phi in tqdm(phi_t):\n",
    "    x = np.cos(2*np.pi*30*t)\n",
    "    y = np.cos(2*np.pi*30*t+phi)\n",
    "    compund_array = np.array([[x, y]])\n",
    "    asdf = csd_array_multitaper(compund_array, sfreq=256)\n",
    "    Pxy_f = []\n",
    "    for freq_index in range(len(asdf)):\n",
    "        Pxy_f.append(asdf.get_data(index=freq_index)[1][0].imag)\n",
    "    Pxy_f = np.array(Pxy_f)\n",
    "    num_mt.append(np.abs(np.mean(Pxy_f)))\n",
    "    den_mt.append(np.mean(np.abs(Pxy_f)))\n",
    "    \n",
    "    window = scipy.signal.windows.hamming(M=int(fs*T/8))\n",
    "    freqs, Pxy = scipy.signal.csd(x, y, fs=256, nfft=256*2, nperseg=fs*T/8, noverlap=0, detrend=False, window=window)\n",
    "    num_2 = np.abs(np.mean(Pxy.imag))\n",
    "    den_2 = np.mean(np.abs(Pxy.imag))\n",
    "    num_csd.append(num_2)\n",
    "    den_csd.append(den_2)\n",
    "    "
   ]
  },
  {
   "cell_type": "code",
   "execution_count": 590,
   "metadata": {},
   "outputs": [],
   "source": [
    "data = {'Num. Multi.':num_mt, 'Den. Multi.':den_mt, 'Num. Welch':num_csd, 'Den. Welch':den_csd}\n",
    "data = pd.DataFrame(data, index=phi_t)"
   ]
  },
  {
   "cell_type": "code",
   "execution_count": 592,
   "metadata": {},
   "outputs": [
    {
     "data": {
      "text/plain": [
       "Text(0.5, 1.0, 'wPLI')"
      ]
     },
     "execution_count": 592,
     "metadata": {},
     "output_type": "execute_result"
    }
   ],
   "source": [
    "sns.set_theme('notebook')\n",
    "sns.lineplot(data=data, legend='auto')#, x='Phase', y=['CWT - Morlet', 'Fourier', 'Multitaper'])\n",
    "plt.title('wPLI')"
   ]
  },
  {
   "cell_type": "code",
   "execution_count": 541,
   "metadata": {},
   "outputs": [],
   "source": [
    "Pxy_f = []\n",
    "for freq_index in range(len(asdf)):\n",
    "    Pxy_f.append(asdf.get_data(index=freq_index)[1][0].imag)\n",
    "Pxy_f = np.array(Pxy_f)"
   ]
  },
  {
   "cell_type": "code",
   "execution_count": 542,
   "metadata": {},
   "outputs": [],
   "source": [
    "num = np.abs(np.mean(Pxy_f))\n",
    "den = np.mean(np.abs(Pxy_f))"
   ]
  },
  {
   "cell_type": "code",
   "execution_count": 543,
   "metadata": {},
   "outputs": [
    {
     "data": {
      "text/plain": [
       "0.0039059799743070113"
      ]
     },
     "execution_count": 543,
     "metadata": {},
     "output_type": "execute_result"
    }
   ],
   "source": [
    "num"
   ]
  },
  {
   "cell_type": "code",
   "execution_count": 583,
   "metadata": {},
   "outputs": [
    {
     "name": "stdout",
     "output_type": "stream",
     "text": [
      "0.00014551047075623148 0.00014551047075623148\n"
     ]
    }
   ],
   "source": [
    "fs = 256 # Sampling frequency\n",
    "ts = 1/fs\n",
    "T = 1 # Time interval\n",
    "amp = 1\n",
    "L = T * fs # Lenght of the arrays\n",
    "t = np.linspace(0, T, L) # The time array to be used\n",
    "x = np.cos(2*np.pi*30*t)\n",
    "y = np.cos(2*np.pi*30*t+np.pi/2)\n",
    "Pxy, freqs = mlab.csd(x, y, Fs=256, NFFT=256*4)\n",
    "num_2 = np.abs(np.mean(Pxy.imag))\n",
    "den_2 = np.mean(np.abs(Pxy.imag))\n",
    "print(num_2, den_2)"
   ]
  },
  {
   "cell_type": "code",
   "execution_count": 581,
   "metadata": {},
   "outputs": [
    {
     "data": {
      "text/plain": [
       "array([0.00000000e+00, 7.72685343e-08, 1.54077883e-07, 2.31090435e-07,\n",
       "       3.08821859e-07, 3.86658340e-07, 4.64281663e-07, 5.42521168e-07,\n",
       "       6.21761625e-07, 7.01216092e-07, 7.80697802e-07, 8.61228804e-07,\n",
       "       9.43075205e-07, 1.02525263e-06, 1.10769990e-06, 1.19166451e-06,\n",
       "       1.27730322e-06, 1.36340273e-06, 1.45002502e-06, 1.53868466e-06,\n",
       "       1.62943603e-06, 1.72079634e-06, 1.81295161e-06, 1.90773667e-06,\n",
       "       2.00510858e-06, 2.10326290e-06, 2.20251396e-06, 2.30508517e-06,\n",
       "       2.41083990e-06, 2.51758474e-06, 2.62577028e-06, 2.73809693e-06,\n",
       "       2.85433707e-06, 2.97182100e-06, 3.09114763e-06, 3.21560982e-06,\n",
       "       3.34489150e-06, 3.47573243e-06, 3.60889673e-06, 3.74842210e-06,\n",
       "       3.89390736e-06, 4.04135082e-06, 4.19170457e-06, 4.34995472e-06,\n",
       "       4.51562072e-06, 4.68375778e-06, 4.85553605e-06, 5.03716566e-06,\n",
       "       5.22809755e-06, 5.42217079e-06, 5.62081283e-06, 5.83183693e-06,\n",
       "       6.05464601e-06, 6.28148756e-06, 6.51409758e-06, 6.76242278e-06,\n",
       "       7.02585613e-06, 7.29452849e-06, 7.57055117e-06, 7.86676105e-06,\n",
       "       8.18261079e-06, 8.50536599e-06, 8.83760053e-06, 9.19614500e-06,\n",
       "       9.58063882e-06, 9.97439140e-06, 1.03805531e-05, 1.08215988e-05,\n",
       "       1.12975873e-05, 1.17862421e-05, 1.22914385e-05, 1.28438362e-05,\n",
       "       1.34443457e-05, 1.40625994e-05, 1.47033885e-05, 1.54096007e-05,\n",
       "       1.61838192e-05, 1.69836075e-05, 1.78149089e-05, 1.87395281e-05,\n",
       "       1.97633355e-05, 2.08252603e-05, 2.19326622e-05, 2.31778532e-05,\n",
       "       2.45733043e-05, 2.60279771e-05, 2.75508483e-05, 2.92859663e-05,\n",
       "       3.12596057e-05, 3.33301133e-05, 3.55078795e-05, 3.80303178e-05,\n",
       "       4.09543729e-05, 4.40476223e-05, 4.73200533e-05, 5.11913877e-05,\n",
       "       5.57927774e-05, 6.07164123e-05, 6.59639111e-05, 7.23496983e-05,\n",
       "       8.02072640e-05, 8.87563915e-05, 9.79570263e-05, 1.09607747e-04,\n",
       "       1.24697505e-04, 1.41555690e-04, 1.59942577e-04, 1.84669235e-04,\n",
       "       2.19488803e-04, 2.60308562e-04, 3.05694729e-04, 3.73228617e-04,\n",
       "       4.84958876e-04, 6.31503779e-04, 7.99447342e-04, 1.10447875e-03,\n",
       "       1.88957285e-03, 3.55564613e-03, 6.12133927e-03, 8.89536472e-03,\n",
       "       1.07047332e-02, 1.06448431e-02, 8.74700269e-03, 5.95453210e-03,\n",
       "       3.42982596e-03, 1.82212865e-03, 1.07759824e-03, 7.88023838e-04,\n",
       "       6.22514891e-04, 4.77225041e-04, 3.68242744e-04, 3.02776055e-04,\n",
       "       2.57949657e-04, 2.17325195e-04, 1.83064583e-04, 1.58886605e-04,\n",
       "       1.40691336e-04, 1.23895457e-04, 1.08989332e-04, 9.75460693e-05,\n",
       "       8.84315257e-05, 7.99126806e-05, 7.21358815e-05, 6.58486653e-05,\n",
       "       6.06485278e-05, 5.57445035e-05, 5.11871149e-05, 4.73713306e-05,\n",
       "       4.41295239e-05, 4.10516161e-05, 3.81560072e-05, 3.56695274e-05,\n",
       "       3.35143084e-05, 3.14572710e-05, 2.95047229e-05, 2.77957256e-05,\n",
       "       2.62912150e-05, 2.48491956e-05, 2.34711110e-05, 2.22467675e-05,\n",
       "       2.11554786e-05, 2.01059200e-05, 1.90975407e-05, 1.81908393e-05,\n",
       "       1.73744568e-05, 1.65870474e-05, 1.58272803e-05, 1.51373565e-05,\n",
       "       1.45109113e-05, 1.39052408e-05, 1.33187677e-05, 1.27818025e-05,\n",
       "       1.22907676e-05, 1.18150382e-05, 1.13530263e-05, 1.09270498e-05,\n",
       "       1.05351358e-05, 1.01547616e-05, 9.78442929e-06, 9.44092615e-06,\n",
       "       9.12322471e-06, 8.81439939e-06, 8.51307949e-06, 8.23212859e-06,\n",
       "       7.97108452e-06, 7.71698750e-06, 7.46860236e-06, 7.23594735e-06,\n",
       "       7.01890038e-06, 6.80737443e-06, 6.60026479e-06, 6.40548630e-06,\n",
       "       6.22312064e-06, 6.04520258e-06, 5.87074718e-06, 5.70608771e-06,\n",
       "       5.55142561e-06, 5.40038999e-06, 5.25210330e-06, 5.11169133e-06,\n",
       "       4.97942300e-06, 4.85014389e-06, 4.72307154e-06, 4.60239720e-06,\n",
       "       4.48842446e-06, 4.37693990e-06, 4.26724474e-06, 4.16279793e-06,\n",
       "       4.06391712e-06, 3.96712593e-06, 3.87179892e-06, 3.78081483e-06,\n",
       "       3.69449248e-06, 3.60993930e-06, 3.52659411e-06, 3.44687119e-06,\n",
       "       3.37108268e-06, 3.29680313e-06, 3.22352775e-06, 3.15329553e-06,\n",
       "       3.08640723e-06, 3.02081474e-06, 2.95606276e-06, 2.89388447e-06,\n",
       "       2.83456662e-06, 2.77636852e-06, 2.71887840e-06, 2.66357830e-06,\n",
       "       2.61073965e-06, 2.55887422e-06, 2.50760866e-06, 2.45821716e-06,\n",
       "       2.41095549e-06, 2.36454422e-06, 2.31864396e-06, 2.27435582e-06,\n",
       "       2.23191999e-06, 2.19023093e-06, 2.14897938e-06, 2.10912137e-06,\n",
       "       2.07088197e-06, 2.03330140e-06, 1.99609715e-06, 1.96010294e-06,\n",
       "       1.92552942e-06, 1.89153966e-06, 1.85787499e-06, 1.82526545e-06,\n",
       "       1.79390806e-06, 1.76306999e-06, 1.73251390e-06, 1.70288150e-06,\n",
       "       1.67435698e-06, 1.64629621e-06, 1.61848095e-06, 1.59147730e-06,\n",
       "       1.56545745e-06, 1.53985319e-06, 1.51446345e-06, 1.48978930e-06,\n",
       "       1.46599176e-06, 1.44256790e-06, 1.41933211e-06, 1.39672929e-06,\n",
       "       1.37491009e-06, 1.35342793e-06, 1.33211116e-06, 1.31135602e-06,\n",
       "       1.29130348e-06, 1.27155584e-06, 1.25195407e-06, 1.23285205e-06,\n",
       "       1.21438181e-06, 1.19618816e-06, 1.17812351e-06, 1.16050476e-06,\n",
       "       1.14345565e-06, 1.12665811e-06, 1.10997495e-06, 1.09369065e-06,\n",
       "       1.07792129e-06, 1.06238130e-06, 1.04694297e-06, 1.03186231e-06,\n",
       "       1.01724825e-06, 1.00284383e-06, 9.88529970e-07, 9.74537567e-07,\n",
       "       9.60968952e-07, 9.47592351e-07, 9.34296598e-07, 9.21290387e-07,\n",
       "       9.08669924e-07, 8.96225706e-07, 8.83853803e-07, 8.71743236e-07,\n",
       "       8.59984521e-07, 8.48387899e-07, 8.36856080e-07, 8.25560600e-07,\n",
       "       8.14586693e-07, 8.03762143e-07, 7.92995763e-07, 7.82443513e-07,\n",
       "       7.72185719e-07, 7.62065791e-07, 7.51998161e-07, 7.42124883e-07,\n",
       "       7.32521716e-07, 7.23046023e-07, 7.13617416e-07, 7.04365505e-07,\n",
       "       6.95361801e-07, 6.86476149e-07, 6.77632946e-07, 6.68950645e-07,\n",
       "       6.60496795e-07, 6.52152438e-07, 6.43846393e-07, 6.35687089e-07,\n",
       "       6.27738385e-07, 6.19891379e-07, 6.12078988e-07, 6.04400616e-07,\n",
       "       5.96916678e-07, 5.89527326e-07, 5.82169274e-07, 5.74933790e-07,\n",
       "       5.67878075e-07, 5.60910440e-07, 5.53971129e-07, 5.47144060e-07,\n",
       "       5.40483427e-07, 5.33904916e-07, 5.27352049e-07, 5.20902094e-07,\n",
       "       5.14606436e-07, 5.08387428e-07, 5.02191645e-07, 4.96090333e-07,\n",
       "       4.90132242e-07, 4.84245771e-07, 4.78380337e-07, 4.72601720e-07,\n",
       "       4.66956205e-07, 4.61377674e-07, 4.55818197e-07, 4.50338588e-07,\n",
       "       4.44982820e-07, 4.39689756e-07, 4.34413945e-07, 4.29211681e-07,\n",
       "       4.24124770e-07, 4.19096606e-07, 4.14084053e-07, 4.09139291e-07,\n",
       "       4.04302089e-07, 3.99519970e-07, 3.94751963e-07, 3.90046496e-07,\n",
       "       3.85441425e-07, 3.80888037e-07, 3.76347389e-07, 3.71864484e-07,\n",
       "       3.67475380e-07, 3.63134799e-07, 3.58805699e-07, 3.54529953e-07,\n",
       "       3.50341930e-07, 3.46199488e-07, 3.42067369e-07, 3.37984583e-07,\n",
       "       3.33983909e-07, 3.30026073e-07, 3.26077492e-07, 3.22174556e-07,\n",
       "       3.18348544e-07, 3.14562812e-07, 3.10785343e-07, 3.07050133e-07,\n",
       "       3.03387049e-07, 2.99761847e-07, 2.96143993e-07, 2.92565280e-07,\n",
       "       2.89054247e-07, 2.85578853e-07, 2.82109952e-07, 2.78677323e-07,\n",
       "       2.75308248e-07, 2.71972709e-07, 2.68642864e-07, 2.65346644e-07,\n",
       "       2.62110149e-07, 2.58905212e-07, 2.55705220e-07, 2.52536410e-07,\n",
       "       2.49423765e-07, 2.46340815e-07, 2.43262108e-07, 2.40212323e-07,\n",
       "       2.37215389e-07, 2.34246396e-07, 2.31280981e-07, 2.28342397e-07,\n",
       "       2.25453576e-07, 2.22591041e-07, 2.19731454e-07, 2.16896758e-07,\n",
       "       2.14108947e-07, 2.11345854e-07, 2.08585112e-07, 2.05847460e-07,\n",
       "       2.03154005e-07, 2.00483786e-07, 1.97815346e-07, 1.95168321e-07,\n",
       "       1.92562982e-07, 1.89979471e-07, 1.87397191e-07, 1.84834768e-07,\n",
       "       1.82311682e-07, 1.79809087e-07, 1.77307195e-07, 1.74823707e-07,\n",
       "       1.72377356e-07, 1.69950223e-07, 1.67523283e-07, 1.65113389e-07,\n",
       "       1.62738572e-07, 1.60381759e-07, 1.58024644e-07, 1.55683305e-07,\n",
       "       1.53375109e-07, 1.51083757e-07, 1.48791622e-07, 1.46514071e-07,\n",
       "       1.44267849e-07, 1.42037362e-07, 1.39805618e-07, 1.37587342e-07,\n",
       "       1.35398688e-07, 1.33224707e-07, 1.31049002e-07, 1.28885715e-07,\n",
       "       1.26750445e-07, 1.24628827e-07, 1.22505026e-07, 1.20392651e-07,\n",
       "       1.18306785e-07, 1.16233586e-07, 1.14157749e-07, 1.12092403e-07,\n",
       "       1.10052141e-07, 1.08023601e-07, 1.05991967e-07, 1.03969938e-07,\n",
       "       1.01971652e-07, 9.99841713e-08, 9.79931434e-08, 9.60108798e-08,\n",
       "       9.40510916e-08, 9.21012237e-08, 9.01473518e-08, 8.82014446e-08,\n",
       "       8.62768153e-08, 8.43612473e-08, 8.24412153e-08, 8.05283854e-08,\n",
       "       7.86357006e-08, 7.67512422e-08, 7.48618547e-08, 7.29789394e-08,\n",
       "       7.11150969e-08, 6.92586674e-08, 6.73968368e-08, 6.55407780e-08,\n",
       "       6.37027758e-08, 6.18713924e-08, 6.00341275e-08, 5.82019600e-08,\n",
       "       5.63868850e-08, 5.45776517e-08, 5.27620464e-08, 5.09508870e-08,\n",
       "       4.91559043e-08, 4.73660014e-08, 4.55692241e-08, 4.37762610e-08,\n",
       "       4.19986041e-08, 4.02252777e-08, 3.84445612e-08, 3.66670441e-08,\n",
       "       3.49040046e-08, 3.31445574e-08, 3.13771892e-08, 2.96124197e-08,\n",
       "       2.78613381e-08, 2.61131196e-08, 2.43564324e-08, 2.26017547e-08,\n",
       "       2.08600112e-08, 1.91204089e-08, 1.73717715e-08, 1.56245632e-08,\n",
       "       1.38895691e-08, 1.21559995e-08, 1.04128079e-08, 8.67047121e-09,\n",
       "       6.93965985e-09, 5.20955983e-09, 3.46922848e-09, 1.72918172e-09,\n",
       "       0.00000000e+00])"
      ]
     },
     "execution_count": 581,
     "metadata": {},
     "output_type": "execute_result"
    }
   ],
   "source": [
    "Pxy.imag"
   ]
  },
  {
   "cell_type": "code",
   "execution_count": 587,
   "metadata": {},
   "outputs": [],
   "source": [
    "window = scipy.signal.windows.hamming(M=int(fs*T/8))\n",
    "freqs, Pxy = scipy.signal.csd(x, y, fs=256, nfft=256*2, nperseg=fs*T/8, noverlap=0, detrend=False, window=window)\n",
    "num_2 = np.abs(np.mean(Pxy.imag))\n",
    "den_2 = np.mean(np.abs(Pxy.imag))"
   ]
  },
  {
   "cell_type": "code",
   "execution_count": 588,
   "metadata": {},
   "outputs": [
    {
     "data": {
      "text/plain": [
       "0.0038895403020934908"
      ]
     },
     "execution_count": 588,
     "metadata": {},
     "output_type": "execute_result"
    }
   ],
   "source": [
    "num_2"
   ]
  },
  {
   "cell_type": "code",
   "execution_count": 465,
   "metadata": {},
   "outputs": [
    {
     "data": {
      "text/plain": [
       "-6.193365419688512e-14"
      ]
     },
     "execution_count": 465,
     "metadata": {},
     "output_type": "execute_result"
    }
   ],
   "source": [
    "asdf.get_data(frequency=29.5)[0][1].imag"
   ]
  },
  {
   "cell_type": "code",
   "execution_count": 323,
   "metadata": {},
   "outputs": [
    {
     "data": {
      "text/plain": [
       "array([[ 2.49350939e-12+0.0000000e+00j, -2.49350939e-12-3.1576874e-26j],\n",
       "       [-2.49350939e-12+3.1576874e-26j,  2.49350939e-12+0.0000000e+00j]])"
      ]
     },
     "execution_count": 323,
     "metadata": {},
     "output_type": "execute_result"
    }
   ],
   "source": [
    "asdf.get_data(frequency=30)"
   ]
  },
  {
   "cell_type": "code",
   "execution_count": 321,
   "metadata": {},
   "outputs": [
    {
     "data": {
      "text/plain": [
       "array([[3.53719691e-13+0.j, 3.53719691e-13+0.j],\n",
       "       [3.53719691e-13+0.j, 3.53719691e-13+0.j]])"
      ]
     },
     "execution_count": 321,
     "metadata": {},
     "output_type": "execute_result"
    }
   ],
   "source": [
    "asdf.get_data(frequency=35)"
   ]
  },
  {
   "cell_type": "code",
   "execution_count": 117,
   "metadata": {},
   "outputs": [
    {
     "data": {
      "image/png": "[encoded data removed]",
      "text/plain": [
       "<MNEBrowseFigure size 576x576 with 4 Axes>"
      ]
     },
     "metadata": {
      "needs_background": "light"
     },
     "output_type": "display_data"
    }
   ],
   "source": [
    "y_a = x.copy()\n",
    "y_b = y.copy()\n",
    "\n",
    "info_file = mne.create_info(ch_names = ['Y1', 'Y2'], sfreq=256, ch_types='eeg', verbose=None)\n",
    "raw_file = mne.io.RawArray(data=np.array([y_a, y_b]), info=info_file, first_samp=0, copy='auto', verbose=None)\n",
    "prep.plot_full_eeg(raw_file)"
   ]
  },
  {
   "cell_type": "code",
   "execution_count": 131,
   "metadata": {},
   "outputs": [],
   "source": [
    "epoched = mne.make_fixed_length_epochs(raw_file, duration=10, preload=False, reject_by_annotation=True, proj=True, overlap=0.0, id=1, verbose=None)"
   ]
  },
  {
   "cell_type": "code",
   "execution_count": 132,
   "metadata": {},
   "outputs": [
    {
     "data": {
      "image/png": "[encoded data removed]",
      "text/plain": [
       "<MNEBrowseFigure size 576x576 with 4 Axes>"
      ]
     },
     "metadata": {
      "needs_background": "light"
     },
     "output_type": "display_data"
    }
   ],
   "source": [
    "prep.plot_epoched_eeg(epoched)"
   ]
  },
  {
   "cell_type": "code",
   "execution_count": 167,
   "metadata": {},
   "outputs": [
    {
     "data": {
      "text/plain": [
       "0.9992163009404389"
      ]
     },
     "execution_count": 167,
     "metadata": {},
     "output_type": "execute_result"
    }
   ],
   "source": [
    "con = mnecon.spectral_connectivity_epochs(data=epoched, method='wpli', mode='multitaper', faverage=True, verbose=False,\n",
    "                                          mt_low_bias=True, sfreq=256)\n",
    "con_matrix_multitaper = con.get_data(output='dense')[:,:,0] + np.transpose(con.get_data(output='dense')[:,:,0])\n",
    "con_matrix_multitaper[1][0]"
   ]
  },
  {
   "cell_type": "code",
   "execution_count": 139,
   "metadata": {},
   "outputs": [],
   "source": [
    "import dyconnmap\n",
    "from dyconnmap.fc import wpli"
   ]
  },
  {
   "cell_type": "code",
   "execution_count": 163,
   "metadata": {},
   "outputs": [
    {
     "name": "stderr",
     "output_type": "stream",
     "text": [
      "c:\\program files\\python37\\lib\\site-packages\\dyconnmap\\fc\\wpli.py:96: RuntimeWarning: invalid value encountered in double_scalars\n",
      "  wpliv[pair] = num / denom\n"
     ]
    }
   ],
   "source": [
    "open_preprocessed_eeg = prep.open_preprocessed_epoched(patient_number=1, weaning = PAT_metadata['PAT1'])\n",
    "\n",
    "epoched_array = open_preprocessed_eeg[0].get_data(picks=['eeg'])\n",
    "num_trials, num_channels, num_samples = np.shape(epoched_array)\n",
    "eeg_ts = np.squeeze(epoched_array[0, :, :])\n",
    "sampling_frequency = 256\n",
    "avg = wpli(eeg_ts, fb=[1, 5], fs=sampling_frequency, pairs=None)\n",
    "avg_symm = avg + avg.T"
   ]
  },
  {
   "cell_type": "code",
   "execution_count": 165,
   "metadata": {},
   "outputs": [
    {
     "data": {
      "text/plain": [
       "array([[nan,  0.,  0.,  0.,  0.,  0.,  0.,  0.,  0.,  0.,  0.,  0.,  0.,\n",
       "         0.,  0.,  0.,  0.,  0.,  0.],\n",
       "       [ 0., nan,  0.,  0.,  0.,  0.,  0.,  0.,  0.,  0.,  0.,  0.,  0.,\n",
       "         0.,  0.,  0.,  0.,  0.,  0.],\n",
       "       [ 0.,  0., nan,  0.,  0.,  0.,  0.,  0.,  0.,  0.,  0.,  0.,  0.,\n",
       "         0.,  0.,  0.,  0.,  0.,  0.],\n",
       "       [ 0.,  0.,  0., nan,  0.,  0.,  0.,  0.,  0.,  0.,  0.,  0.,  0.,\n",
       "         0.,  0.,  0.,  0.,  0.,  0.],\n",
       "       [ 0.,  0.,  0.,  0., nan,  0.,  0.,  0.,  0.,  0.,  0.,  0.,  0.,\n",
       "         0.,  0.,  0.,  0.,  0.,  0.],\n",
       "       [ 0.,  0.,  0.,  0.,  0., nan,  0.,  0.,  0.,  0.,  0.,  0.,  0.,\n",
       "         0.,  0.,  0.,  0.,  0.,  0.],\n",
       "       [ 0.,  0.,  0.,  0.,  0.,  0., nan,  0.,  0.,  0.,  0.,  0.,  0.,\n",
       "         0.,  0.,  0.,  0.,  0.,  0.],\n",
       "       [ 0.,  0.,  0.,  0.,  0.,  0.,  0., nan,  0.,  0.,  0.,  0.,  0.,\n",
       "         0.,  0.,  0.,  0.,  0.,  0.],\n",
       "       [ 0.,  0.,  0.,  0.,  0.,  0.,  0.,  0., nan,  0.,  0.,  0.,  0.,\n",
       "         0.,  0.,  0.,  0.,  0.,  0.],\n",
       "       [ 0.,  0.,  0.,  0.,  0.,  0.,  0.,  0.,  0., nan,  0.,  0.,  0.,\n",
       "         0.,  0.,  0.,  0.,  0.,  0.],\n",
       "       [ 0.,  0.,  0.,  0.,  0.,  0.,  0.,  0.,  0.,  0., nan,  0.,  0.,\n",
       "         0.,  0.,  0.,  0.,  0.,  0.],\n",
       "       [ 0.,  0.,  0.,  0.,  0.,  0.,  0.,  0.,  0.,  0.,  0., nan,  0.,\n",
       "         0.,  0.,  0.,  0.,  0.,  0.],\n",
       "       [ 0.,  0.,  0.,  0.,  0.,  0.,  0.,  0.,  0.,  0.,  0.,  0., nan,\n",
       "         0.,  0.,  0.,  0.,  0.,  0.],\n",
       "       [ 0.,  0.,  0.,  0.,  0.,  0.,  0.,  0.,  0.,  0.,  0.,  0.,  0.,\n",
       "        nan,  0.,  0.,  0.,  0.,  0.],\n",
       "       [ 0.,  0.,  0.,  0.,  0.,  0.,  0.,  0.,  0.,  0.,  0.,  0.,  0.,\n",
       "         0., nan,  0.,  0.,  0.,  0.],\n",
       "       [ 0.,  0.,  0.,  0.,  0.,  0.,  0.,  0.,  0.,  0.,  0.,  0.,  0.,\n",
       "         0.,  0., nan,  0.,  0.,  0.],\n",
       "       [ 0.,  0.,  0.,  0.,  0.,  0.,  0.,  0.,  0.,  0.,  0.,  0.,  0.,\n",
       "         0.,  0.,  0., nan,  0.,  0.],\n",
       "       [ 0.,  0.,  0.,  0.,  0.,  0.,  0.,  0.,  0.,  0.,  0.,  0.,  0.,\n",
       "         0.,  0.,  0.,  0., nan,  0.],\n",
       "       [ 0.,  0.,  0.,  0.,  0.,  0.,  0.,  0.,  0.,  0.,  0.,  0.,  0.,\n",
       "         0.,  0.,  0.,  0.,  0., nan]])"
      ]
     },
     "execution_count": 165,
     "metadata": {},
     "output_type": "execute_result"
    }
   ],
   "source": [
    "avg_symm"
   ]
  },
  {
   "cell_type": "code",
   "execution_count": null,
   "metadata": {},
   "outputs": [],
   "source": []
  }
 ],
 "metadata": {
  "kernelspec": {
   "display_name": "Python 3",
   "language": "python",
   "name": "python3"
  },
  "language_info": {
   "codemirror_mode": {
    "name": "ipython",
    "version": 3
   },
   "file_extension": ".py",
   "mimetype": "text/x-python",
   "name": "python",
   "nbconvert_exporter": "python",
   "pygments_lexer": "ipython3",
   "version": "3.7.3"
  },
  "toc": {
   "base_numbering": 1,
   "nav_menu": {},
   "number_sections": false,
   "sideBar": true,
   "skip_h1_title": false,
   "title_cell": "Table of Contents",
   "title_sidebar": "Contents",
   "toc_cell": false,
   "toc_position": {},
   "toc_section_display": true,
   "toc_window_display": false
  },
  "varInspector": {
   "cols": {
    "lenName": 16,
    "lenType": 16,
    "lenVar": 40
   },
   "kernels_config": {
    "python": {
     "delete_cmd_postfix": "",
     "delete_cmd_prefix": "del ",
     "library": "var_list.py",
     "varRefreshCmd": "print(var_dic_list())"
    },
    "r": {
     "delete_cmd_postfix": ") ",
     "delete_cmd_prefix": "rm(",
     "library": "var_list.r",
     "varRefreshCmd": "cat(var_dic_list()) "
    }
   },
   "types_to_exclude": [
    "module",
    "function",
    "builtin_function_or_method",
    "instance",
    "_Feature"
   ],
   "window_display": false
  }
 },
 "nbformat": 4,
 "nbformat_minor": 2
}
