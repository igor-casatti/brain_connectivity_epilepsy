{
 "cells": [
  {
   "cell_type": "code",
   "execution_count": 1,
   "metadata": {},
   "outputs": [],
   "source": [
    "import numpy as np\n",
    "import mne\n",
    "import matplotlib.pyplot as plt\n",
    "import matplotlib\n",
    "import glob, os\n",
    "matplotlib.use('Qt5Agg')\n",
    "#%matplotlib inline\n",
    "import preprocessing as prep\n",
    "import scot\n",
    "import mne_connectivity as mnecon\n",
    "import scipy\n",
    "import pickle"
   ]
  },
  {
   "cell_type": "code",
   "execution_count": 2,
   "metadata": {},
   "outputs": [],
   "source": [
    "from epoch_connectivity import ConnEEG as cnegg"
   ]
  },
  {
   "cell_type": "code",
   "execution_count": null,
   "metadata": {},
   "outputs": [],
   "source": [
    "#SCOT PAPER https://www.frontiersin.org/articles/10.3389/fninf.2014.00022/full"
   ]
  },
  {
   "cell_type": "code",
   "execution_count": 3,
   "metadata": {
    "scrolled": false
   },
   "outputs": [
    {
     "name": "stdout",
     "output_type": "stream",
     "text": [
      "Reading C:\\code_thesis\\brain_connectivity_epilepsy\\preprocessed\\PAT1_AWAKE-epo.fif ...\n",
      "Isotrak not found\n",
      "    Found the data of interest:\n",
      "        t =       0.00 ...   10000.00 ms\n",
      "        0 CTF compensation matrices available\n",
      "Not setting metadata\n",
      "Not setting metadata\n",
      "10 matching events found\n",
      "No baseline correction applied\n",
      "Reading C:\\code_thesis\\brain_connectivity_epilepsy\\preprocessed\\PAT1_SLEEP-epo.fif ...\n",
      "Isotrak not found\n",
      "    Found the data of interest:\n",
      "        t =       0.00 ...   10000.00 ms\n",
      "        0 CTF compensation matrices available\n",
      "Not setting metadata\n",
      "Not setting metadata\n",
      "10 matching events found\n",
      "No baseline correction applied\n"
     ]
    },
    {
     "name": "stderr",
     "output_type": "stream",
     "text": [
      "C:\\code_thesis\\brain_connectivity_epilepsy\\preprocessing.py:156: RuntimeWarning: The events passed to the Epochs constructor are not chronologically ordered.\n",
      "  epoched.append(mne.read_epochs(a_file, proj=False, preload=True, verbose=None))\n",
      "C:\\code_thesis\\brain_connectivity_epilepsy\\preprocessing.py:156: RuntimeWarning: The events passed to the Epochs constructor are not chronologically ordered.\n",
      "  epoched.append(mne.read_epochs(a_file, proj=False, preload=True, verbose=None))\n",
      "C:\\code_thesis\\brain_connectivity_epilepsy\\preprocessing.py:157: RuntimeWarning: The events passed to the Epochs constructor are not chronologically ordered.\n",
      "  epoched.append(mne.read_epochs(b_file, proj=False, preload=True, verbose=None))\n",
      "C:\\code_thesis\\brain_connectivity_epilepsy\\preprocessing.py:157: RuntimeWarning: The events passed to the Epochs constructor are not chronologically ordered.\n",
      "  epoched.append(mne.read_epochs(b_file, proj=False, preload=True, verbose=None))\n"
     ]
    }
   ],
   "source": [
    "epoched = prep.open_preprocessed_epoched(1, weaning=False)\n",
    "\n",
    "a = (epoched[1]).copy()\n",
    "#a.drop_channels(['ECG1', 'ECG2'])\n",
    "sampling_frequency = a.info['sfreq']\n",
    "b = (a.get_data(picks=['eeg']))"
   ]
  },
  {
   "cell_type": "code",
   "execution_count": null,
   "metadata": {},
   "outputs": [],
   "source": [
    "ABL"
   ]
  },
  {
   "cell_type": "code",
   "execution_count": 81,
   "metadata": {},
   "outputs": [],
   "source": [
    "a_names = a.ch_names\n",
    "only_EEG = set(only_EEG_channels(a.ch_names))\n",
    "indices_a, indices_b = [i for i, item in enumerate(a_names) if item in only_EEG], [i for i, item in enumerate(a_names) if item in only_EEG]\n",
    "indices_b = [i for i, item in enumerate(a_names) if item in only_EEG]\n",
    "\n",
    "indices_c = [val for val in indices_a for _ in (range(len(indices_a)))]\n",
    "indices_d = len(indices_b)*indices_b\n",
    "\n",
    "indices = (indices_c, indices_d)"
   ]
  },
  {
   "cell_type": "code",
   "execution_count": 91,
   "metadata": {},
   "outputs": [],
   "source": [
    "a_info = a.info"
   ]
  },
  {
   "cell_type": "code",
   "execution_count": 94,
   "metadata": {},
   "outputs": [],
   "source": [
    "channel_indices = mne.pick_types(a_info, eeg=True)"
   ]
  },
  {
   "cell_type": "code",
   "execution_count": 101,
   "metadata": {},
   "outputs": [
    {
     "data": {
      "text/plain": [
       "['EEG Fp1',\n",
       " 'EEG F3',\n",
       " 'EEG F7',\n",
       " 'EEG C3',\n",
       " 'EEG T3',\n",
       " 'EEG T5',\n",
       " 'EEG P3',\n",
       " 'EEG O1',\n",
       " 'EEG Fp2',\n",
       " 'EEG F4',\n",
       " 'EEG F8',\n",
       " 'EEG C4',\n",
       " 'EEG T4',\n",
       " 'EEG T6',\n",
       " 'EEG P4',\n",
       " 'EEG O2',\n",
       " 'EEG Fz',\n",
       " 'EEG Cz',\n",
       " 'EEG Pz']"
      ]
     },
     "execution_count": 101,
     "metadata": {},
     "output_type": "execute_result"
    }
   ],
   "source": [
    "eeg_names = [a_names[index] for index in channel_indices]\n",
    "eeg_names"
   ]
  },
  {
   "cell_type": "code",
   "execution_count": 95,
   "metadata": {},
   "outputs": [
    {
     "data": {
      "text/plain": [
       "array([ 0,  1,  2,  3,  4,  5,  6,  7,  8,  9, 10, 11, 12, 13, 14, 15, 16,\n",
       "       17, 18])"
      ]
     },
     "execution_count": 95,
     "metadata": {},
     "output_type": "execute_result"
    }
   ],
   "source": [
    "channel_indices"
   ]
  },
  {
   "cell_type": "code",
   "execution_count": 80,
   "metadata": {},
   "outputs": [
    {
     "data": {
      "text/plain": [
       "361"
      ]
     },
     "execution_count": 80,
     "metadata": {},
     "output_type": "execute_result"
    }
   ],
   "source": [
    "len(indices_d)"
   ]
  },
  {
   "cell_type": "code",
   "execution_count": 83,
   "metadata": {},
   "outputs": [
    {
     "name": "stdout",
     "output_type": "stream",
     "text": [
      "Connectivity computation...\n",
      "    computing connectivity for 361 connections\n",
      "    using t=0.000s..10.000s for estimation (2561 points)\n",
      "    frequencies: 0.6Hz..3.0Hz (25 points)\n",
      "    connectivity scores will be averaged for each band\n",
      "    Using multitaper spectrum estimation with 7 DPSS windows\n",
      "    the following metrics will be computed: WPLI\n",
      "    computing connectivity for epoch 1\n",
      "    computing connectivity for epoch 2\n",
      "    computing connectivity for epoch 3\n",
      "    computing connectivity for epoch 4\n",
      "    computing connectivity for epoch 5\n",
      "    computing connectivity for epoch 6\n",
      "    computing connectivity for epoch 7\n",
      "    computing connectivity for epoch 8\n",
      "    computing connectivity for epoch 9\n",
      "    computing connectivity for epoch 10\n",
      "[Connectivity computation done]\n"
     ]
    }
   ],
   "source": [
    "ABLUBLE = mnecon.spectral_connectivity_epochs(data=a, method='wpli', mode='multitaper',\n",
    "                                              fmin=0.5, fmax=3, faverage=True, indices=indices)"
   ]
  },
  {
   "cell_type": "code",
   "execution_count": 87,
   "metadata": {},
   "outputs": [
    {
     "data": {
      "text/plain": [
       "array([[0.        , 0.51085264, 0.47613388, 0.442963  , 0.33322115,\n",
       "        0.26444556, 0.26998116, 0.23436228, 0.49546391, 0.34153516,\n",
       "        0.42064671, 0.21422772, 0.40866806, 0.25291542, 0.39850053,\n",
       "        0.22200453, 0.33087902, 0.30937873, 0.37263381,        nan,\n",
       "               nan],\n",
       "       [0.51085264, 0.        , 0.31828836, 0.35823265, 0.23875551,\n",
       "        0.36466771, 0.51684796, 0.40222731, 0.54869658, 0.33195153,\n",
       "        0.43977876, 0.29121356, 0.40619256, 0.67711458, 0.42875894,\n",
       "        0.4031047 , 0.55835886, 0.4491441 , 0.54279247,        nan,\n",
       "               nan],\n",
       "       [0.47613388, 0.31828836, 0.        , 0.23229539, 0.36522435,\n",
       "        0.32021888, 0.37762547, 0.29516426, 0.33096696, 0.20026634,\n",
       "        0.18621541, 0.26182395, 0.21763544, 0.30774332, 0.27589202,\n",
       "        0.22104314, 0.32612745, 0.52545956, 0.22736572,        nan,\n",
       "               nan],\n",
       "       [0.442963  , 0.35823265, 0.23229539, 0.        , 0.17398907,\n",
       "        0.20658211, 0.47203691, 0.33952094, 0.3849976 , 0.19371864,\n",
       "        0.47097965, 0.29083259, 0.43231753, 0.36089542, 0.47734038,\n",
       "        0.35907241, 0.3594671 , 0.34671179, 0.59291514,        nan,\n",
       "               nan],\n",
       "       [0.33322115, 0.23875551, 0.36522435, 0.17398907, 0.        ,\n",
       "        0.26321668, 0.26216186, 0.29088661, 0.28743615, 0.41813882,\n",
       "        0.26849631, 0.37912832, 0.26538025, 0.24996878, 0.27638456,\n",
       "        0.22075827, 0.27200368, 0.42231911, 0.18806311,        nan,\n",
       "               nan],\n",
       "       [0.26444556, 0.36466771, 0.32021888, 0.20658211, 0.26321668,\n",
       "        0.        , 0.40755489, 0.3069368 , 0.26775409, 0.38984835,\n",
       "        0.18769282, 0.27495273, 0.20054258, 0.22644878, 0.44144148,\n",
       "        0.23842862, 0.42552217, 0.27293596, 0.3796556 ,        nan,\n",
       "               nan],\n",
       "       [0.26998116, 0.51684796, 0.37762547, 0.47203691, 0.26216186,\n",
       "        0.40755489, 0.        , 0.59164916, 0.48738477, 0.53678527,\n",
       "        0.48188024, 0.31279197, 0.4357113 , 0.44194736, 0.27907882,\n",
       "        0.4835269 , 0.48140426, 0.38128241, 0.3197725 ,        nan,\n",
       "               nan],\n",
       "       [0.23436228, 0.40222731, 0.29516426, 0.33952094, 0.29088661,\n",
       "        0.3069368 , 0.59164916, 0.        , 0.38660645, 0.34919617,\n",
       "        0.44187498, 0.30848152, 0.33829535, 0.35379986, 0.55978461,\n",
       "        0.20032983, 0.61824833, 0.43849798, 0.54193251,        nan,\n",
       "               nan],\n",
       "       [0.49546391, 0.54869658, 0.33096696, 0.3849976 , 0.28743615,\n",
       "        0.26775409, 0.48738477, 0.38660645, 0.        , 0.41793011,\n",
       "        0.31070003, 0.31009214, 0.32564481, 0.40642001, 0.28927139,\n",
       "        0.3802379 , 0.34410904, 0.22702334, 0.34705824,        nan,\n",
       "               nan],\n",
       "       [0.34153516, 0.33195153, 0.20026634, 0.19371864, 0.41813882,\n",
       "        0.38984835, 0.53678527, 0.34919617, 0.41793011, 0.        ,\n",
       "        0.18760529, 0.47064418, 0.20098697, 0.33578987, 0.29100615,\n",
       "        0.25838194, 0.49451761, 0.46285451, 0.3160479 ,        nan,\n",
       "               nan],\n",
       "       [0.42064671, 0.43977876, 0.18621541, 0.47097965, 0.26849631,\n",
       "        0.18769282, 0.48188024, 0.44187498, 0.31070003, 0.18760529,\n",
       "        0.        , 0.13699823, 0.32179918, 0.43360946, 0.36130882,\n",
       "        0.41444695, 0.38942204, 0.3657517 , 0.41206446,        nan,\n",
       "               nan],\n",
       "       [0.21422772, 0.29121356, 0.26182395, 0.29083259, 0.37912832,\n",
       "        0.27495273, 0.31279197, 0.30848152, 0.31009214, 0.47064418,\n",
       "        0.13699823, 0.        , 0.16150661, 0.2114801 , 0.35876813,\n",
       "        0.1905915 , 0.28281591, 0.46977044, 0.20050653,        nan,\n",
       "               nan],\n",
       "       [0.40866806, 0.40619256, 0.21763544, 0.43231753, 0.26538025,\n",
       "        0.20054258, 0.4357113 , 0.33829535, 0.32564481, 0.20098697,\n",
       "        0.32179918, 0.16150661, 0.        , 0.45207667, 0.40988097,\n",
       "        0.41399656, 0.39652122, 0.31789544, 0.41710949,        nan,\n",
       "               nan],\n",
       "       [0.25291542, 0.67711458, 0.30774332, 0.36089542, 0.24996878,\n",
       "        0.22644878, 0.44194736, 0.35379986, 0.40642001, 0.33578987,\n",
       "        0.43360946, 0.2114801 , 0.45207667, 0.        , 0.39657565,\n",
       "        0.36540667, 0.58466693, 0.44471174, 0.434077  ,        nan,\n",
       "               nan],\n",
       "       [0.39850053, 0.42875894, 0.27589202, 0.47734038, 0.27638456,\n",
       "        0.44144148, 0.27907882, 0.55978461, 0.28927139, 0.29100615,\n",
       "        0.36130882, 0.35876813, 0.40988097, 0.39657565, 0.        ,\n",
       "        0.59604521, 0.35945025, 0.48388301, 0.5488253 ,        nan,\n",
       "               nan],\n",
       "       [0.22200453, 0.4031047 , 0.22104314, 0.35907241, 0.22075827,\n",
       "        0.23842862, 0.4835269 , 0.20032983, 0.3802379 , 0.25838194,\n",
       "        0.41444695, 0.1905915 , 0.41399656, 0.36540667, 0.59604521,\n",
       "        0.        , 0.5622203 , 0.46360089, 0.58535524,        nan,\n",
       "               nan],\n",
       "       [0.33087902, 0.55835886, 0.32612745, 0.3594671 , 0.27200368,\n",
       "        0.42552217, 0.48140426, 0.61824833, 0.34410904, 0.49451761,\n",
       "        0.38942204, 0.28281591, 0.39652122, 0.58466693, 0.35945025,\n",
       "        0.5622203 , 0.        , 0.44615237, 0.48041213,        nan,\n",
       "               nan],\n",
       "       [0.30937873, 0.4491441 , 0.52545956, 0.34671179, 0.42231911,\n",
       "        0.27293596, 0.38128241, 0.43849798, 0.22702334, 0.46285451,\n",
       "        0.3657517 , 0.46977044, 0.31789544, 0.44471174, 0.48388301,\n",
       "        0.46360089, 0.44615237, 0.        , 0.49549241,        nan,\n",
       "               nan],\n",
       "       [0.37263381, 0.54279247, 0.22736572, 0.59291514, 0.18806311,\n",
       "        0.3796556 , 0.3197725 , 0.54193251, 0.34705824, 0.3160479 ,\n",
       "        0.41206446, 0.20050653, 0.41710949, 0.434077  , 0.5488253 ,\n",
       "        0.58535524, 0.48041213, 0.49549241, 0.        ,        nan,\n",
       "               nan],\n",
       "       [       nan,        nan,        nan,        nan,        nan,\n",
       "               nan,        nan,        nan,        nan,        nan,\n",
       "               nan,        nan,        nan,        nan,        nan,\n",
       "               nan,        nan,        nan,        nan,        nan,\n",
       "               nan],\n",
       "       [       nan,        nan,        nan,        nan,        nan,\n",
       "               nan,        nan,        nan,        nan,        nan,\n",
       "               nan,        nan,        nan,        nan,        nan,\n",
       "               nan,        nan,        nan,        nan,        nan,\n",
       "               nan]])"
      ]
     },
     "execution_count": 87,
     "metadata": {},
     "output_type": "execute_result"
    }
   ],
   "source": [
    "ABLUBLE.get_data(output='dense')[:, :, 0]"
   ]
  },
  {
   "cell_type": "code",
   "execution_count": 73,
   "metadata": {},
   "outputs": [],
   "source": [
    "GG = ABLUBLE.get_data(output='dense')[:,:,0] + np.transpose(ABLUBLE.get_data(output='dense')[:,:,0])"
   ]
  },
  {
   "cell_type": "code",
   "execution_count": 74,
   "metadata": {},
   "outputs": [
    {
     "data": {
      "image/png": "[encoded data removed]",
      "text/plain": [
       "<Figure size 432x288 with 2 Axes>"
      ]
     },
     "metadata": {
      "needs_background": "light"
     },
     "output_type": "display_data"
    }
   ],
   "source": [
    "ABLUBLE.get_data(output='dense')[:,:,0]\n",
    "\n",
    "import numpy as np\n",
    "import seaborn as sns\n",
    "import matplotlib.pylab as plt\n",
    "\n",
    "ax = sns.heatmap(GG, linewidth=0.1)\n",
    "plt.show()"
   ]
  },
  {
   "cell_type": "code",
   "execution_count": 96,
   "metadata": {},
   "outputs": [],
   "source": [
    "TESTE = ABLUBLE.get_data(output='dense')[:,:,0]\n",
    "\n",
    "channel_indices = mne.pick_types(a_info, eeg=True)\n",
    "\n",
    "TESTE = TESTE[np.ix_(channel_indices, channel_indices)]"
   ]
  },
  {
   "cell_type": "code",
   "execution_count": 97,
   "metadata": {},
   "outputs": [
    {
     "data": {
      "image/png": "[encoded data removed]",
      "text/plain": [
       "<Figure size 432x288 with 2 Axes>"
      ]
     },
     "metadata": {
      "needs_background": "light"
     },
     "output_type": "display_data"
    }
   ],
   "source": [
    "ABLUBLE.get_data(output='dense')[:,:,0]\n",
    "\n",
    "import numpy as np\n",
    "import seaborn as sns\n",
    "import matplotlib.pylab as plt\n",
    "\n",
    "ax = sns.heatmap(TESTE, linewidth=0.1)\n",
    "plt.show()"
   ]
  },
  {
   "cell_type": "code",
   "execution_count": 88,
   "metadata": {},
   "outputs": [
    {
     "data": {
      "image/png": "[encoded data removed]",
      "text/plain": [
       "<Figure size 432x288 with 2 Axes>"
      ]
     },
     "metadata": {
      "needs_background": "light"
     },
     "output_type": "display_data"
    }
   ],
   "source": [
    "ABLUBLE.get_data(output='dense')[:,:,0]\n",
    "\n",
    "import numpy as np\n",
    "import seaborn as sns\n",
    "import matplotlib.pylab as plt\n",
    "\n",
    "ax = sns.heatmap(ABLUBLE.get_data(output='dense')[:,:,0], linewidth=0.1)\n",
    "plt.show()"
   ]
  },
  {
   "cell_type": "code",
   "execution_count": 4,
   "metadata": {},
   "outputs": [],
   "source": [
    "myConn = cnegg.EEGConnection(a)"
   ]
  },
  {
   "cell_type": "code",
   "execution_count": 5,
   "metadata": {},
   "outputs": [
    {
     "name": "stderr",
     "output_type": "stream",
     "text": [
      "c:\\program files\\python37\\lib\\site-packages\\scot\\external\\infomax_.py:183: RuntimeWarning: overflow encountered in exp\n",
      "  y = 1.0 / (1.0 + np.exp(-u))\n"
     ]
    }
   ],
   "source": [
    "myConn.fit_MVAR_on_epochs()"
   ]
  },
  {
   "cell_type": "code",
   "execution_count": 8,
   "metadata": {},
   "outputs": [],
   "source": [
    "QWERTY = myConn.integrated_measure_epochs('PDC', nfft=512, frequency_band=[5, 10])"
   ]
  },
  {
   "cell_type": "code",
   "execution_count": 10,
   "metadata": {},
   "outputs": [],
   "source": [
    "pickle.dump(myConn, open( \"save.p\", \"wb\" ))"
   ]
  },
  {
   "cell_type": "code",
   "execution_count": 11,
   "metadata": {},
   "outputs": [],
   "source": [
    "myConnLoaded = pickle.load( open( \"save.p\", \"rb\" ) )"
   ]
  },
  {
   "cell_type": "code",
   "execution_count": 12,
   "metadata": {},
   "outputs": [],
   "source": [
    "QWERTY = myConnLoaded.integrated_measure_epochs('PDC', nfft=512, frequency_band=[5, 10])"
   ]
  },
  {
   "cell_type": "code",
   "execution_count": 13,
   "metadata": {},
   "outputs": [
    {
     "data": {
      "image/png": "[encoded data removed]",
      "text/plain": [
       "<Figure size 432x288 with 2 Axes>"
      ]
     },
     "metadata": {
      "needs_background": "light"
     },
     "output_type": "display_data"
    }
   ],
   "source": [
    "import numpy as np\n",
    "import seaborn as sns\n",
    "import matplotlib.pylab as plt\n",
    "\n",
    "ax = sns.heatmap(QWERTY, linewidth=0.1)\n",
    "plt.show()"
   ]
  },
  {
   "cell_type": "code",
   "execution_count": 9,
   "metadata": {},
   "outputs": [
    {
     "data": {
      "image/png": "[encoded data removed]",
      "text/plain": [
       "<Figure size 432x288 with 2 Axes>"
      ]
     },
     "metadata": {
      "needs_background": "light"
     },
     "output_type": "display_data"
    }
   ],
   "source": [
    "import numpy as np\n",
    "import seaborn as sns\n",
    "import matplotlib.pylab as plt\n",
    "\n",
    "ax = sns.heatmap(QWERTY, linewidth=0.1)\n",
    "plt.show()"
   ]
  },
  {
   "cell_type": "code",
   "execution_count": 77,
   "metadata": {},
   "outputs": [
    {
     "data": {
      "text/plain": [
       "'The first dimension is the sink, the second dimension is the source'"
      ]
     },
     "execution_count": 77,
     "metadata": {},
     "output_type": "execute_result"
    }
   ],
   "source": [
    "\"\"\"The first dimension is the sink, the second dimension is the source\"\"\""
   ]
  },
  {
   "cell_type": "code",
   "execution_count": 26,
   "metadata": {},
   "outputs": [
    {
     "name": "stderr",
     "output_type": "stream",
     "text": [
      "c:\\program files\\python37\\lib\\site-packages\\scot\\external\\infomax_.py:183: RuntimeWarning: overflow encountered in exp\n",
      "  y = 1.0 / (1.0 + np.exp(-u))\n"
     ]
    }
   ],
   "source": [
    "varx = scot.var.VAR(model_order=20)\n",
    "result = scot.varica.mvarica(x=b[0:10], var=varx, reducedim='no_pca', optimize_var=True, varfit='trial')"
   ]
  },
  {
   "cell_type": "code",
   "execution_count": 27,
   "metadata": {},
   "outputs": [
    {
     "data": {
      "text/plain": [
       "(19, 380)"
      ]
     },
     "execution_count": 27,
     "metadata": {},
     "output_type": "execute_result"
    }
   ],
   "source": [
    "np.shape(result.a.coef)"
   ]
  },
  {
   "cell_type": "code",
   "execution_count": 28,
   "metadata": {},
   "outputs": [],
   "source": [
    "conn = scot.Connectivity(b = result.a.coef, c = result.a.rescov, nfft=512)"
   ]
  },
  {
   "cell_type": "code",
   "execution_count": 29,
   "metadata": {},
   "outputs": [
    {
     "data": {
      "text/plain": [
       "(19, 19, 512)"
      ]
     },
     "execution_count": 29,
     "metadata": {},
     "output_type": "execute_result"
    }
   ],
   "source": [
    "cm_1 = conn.PDC()\n",
    "np.shape(cm_1)"
   ]
  },
  {
   "cell_type": "code",
   "execution_count": 30,
   "metadata": {},
   "outputs": [],
   "source": [
    "x = np.linspace(0, sampling_frequency/2, 512)\n",
    "asdf = scipy.integrate.simps(y=cm_1[:,:,0:10], x=x[0:10])"
   ]
  },
  {
   "cell_type": "code",
   "execution_count": 31,
   "metadata": {},
   "outputs": [
    {
     "data": {
      "image/png": "[encoded data removed]",
      "text/plain": [
       "<Figure size 432x288 with 2 Axes>"
      ]
     },
     "metadata": {
      "needs_background": "light"
     },
     "output_type": "display_data"
    }
   ],
   "source": [
    "import numpy as np\n",
    "import seaborn as sns\n",
    "import matplotlib.pylab as plt\n",
    "\n",
    "ax = sns.heatmap(asdf, linewidth=0.1)\n",
    "plt.show()"
   ]
  },
  {
   "cell_type": "code",
   "execution_count": 18,
   "metadata": {},
   "outputs": [
    {
     "data": {
      "image/png": "[encoded data removed]",
      "text/plain": [
       "<Figure size 432x288 with 2 Axes>"
      ]
     },
     "metadata": {
      "needs_background": "light"
     },
     "output_type": "display_data"
    }
   ],
   "source": [
    "import numpy as np\n",
    "import seaborn as sns\n",
    "import matplotlib.pylab as plt\n",
    "\n",
    "ax = sns.heatmap(asdf, linewidth=0.1)\n",
    "plt.show()"
   ]
  },
  {
   "cell_type": "code",
   "execution_count": 95,
   "metadata": {},
   "outputs": [
    {
     "data": {
      "image/png": "[encoded data removed]",
      "text/plain": [
       "<Figure size 432x288 with 2 Axes>"
      ]
     },
     "metadata": {
      "needs_background": "light"
     },
     "output_type": "display_data"
    }
   ],
   "source": [
    "x = np.linspace(0, sampling_frequency/2, 512)\n",
    "asdf = scipy.integrate.simps(y=cm_1[:,:,0:10], x=x[0:10])\n",
    "ax = sns.heatmap(asdf, linewidth=0.1)\n",
    "plt.show()"
   ]
  },
  {
   "cell_type": "code",
   "execution_count": 97,
   "metadata": {},
   "outputs": [
    {
     "data": {
      "image/png": "[encoded data removed]",
      "text/plain": [
       "<Figure size 432x288 with 2 Axes>"
      ]
     },
     "metadata": {
      "needs_background": "light"
     },
     "output_type": "display_data"
    }
   ],
   "source": [
    "x = np.linspace(0, sampling_frequency/2, 512)\n",
    "asdf = scipy.integrate.simps(y=cm_1[:,:,0:10], x=x[0:10])\n",
    "ax = sns.heatmap(asdf, linewidth=0.1)\n",
    "plt.show()"
   ]
  },
  {
   "cell_type": "code",
   "execution_count": null,
   "metadata": {},
   "outputs": [],
   "source": []
  }
 ],
 "metadata": {
  "kernelspec": {
   "display_name": "Python 3",
   "language": "python",
   "name": "python3"
  },
  "language_info": {
   "codemirror_mode": {
    "name": "ipython",
    "version": 3
   },
   "file_extension": ".py",
   "mimetype": "text/x-python",
   "name": "python",
   "nbconvert_exporter": "python",
   "pygments_lexer": "ipython3",
   "version": "3.7.3"
  },
  "toc": {
   "base_numbering": 1,
   "nav_menu": {},
   "number_sections": false,
   "sideBar": true,
   "skip_h1_title": false,
   "title_cell": "Table of Contents",
   "title_sidebar": "Contents",
   "toc_cell": false,
   "toc_position": {},
   "toc_section_display": true,
   "toc_window_display": false
  },
  "varInspector": {
   "cols": {
    "lenName": 16,
    "lenType": 16,
    "lenVar": 40
   },
   "kernels_config": {
    "python": {
     "delete_cmd_postfix": "",
     "delete_cmd_prefix": "del ",
     "library": "var_list.py",
     "varRefreshCmd": "print(var_dic_list())"
    },
    "r": {
     "delete_cmd_postfix": ") ",
     "delete_cmd_prefix": "rm(",
     "library": "var_list.r",
     "varRefreshCmd": "cat(var_dic_list()) "
    }
   },
   "types_to_exclude": [
    "module",
    "function",
    "builtin_function_or_method",
    "instance",
    "_Feature"
   ],
   "window_display": false
  }
 },
 "nbformat": 4,
 "nbformat_minor": 2
}
