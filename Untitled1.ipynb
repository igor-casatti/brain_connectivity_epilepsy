{
 "cells": [
  {
   "cell_type": "code",
   "execution_count": 1,
   "metadata": {},
   "outputs": [],
   "source": [
    "import numpy as np\n",
    "import mne\n",
    "import matplotlib.pyplot as plt\n",
    "import glob, os\n",
    "import scipy\n",
    "#matplotlib.use('Qt5Agg')\n",
    "%matplotlib inline\n",
    "import preprocessing as prep\n",
    "import scot\n",
    "import mne_connectivity as mnecon\n",
    "import connectivipy as cp\n",
    "\n",
    "import statsmodels.tsa.vector_ar.var_model as smvar\n",
    "from epoch_connectivity import ConnEEG_v2 as cnegg"
   ]
  },
  {
   "cell_type": "code",
   "execution_count": 2,
   "metadata": {},
   "outputs": [
    {
     "name": "stdout",
     "output_type": "stream",
     "text": [
      "Reading C:\\code_thesis\\brain_connectivity_epilepsy\\preprocessed\\PAT8_AWAKE-epo.fif ...\n",
      "Isotrak not found\n",
      "    Found the data of interest:\n",
      "        t =       0.00 ...   10000.00 ms\n",
      "        0 CTF compensation matrices available\n",
      "Not setting metadata\n",
      "Not setting metadata\n",
      "10 matching events found\n",
      "No baseline correction applied\n",
      "Reading C:\\code_thesis\\brain_connectivity_epilepsy\\preprocessed\\PAT8_SLEEP-epo.fif ...\n",
      "Isotrak not found\n",
      "    Found the data of interest:\n",
      "        t =       0.00 ...   10000.00 ms\n",
      "        0 CTF compensation matrices available\n",
      "Not setting metadata\n",
      "Not setting metadata\n",
      "10 matching events found\n",
      "No baseline correction applied\n"
     ]
    },
    {
     "name": "stderr",
     "output_type": "stream",
     "text": [
      "C:\\code_thesis\\brain_connectivity_epilepsy\\preprocessing.py:156: RuntimeWarning: The events passed to the Epochs constructor are not chronologically ordered.\n",
      "  epoched.append(mne.read_epochs(a_file, proj=False, preload=True, verbose=None))\n",
      "C:\\code_thesis\\brain_connectivity_epilepsy\\preprocessing.py:156: RuntimeWarning: The events passed to the Epochs constructor are not chronologically ordered.\n",
      "  epoched.append(mne.read_epochs(a_file, proj=False, preload=True, verbose=None))\n",
      "C:\\code_thesis\\brain_connectivity_epilepsy\\preprocessing.py:157: RuntimeWarning: The events passed to the Epochs constructor are not chronologically ordered.\n",
      "  epoched.append(mne.read_epochs(b_file, proj=False, preload=True, verbose=None))\n",
      "C:\\code_thesis\\brain_connectivity_epilepsy\\preprocessing.py:157: RuntimeWarning: The events passed to the Epochs constructor are not chronologically ordered.\n",
      "  epoched.append(mne.read_epochs(b_file, proj=False, preload=True, verbose=None))\n"
     ]
    }
   ],
   "source": [
    "epoched = prep.open_preprocessed_epoched(8, weaning=False)\n",
    "\n",
    "a = (epoched[0]).copy()\n",
    "a.drop_channels(['ECG1', 'ECG2'])\n",
    "sampling_frequency = a.info['sfreq']\n",
    "b = (a.get_data())[0]"
   ]
  },
  {
   "cell_type": "code",
   "execution_count": 3,
   "metadata": {},
   "outputs": [],
   "source": [
    "myConn = cnegg.EEG_DirectedConnection(a)\n",
    "myConn.fit_MVAR_on_epochs()"
   ]
  },
  {
   "cell_type": "code",
   "execution_count": null,
   "metadata": {},
   "outputs": [],
   "source": [
    "myConn.plot_connectivity_hmp(measure='DTF', frequency_band=[5, 10])"
   ]
  },
  {
   "cell_type": "code",
   "execution_count": 77,
   "metadata": {},
   "outputs": [
    {
     "name": "stderr",
     "output_type": "stream",
     "text": [
      "c:\\program files\\python37\\lib\\site-packages\\scot\\external\\infomax_.py:183: RuntimeWarning: overflow encountered in exp\n",
      "  y = 1.0 / (1.0 + np.exp(-u))\n"
     ]
    }
   ],
   "source": [
    "my_data = (a.get_data())[0:11]\n",
    "\n",
    "varx = scot.var.VAR(model_order=20)\n",
    "result = scot.varica.mvarica(x=my_data, var=varx, reducedim='no_pca', optimize_var=True, varfit='trial')"
   ]
  },
  {
   "cell_type": "code",
   "execution_count": 78,
   "metadata": {},
   "outputs": [],
   "source": [
    "frequency_band = [0, 30]\n",
    "sfreq = 256\n",
    "nfft = sfreq * 2\n",
    "\n",
    "conn = scot.Connectivity(b = result.a.coef, c = result.a.rescov, nfft=nfft)\n",
    "measure = conn.PDC()\n",
    "\n",
    "x = np.linspace(0, sfreq/2, nfft)\n",
    "\n",
    "freq_resolution = (sfreq/2)/(nfft - 1)\n",
    "i, j = 0, nfft\n",
    "if frequency_band is not None:\n",
    "    low, high = frequency_band[0], frequency_band[1]\n",
    "    i, j = int(low/freq_resolution), int(high/freq_resolution)\n",
    "integrated_measure_2 = scipy.integrate.simps(y=measure[:,:,i:j+1], x=x[i:j+1])"
   ]
  },
  {
   "cell_type": "code",
   "execution_count": 76,
   "metadata": {},
   "outputs": [
    {
     "data": {
      "image/png": "[encoded data removed]",
      "text/plain": [
       "<Figure size 432x288 with 2 Axes>"
      ]
     },
     "metadata": {
      "needs_background": "light"
     },
     "output_type": "display_data"
    }
   ],
   "source": [
    "import numpy as np\n",
    "import seaborn as sns\n",
    "import matplotlib.pylab as plt\n",
    "\n",
    "ax = sns.heatmap(integrated_measure_1, linewidth=0.1, cmap='viridis')\n",
    "ax.set_title('Just two')\n",
    "plt.show()"
   ]
  },
  {
   "cell_type": "code",
   "execution_count": 79,
   "metadata": {},
   "outputs": [
    {
     "data": {
      "image/png": "[encoded data removed]",
      "text/plain": [
       "<Figure size 432x288 with 2 Axes>"
      ]
     },
     "metadata": {
      "needs_background": "light"
     },
     "output_type": "display_data"
    }
   ],
   "source": [
    "import numpy as np\n",
    "import seaborn as sns\n",
    "import matplotlib.pylab as plt\n",
    "\n",
    "ax = sns.heatmap(integrated_measure_2, linewidth=0.1, cmap='viridis')\n",
    "ax.set_title('All epochs')\n",
    "plt.show()"
   ]
  },
  {
   "cell_type": "code",
   "execution_count": 50,
   "metadata": {},
   "outputs": [
    {
     "data": {
      "text/plain": [
       "(512,)"
      ]
     },
     "execution_count": 50,
     "metadata": {},
     "output_type": "execute_result"
    }
   ],
   "source": [
    "np.shape(x)"
   ]
  },
  {
   "cell_type": "code",
   "execution_count": 96,
   "metadata": {},
   "outputs": [],
   "source": [
    "b = (a.get_data())[0]\n",
    "\n",
    "myMVAR = cp.Mvar\n",
    "av, vf = myMVAR.fit(b, 20, 'vm')"
   ]
  },
  {
   "cell_type": "code",
   "execution_count": 288,
   "metadata": {},
   "outputs": [],
   "source": [
    "i_measures = []\n",
    "frequency_band = [0.5, 4]\n",
    "sfreq = 256\n",
    "nfft = sfreq * 2\n",
    "\n",
    "for epoch in range(len(a.get_data())):\n",
    "    \n",
    "    b = (a.get_data())[epoch]\n",
    "    \n",
    "    #b_mean, b_var = np.mean(b, axis=1), np.var(b, axis=1)\n",
    "    #b_mean, b_var = b_mean.reshape((19,1)), b_var.reshape((19,1))\n",
    "    #b = b - b_mean\n",
    "    #b = b / b_var\n",
    "    \n",
    "    #myMVAR = cp.Mvar\n",
    "    #av, vf = myMVAR.fit(b, 10, 'yw')\n",
    "    \n",
    "    myMVAR = smvar.VAR(endog=b.T)\n",
    "    results = myMVAR.fit(ic='aic', trend='n')\n",
    "    \n",
    "    #asdf = []\n",
    "\n",
    "    \"\"\"for i in range(len(av)):\n",
    "        asdf.append(av[i])\n",
    "    av = np.hstack(tuple(asdf))\"\"\"\n",
    "    \n",
    "    #dtf = cp.conn.PDC()\n",
    "    #dtfval = dtf.calculate(av, vf, fs=sfreq, resolution=nfft)\n",
    "    \n",
    "    #myMVAR = scot.var.VAR(model_order=50)\n",
    "    #myMVAR.fit(data=b)\n",
    "    \n",
    "    #conn = scot.Connectivity(b = myMVAR.coef, c = myMVAR.rescov, nfft=nfft)\n",
    "    #conn = scot.Connectivity(b = av, c = vf, nfft=nfft)\n",
    "    #conn = scot.Connectivity(b = results.params.T, c = results.resid_acov(nlags=0)[0], nfft=nfft)\n",
    "    conn = scot.Connectivity(b = results.params.T, c = results.sigma_u, nfft=nfft)\n",
    "    dtfval = conn.DTF()\n",
    "    \n",
    "    #A, sig = mvar_fit(b, 10)\n",
    "    #sigma = np.diag(sig)\n",
    "    #D, freqs = DTF(A, sigma, nfft)\n",
    "\n",
    "    x = np.linspace(0, sfreq/2, nfft)\n",
    "\n",
    "    freq_resolution = (sfreq/2)/(nfft - 1)\n",
    "    i, j = 0, nfft\n",
    "    if frequency_band is not None:\n",
    "        low, high = frequency_band[0], frequency_band[1]\n",
    "        i, j = int(low/freq_resolution), int(high/freq_resolution)\n",
    "    integrated_measure = scipy.integrate.simps(y=dtfval[:,:,i:j+1], x=x[i:j+1])\n",
    "\n",
    "    i_measures.append(integrated_measure)\n",
    "i_measures = np.array(i_measures)"
   ]
  },
  {
   "cell_type": "code",
   "execution_count": 298,
   "metadata": {},
   "outputs": [
    {
     "data": {
      "text/plain": [
       "array([[[0.22933356, 0.22933322, 0.22933237, ..., 0.22787953,\n",
       "         0.22786125, 0.22768256],\n",
       "        [0.2295891 , 0.22959158, 0.2295983 , ..., 0.23179585,\n",
       "         0.23205781, 0.23193892],\n",
       "        [0.22943965, 0.22943986, 0.22944055, ..., 0.22785278,\n",
       "         0.22745568, 0.22743519],\n",
       "        ...,\n",
       "        [0.22950046, 0.22949562, 0.22948178, ..., 0.23015878,\n",
       "         0.2298852 , 0.22947161],\n",
       "        [0.22964803, 0.22964868, 0.22965029, ..., 0.22853399,\n",
       "         0.2284747 , 0.22855616],\n",
       "        [0.22892472, 0.22892517, 0.22892647, ..., 0.23272429,\n",
       "         0.2330724 , 0.23300556]],\n",
       "\n",
       "       [[0.23063574, 0.23002684, 0.22981071, ..., 0.22787592,\n",
       "         0.22764945, 0.22594699],\n",
       "        [0.21686133, 0.22434901, 0.22687359, ..., 0.23118599,\n",
       "         0.23005109, 0.21969742],\n",
       "        [0.22957563, 0.22949524, 0.22946509, ..., 0.22950259,\n",
       "         0.23064074, 0.24066424],\n",
       "        ...,\n",
       "        [0.24808983, 0.23727689, 0.23346   , ..., 0.23280527,\n",
       "         0.23110585, 0.21715984],\n",
       "        [0.22523777, 0.22742916, 0.22817195, ..., 0.22844631,\n",
       "         0.22953565, 0.23792438],\n",
       "        [0.2297153 , 0.22934099, 0.22922801, ..., 0.23000189,\n",
       "         0.22911178, 0.22132227]],\n",
       "\n",
       "       [[0.22940252, 0.22940212, 0.22940096, ..., 0.2270468 ,\n",
       "         0.22597072, 0.22177264],\n",
       "        [0.22960555, 0.22960533, 0.22960467, ..., 0.22088719,\n",
       "         0.21338998, 0.19499399],\n",
       "        [0.22941444, 0.22941433, 0.22941399, ..., 0.24057501,\n",
       "         0.2474516 , 0.2611435 ],\n",
       "        ...,\n",
       "        [0.229842  , 0.22984385, 0.22984927, ..., 0.21982628,\n",
       "         0.21067631, 0.18457197],\n",
       "        [0.22928802, 0.22928475, 0.22927496, ..., 0.23606571,\n",
       "         0.2410243 , 0.25427036],\n",
       "        [0.22903993, 0.22904252, 0.22905031, ..., 0.22255642,\n",
       "         0.21624432, 0.20264048]],\n",
       "\n",
       "       ...,\n",
       "\n",
       "       [[0.22888013, 0.22898437, 0.22911527, ..., 0.22780903,\n",
       "         0.22782411, 0.2277339 ],\n",
       "        [0.22865478, 0.22882185, 0.22905021, ..., 0.23040045,\n",
       "         0.23032899, 0.22948734],\n",
       "        [0.22919461, 0.22923367, 0.22928312, ..., 0.23020748,\n",
       "         0.2302115 , 0.23105988],\n",
       "        ...,\n",
       "        [0.22927615, 0.22944082, 0.22964366, ..., 0.22955072,\n",
       "         0.22915508, 0.22790221],\n",
       "        [0.23246309, 0.23186014, 0.23108319, ..., 0.22957147,\n",
       "         0.22970053, 0.23046282],\n",
       "        [0.22856043, 0.22859213, 0.22863381, ..., 0.23151998,\n",
       "         0.23154107, 0.23091233]],\n",
       "\n",
       "       [[0.22955762, 0.22955646, 0.22955361, ..., 0.22705272,\n",
       "         0.22693409, 0.22628245],\n",
       "        [0.22902882, 0.2290419 , 0.22907922, ..., 0.23075283,\n",
       "         0.2303477 , 0.22565232],\n",
       "        [0.2294165 , 0.22941639, 0.22941628, ..., 0.23102737,\n",
       "         0.23149098, 0.23607601],\n",
       "        ...,\n",
       "        [0.230045  , 0.23002518, 0.22996712, ..., 0.23443791,\n",
       "         0.23392835, 0.22738466],\n",
       "        [0.2297197 , 0.2297249 , 0.22973904, ..., 0.2289433 ,\n",
       "         0.22937584, 0.23332908],\n",
       "        [0.2288432 , 0.22884954, 0.2288692 , ..., 0.23072927,\n",
       "         0.23046644, 0.22684691]],\n",
       "\n",
       "       [[0.22942969, 0.22943192, 0.229438  , ..., 0.22843008,\n",
       "         0.22843848, 0.22840891],\n",
       "        [0.22961309, 0.22960184, 0.22957058, ..., 0.22981953,\n",
       "         0.2298072 , 0.22951403],\n",
       "        [0.22946359, 0.22946402, 0.22946515, ..., 0.23058667,\n",
       "         0.23057734, 0.23088083],\n",
       "        ...,\n",
       "        [0.22953901, 0.22955296, 0.22959252, ..., 0.23197844,\n",
       "         0.23184649, 0.23137449],\n",
       "        [0.22915593, 0.22915591, 0.22915609, ..., 0.22940677,\n",
       "         0.229469  , 0.22976015],\n",
       "        [0.22961362, 0.22961041, 0.22960164, ..., 0.23084464,\n",
       "         0.2308802 , 0.23067374]]])"
      ]
     },
     "execution_count": 298,
     "metadata": {},
     "output_type": "execute_result"
    }
   ],
   "source": [
    "getattr(conn, 'DTF')()"
   ]
  },
  {
   "cell_type": "code",
   "execution_count": 296,
   "metadata": {},
   "outputs": [
    {
     "data": {
      "image/png": "[encoded data removed]",
      "text/plain": [
       "<Figure size 432x288 with 2 Axes>"
      ]
     },
     "metadata": {
      "needs_background": "light"
     },
     "output_type": "display_data"
    }
   ],
   "source": [
    "QWERTY = np.mean(i_measures, axis=0)\n",
    "np.fill_diagonal(QWERTY, np.nan)\n",
    "ax = sns.heatmap(QWERTY, linewidth=0.1, cmap='plasma')\n",
    "ax.set_title('All epochs')\n",
    "plt.show()"
   ]
  },
  {
   "cell_type": "code",
   "execution_count": null,
   "metadata": {},
   "outputs": [],
   "source": []
  }
 ],
 "metadata": {
  "kernelspec": {
   "display_name": "Python 3",
   "language": "python",
   "name": "python3"
  },
  "language_info": {
   "codemirror_mode": {
    "name": "ipython",
    "version": 3
   },
   "file_extension": ".py",
   "mimetype": "text/x-python",
   "name": "python",
   "nbconvert_exporter": "python",
   "pygments_lexer": "ipython3",
   "version": "3.7.3"
  },
  "toc": {
   "base_numbering": 1,
   "nav_menu": {},
   "number_sections": false,
   "sideBar": true,
   "skip_h1_title": false,
   "title_cell": "Table of Contents",
   "title_sidebar": "Contents",
   "toc_cell": false,
   "toc_position": {},
   "toc_section_display": true,
   "toc_window_display": false
  },
  "varInspector": {
   "cols": {
    "lenName": 16,
    "lenType": 16,
    "lenVar": 40
   },
   "kernels_config": {
    "python": {
     "delete_cmd_postfix": "",
     "delete_cmd_prefix": "del ",
     "library": "var_list.py",
     "varRefreshCmd": "print(var_dic_list())"
    },
    "r": {
     "delete_cmd_postfix": ") ",
     "delete_cmd_prefix": "rm(",
     "library": "var_list.r",
     "varRefreshCmd": "cat(var_dic_list()) "
    }
   },
   "types_to_exclude": [
    "module",
    "function",
    "builtin_function_or_method",
    "instance",
    "_Feature"
   ],
   "window_display": false
  }
 },
 "nbformat": 4,
 "nbformat_minor": 2
}
