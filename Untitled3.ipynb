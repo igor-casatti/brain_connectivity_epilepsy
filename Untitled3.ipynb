{
 "cells": [
  {
   "cell_type": "code",
   "execution_count": 81,
   "metadata": {},
   "outputs": [],
   "source": [
    "import numpy as np\n",
    "import mne\n",
    "import matplotlib.pyplot as plt\n",
    "import seaborn as sns\n",
    "import glob, os\n",
    "import scipy\n",
    "import pickle\n",
    "#%matplotlib inline\n",
    "%matplotlib qt\n",
    "import preprocessing as prep\n",
    "from epoch_connectivity import ConnEEG_v3 as cnegg\n",
    "from epoch_connectivity.utils import FrequencyBand"
   ]
  },
  {
   "cell_type": "code",
   "execution_count": 38,
   "metadata": {},
   "outputs": [
    {
     "name": "stderr",
     "output_type": "stream",
     "text": [
      "C:\\code_thesis\\brain_connectivity_epilepsy\\preprocessing.py:156: RuntimeWarning: The events passed to the Epochs constructor are not chronologically ordered.\n",
      "  epoched.append(mne.read_epochs(a_file, proj=False, preload=True, verbose=None))\n",
      "C:\\code_thesis\\brain_connectivity_epilepsy\\preprocessing.py:156: RuntimeWarning: The events passed to the Epochs constructor are not chronologically ordered.\n",
      "  epoched.append(mne.read_epochs(a_file, proj=False, preload=True, verbose=None))\n",
      "C:\\code_thesis\\brain_connectivity_epilepsy\\preprocessing.py:157: RuntimeWarning: The events passed to the Epochs constructor are not chronologically ordered.\n",
      "  epoched.append(mne.read_epochs(b_file, proj=False, preload=True, verbose=None))\n",
      "C:\\code_thesis\\brain_connectivity_epilepsy\\preprocessing.py:157: RuntimeWarning: The events passed to the Epochs constructor are not chronologically ordered.\n",
      "  epoched.append(mne.read_epochs(b_file, proj=False, preload=True, verbose=None))\n"
     ]
    }
   ],
   "source": [
    "mne.set_log_level(verbose='WARNING')\n",
    "\n",
    "epoched = prep.open_preprocessed_epoched(8, weaning=False)\n",
    "\n",
    "a = (epoched[0]).copy()\n",
    "a.drop_channels(['ECG1', 'ECG2'])\n",
    "sampling_frequency = a.info['sfreq']\n",
    "b = (a.get_data())[0]"
   ]
  },
  {
   "cell_type": "code",
   "execution_count": 3,
   "metadata": {},
   "outputs": [],
   "source": [
    "frequency_bands = FrequencyBand()"
   ]
  },
  {
   "cell_type": "code",
   "execution_count": 4,
   "metadata": {},
   "outputs": [
    {
     "data": {
      "text/plain": [
       "[8, 13]"
      ]
     },
     "execution_count": 4,
     "metadata": {},
     "output_type": "execute_result"
    }
   ],
   "source": [
    "getattr(frequency_bands, 'alpha')"
   ]
  },
  {
   "cell_type": "code",
   "execution_count": 61,
   "metadata": {},
   "outputs": [],
   "source": [
    "class Connections(object):\n",
    "    def __init__(self, epoched_eeg, f_bands = ['delta', 'theta', 'alpha', 'beta', 'broadband']):\n",
    "        self.epoched_eeg = epoched_eeg\n",
    "        self.f_bands = f_bands\n",
    "        self.directed = cnegg.EEG_DirectedConnection(epoched_eeg)\n",
    "        self.spectral = cnegg.EEG_SpectralConnection(epoched_eeg)\n",
    "        self.directed.fit_MVAR_on_epochs(model_order=20, get_REV = True)\n",
    "        self.fit_quality = self.directed.fit_quality_diagnostic()\n",
    "    \n",
    "    def Connectivity(self, measure='PDC'):\n",
    "        connectivity_matrices = {}\n",
    "        frequency_bands = FrequencyBand()\n",
    "        if measure in ['PDC', 'dDTF', 'DTF']:\n",
    "            for f_ in self.f_bands:\n",
    "                freq = getattr(frequency_bands, f_)\n",
    "                connectivity_matrices[f_] = self.directed.integrated_measure_epochs(measure, freq)\n",
    "        else:\n",
    "            for f_ in self.f_bands:\n",
    "                freq = getattr(frequency_bands, f_)\n",
    "                connectivity_matrices[f_] = self.spectral.spec_connectivity(measure, freq)\n",
    "        return connectivity_matrices\n",
    "\n",
    "class ConnectionsMatrices(object):\n",
    "    def __init__(self, epoched_eeg, patient_number, f_bands = ['delta', 'theta', 'alpha', 'beta', 'broadband']):\n",
    "        self.epoched_eeg, self.patient = epoched_eeg, patient_number\n",
    "        self.f_bands = f_bands\n",
    "        self.connections = Connections(epoched_eeg, f_bands)\n",
    "        self.fit_quality = self.connections.fit_quality\n",
    "        self.wPLI = self.connections.Connectivity(measure='wpli')\n",
    "        self.PDC = self.connections.Connectivity(measure='PDC')\n",
    "        self.DTF = self.connections.Connectivity(measure='DTF')\n",
    "    \n",
    "    def plot_fbands_hmaps(measure = 'wPLI'):\n",
    "        to_plot = getattr(self, measure).copy()\n",
    "        n_plot = len(f_bands)\n",
    "        v, h = 3, int(np.ceil(n_plot/3))\n",
    "        axes = []\n",
    "        \n",
    "        fig = plt.figure(figsize=[h*6.4, v*4.8], tight_layout=True)\n",
    "        for i in range(n_plot):\n",
    "            axes.append(fig.add_subplot(v*100+h*10+i+1))\n",
    "        \n",
    "    "
   ]
  },
  {
   "cell_type": "code",
   "execution_count": 98,
   "metadata": {},
   "outputs": [],
   "source": [
    "asdf = cnegg.EEG_SpectralConnection(a)"
   ]
  },
  {
   "cell_type": "code",
   "execution_count": 99,
   "metadata": {},
   "outputs": [
    {
     "name": "stderr",
     "output_type": "stream",
     "text": [
      "c:\\program files\\python37\\lib\\site-packages\\mne_connectivity\\spectral\\epochs.py:102: RuntimeWarning: divide by zero encountered in double_scalars\n",
      "  5. / np.min(fmin), five_cycle_freq))\n",
      "C:\\code_thesis\\brain_connectivity_epilepsy\\epoch_connectivity\\ConnEEG_v3.py:291: RuntimeWarning: fmin=0.000 Hz corresponds to 0.000 < 5 cycles based on the epoch length 10.004 sec, need at least inf sec epochs or fmin=0.500. Spectrum estimate will be unreliable.\n",
      "  fmin=f_min, fmax=f_max, faverage=True, verbose=False)\n"
     ]
    },
    {
     "data": {
      "image/png": "[encoded data removed]",
      "text/plain": [
       "<Figure size 432x288 with 2 Axes>"
      ]
     },
     "metadata": {
      "needs_background": "light"
     },
     "output_type": "display_data"
    }
   ],
   "source": [
    "asdf.plot_connectivity_hmp()"
   ]
  },
  {
   "cell_type": "code",
   "execution_count": 62,
   "metadata": {},
   "outputs": [],
   "source": [
    "CM = ConnectionsMatrices(a)"
   ]
  },
  {
   "cell_type": "code",
   "execution_count": 69,
   "metadata": {},
   "outputs": [],
   "source": [
    "pickle.dump(CM, open('test.pickle', 'wb'))"
   ]
  },
  {
   "cell_type": "code",
   "execution_count": 70,
   "metadata": {},
   "outputs": [],
   "source": [
    "asdf = pickle.load(open('test.pickle', 'rb'))"
   ]
  },
  {
   "cell_type": "code",
   "execution_count": 93,
   "metadata": {},
   "outputs": [
    {
     "name": "stderr",
     "output_type": "stream",
     "text": [
      "c:\\program files\\python37\\lib\\site-packages\\matplotlib\\figure.py:2369: UserWarning: This figure includes Axes that are not compatible with tight_layout, so results might be incorrect.\n",
      "  warnings.warn(\"This figure includes Axes that are not compatible \"\n"
     ]
    },
    {
     "data": {
      "image/png": "[encoded data removed]",
      "text/plain": [
       "<Figure size 921.6x1036.8 with 10 Axes>"
      ]
     },
     "metadata": {
      "needs_background": "light"
     },
     "output_type": "display_data"
    }
   ],
   "source": [
    "fig = plt.figure(figsize=[2*6.4, 3*4.8], tight_layout=True)\n",
    "ax1 = fig.add_subplot(321)\n",
    "ax2 = fig.add_subplot(322)\n",
    "ax3 = fig.add_subplot(323)\n",
    "ax4 = fig.add_subplot(324)\n",
    "ax5 = fig.add_subplot(325)\n",
    "\n",
    "\n",
    "sns.heatmap(CM.DTF['delta'], linewidth=0.1, cmap='viridis', ax=ax1)\n",
    "sns.heatmap(CM.DTF['theta'], linewidth=0.1, cmap='viridis', ax=ax2)\n",
    "sns.heatmap(CM.DTF['alpha'], linewidth=0.1, cmap='viridis', ax=ax3)\n",
    "sns.heatmap(CM.DTF['beta'], linewidth=0.1, cmap='viridis', ax=ax4)\n",
    "sns.heatmap(CM.DTF['broadband'], linewidth=0.1, cmap='viridis', ax=ax5)\n",
    "\n",
    "plt.show()"
   ]
  },
  {
   "cell_type": "code",
   "execution_count": 77,
   "metadata": {},
   "outputs": [
    {
     "data": {
      "text/plain": [
       "dict_keys(['delta', 'theta', 'alpha', 'beta', 'broadband'])"
      ]
     },
     "execution_count": 77,
     "metadata": {},
     "output_type": "execute_result"
    }
   ],
   "source": [
    "asdf.DTF.keys()"
   ]
  },
  {
   "cell_type": "code",
   "execution_count": 40,
   "metadata": {},
   "outputs": [],
   "source": [
    "asdf = CM.Connectivity(measure='wpli')"
   ]
  },
  {
   "cell_type": "code",
   "execution_count": 41,
   "metadata": {},
   "outputs": [
    {
     "data": {
      "text/plain": [
       "{'delta': array([[0.        , 0.39979864, 0.42634047, 0.3117556 , 0.40320727,\n",
       "         0.44933337, 0.35573098, 0.42555589, 0.4275114 , 0.35474728,\n",
       "         0.32402132, 0.3881882 , 0.38075455, 0.43062206, 0.36299598,\n",
       "         0.26088374, 0.50581424, 0.39854755, 0.36910868],\n",
       "        [0.39979864, 0.        , 0.60193253, 0.38506425, 0.53644787,\n",
       "         0.33562889, 0.34515935, 0.33847413, 0.48502975, 0.48088159,\n",
       "         0.42850795, 0.44039367, 0.51625041, 0.28207442, 0.28643097,\n",
       "         0.27753706, 0.52912395, 0.4168384 , 0.4360363 ],\n",
       "        [0.42634047, 0.60193253, 0.        , 0.55974579, 0.5159981 ,\n",
       "         0.34349526, 0.47797925, 0.27607661, 0.45664599, 0.22528624,\n",
       "         0.47364372, 0.24503911, 0.51524968, 0.55221559, 0.47570971,\n",
       "         0.55910313, 0.58647475, 0.52294173, 0.40610802],\n",
       "        [0.3117556 , 0.38506425, 0.55974579, 0.        , 0.61009995,\n",
       "         0.40065181, 0.23229322, 0.35083776, 0.31546732, 0.41587341,\n",
       "         0.26379477, 0.48902372, 0.47105854, 0.29056979, 0.36904625,\n",
       "         0.30730445, 0.44363408, 0.36295597, 0.39908476],\n",
       "        [0.40320727, 0.53644787, 0.5159981 , 0.61009995, 0.        ,\n",
       "         0.33185729, 0.47721259, 0.37205459, 0.51913758, 0.21229351,\n",
       "         0.43986243, 0.51510168, 0.38526816, 0.39338382, 0.31197862,\n",
       "         0.44022316, 0.62686198, 0.52045158, 0.46374383],\n",
       "        [0.44933337, 0.33562889, 0.34349526, 0.40065181, 0.33185729,\n",
       "         0.        , 0.33896299, 0.33928182, 0.58569212, 0.43149757,\n",
       "         0.39024079, 0.58027065, 0.22384464, 0.24232733, 0.31637129,\n",
       "         0.26966363, 0.30358284, 0.46077358, 0.34482636],\n",
       "        [0.35573098, 0.34515935, 0.47797925, 0.23229322, 0.47721259,\n",
       "         0.33896299, 0.        , 0.30823362, 0.38914143, 0.40371222,\n",
       "         0.43478495, 0.49747853, 0.42558476, 0.19890544, 0.33060065,\n",
       "         0.2250031 , 0.34001296, 0.32269068, 0.45895074],\n",
       "        [0.42555589, 0.33847413, 0.27607661, 0.35083776, 0.37205459,\n",
       "         0.33928182, 0.30823362, 0.        , 0.51682126, 0.42944606,\n",
       "         0.4358459 , 0.49065528, 0.40662201, 0.41835499, 0.31651585,\n",
       "         0.23171154, 0.33668648, 0.33780832, 0.32659467],\n",
       "        [0.4275114 , 0.48502975, 0.45664599, 0.31546732, 0.51913758,\n",
       "         0.58569212, 0.38914143, 0.51682126, 0.        , 0.62529317,\n",
       "         0.30790418, 0.61022511, 0.4972846 , 0.3054088 , 0.3905421 ,\n",
       "         0.38165174, 0.53191939, 0.37863602, 0.3720905 ],\n",
       "        [0.35474728, 0.48088159, 0.22528624, 0.41587341, 0.21229351,\n",
       "         0.43149757, 0.40371222, 0.42944606, 0.62529317, 0.        ,\n",
       "         0.29321717, 0.52629941, 0.48099911, 0.30274279, 0.26757548,\n",
       "         0.29923052, 0.34678236, 0.38767999, 0.30922526],\n",
       "        [0.32402132, 0.42850795, 0.47364372, 0.26379477, 0.43986243,\n",
       "         0.39024079, 0.43478495, 0.4358459 , 0.30790418, 0.29321717,\n",
       "         0.        , 0.41625661, 0.49797963, 0.30304534, 0.26076952,\n",
       "         0.39283551, 0.36385231, 0.30012832, 0.43567367],\n",
       "        [0.3881882 , 0.44039367, 0.24503911, 0.48902372, 0.51510168,\n",
       "         0.58027065, 0.49747853, 0.49065528, 0.61022511, 0.52629941,\n",
       "         0.41625661, 0.        , 0.37737978, 0.41995675, 0.27404031,\n",
       "         0.39201499, 0.33312964, 0.34524999, 0.30812243],\n",
       "        [0.38075455, 0.51625041, 0.51524968, 0.47105854, 0.38526816,\n",
       "         0.22384464, 0.42558476, 0.40662201, 0.4972846 , 0.48099911,\n",
       "         0.49797963, 0.37737978, 0.        , 0.34928912, 0.23842119,\n",
       "         0.29518844, 0.32040527, 0.35804367, 0.39223207],\n",
       "        [0.43062206, 0.28207442, 0.55221559, 0.29056979, 0.39338382,\n",
       "         0.24232733, 0.19890544, 0.41835499, 0.3054088 , 0.30274279,\n",
       "         0.30304534, 0.41995675, 0.34928912, 0.        , 0.3185311 ,\n",
       "         0.14572679, 0.30179805, 0.36695884, 0.35972936],\n",
       "        [0.36299598, 0.28643097, 0.47570971, 0.36904625, 0.31197862,\n",
       "         0.31637129, 0.33060065, 0.31651585, 0.3905421 , 0.26757548,\n",
       "         0.26076952, 0.27404031, 0.23842119, 0.3185311 , 0.        ,\n",
       "         0.60002445, 0.33963362, 0.46749865, 0.48705015],\n",
       "        [0.26088374, 0.27753706, 0.55910313, 0.30730445, 0.44022316,\n",
       "         0.26966363, 0.2250031 , 0.23171154, 0.38165174, 0.29923052,\n",
       "         0.39283551, 0.39201499, 0.29518844, 0.14572679, 0.60002445,\n",
       "         0.        , 0.47027165, 0.49803525, 0.47473106],\n",
       "        [0.50581424, 0.52912395, 0.58647475, 0.44363408, 0.62686198,\n",
       "         0.30358284, 0.34001296, 0.33668648, 0.53191939, 0.34678236,\n",
       "         0.36385231, 0.33312964, 0.32040527, 0.30179805, 0.33963362,\n",
       "         0.47027165, 0.        , 0.52677281, 0.45641332],\n",
       "        [0.39854755, 0.4168384 , 0.52294173, 0.36295597, 0.52045158,\n",
       "         0.46077358, 0.32269068, 0.33780832, 0.37863602, 0.38767999,\n",
       "         0.30012832, 0.34524999, 0.35804367, 0.36695884, 0.46749865,\n",
       "         0.49803525, 0.52677281, 0.        , 0.37477756],\n",
       "        [0.36910868, 0.4360363 , 0.40610802, 0.39908476, 0.46374383,\n",
       "         0.34482636, 0.45895074, 0.32659467, 0.3720905 , 0.30922526,\n",
       "         0.43567367, 0.30812243, 0.39223207, 0.35972936, 0.48705015,\n",
       "         0.47473106, 0.45641332, 0.37477756, 0.        ]]),\n",
       " 'theta': array([[0.        , 0.18232867, 0.44986709, 0.29431265, 0.35743134,\n",
       "         0.32461262, 0.20399591, 0.35852749, 0.43216376, 0.39754653,\n",
       "         0.47693462, 0.22760911, 0.29898963, 0.46407461, 0.51010771,\n",
       "         0.48943761, 0.28754171, 0.37850243, 0.42170006],\n",
       "        [0.18232867, 0.        , 0.52697785, 0.35809946, 0.42976255,\n",
       "         0.38050349, 0.30933765, 0.4521662 , 0.44113983, 0.39675759,\n",
       "         0.51945241, 0.26229917, 0.30043065, 0.52777202, 0.45725148,\n",
       "         0.57074285, 0.41705129, 0.40481227, 0.49287865],\n",
       "        [0.44986709, 0.52697785, 0.        , 0.37508771, 0.38825461,\n",
       "         0.35535108, 0.31313954, 0.37610683, 0.36729085, 0.3174357 ,\n",
       "         0.58798195, 0.23387653, 0.5484393 , 0.52920393, 0.39845527,\n",
       "         0.3417951 , 0.48878653, 0.4119892 , 0.34244478],\n",
       "        [0.29431265, 0.35809946, 0.37508771, 0.        , 0.33533191,\n",
       "         0.33596932, 0.27461296, 0.33883698, 0.40460696, 0.34331862,\n",
       "         0.46490881, 0.22589555, 0.4152446 , 0.45681687, 0.3635806 ,\n",
       "         0.34916198, 0.3787479 , 0.35971806, 0.34078895],\n",
       "        [0.35743134, 0.42976255, 0.38825461, 0.33533191, 0.        ,\n",
       "         0.26140974, 0.26227811, 0.3102658 , 0.28308213, 0.22670768,\n",
       "         0.50602018, 0.28472067, 0.42164482, 0.34132204, 0.25869054,\n",
       "         0.30585733, 0.4666704 , 0.30060737, 0.2606021 ],\n",
       "        [0.32461262, 0.38050349, 0.35535108, 0.33596932, 0.26140974,\n",
       "         0.        , 0.27934017, 0.34167925, 0.26179627, 0.29391045,\n",
       "         0.37056238, 0.25545113, 0.41212702, 0.40845389, 0.3028846 ,\n",
       "         0.38575115, 0.38361996, 0.35750521, 0.28729008],\n",
       "        [0.20399591, 0.30933765, 0.31313954, 0.27461296, 0.26227811,\n",
       "         0.27934017, 0.        , 0.35086164, 0.43771026, 0.24835939,\n",
       "         0.4333022 , 0.17982349, 0.2680766 , 0.28643823, 0.29835546,\n",
       "         0.27726368, 0.35670999, 0.33316358, 0.20576475],\n",
       "        [0.35852749, 0.4521662 , 0.37610683, 0.33883698, 0.3102658 ,\n",
       "         0.34167925, 0.35086164, 0.        , 0.315537  , 0.31775608,\n",
       "         0.4197686 , 0.280131  , 0.48475049, 0.52079818, 0.34514993,\n",
       "         0.46628987, 0.47740666, 0.42747394, 0.39794217],\n",
       "        [0.43216376, 0.44113983, 0.36729085, 0.40460696, 0.28308213,\n",
       "         0.26179627, 0.43771026, 0.315537  , 0.        , 0.52907899,\n",
       "         0.51243153, 0.32848952, 0.50626602, 0.42312757, 0.29212365,\n",
       "         0.35437762, 0.38515001, 0.3087295 , 0.29309089],\n",
       "        [0.39754653, 0.39675759, 0.3174357 , 0.34331862, 0.22670768,\n",
       "         0.29391045, 0.24835939, 0.31775608, 0.52907899, 0.        ,\n",
       "         0.51038016, 0.2796811 , 0.46782177, 0.49136437, 0.28177712,\n",
       "         0.47699017, 0.43330706, 0.33614257, 0.22306447],\n",
       "        [0.47693462, 0.51945241, 0.58798195, 0.46490881, 0.50602018,\n",
       "         0.37056238, 0.4333022 , 0.4197686 , 0.51243153, 0.51038016,\n",
       "         0.        , 0.24609807, 0.52070717, 0.61900456, 0.48068107,\n",
       "         0.58465054, 0.45483864, 0.26087949, 0.15990805],\n",
       "        [0.22760911, 0.26229917, 0.23387653, 0.22589555, 0.28472067,\n",
       "         0.25545113, 0.17982349, 0.280131  , 0.32848952, 0.2796811 ,\n",
       "         0.24609807, 0.        , 0.27253689, 0.35321959, 0.2117269 ,\n",
       "         0.33748324, 0.3243865 , 0.24882625, 0.20204828],\n",
       "        [0.29898963, 0.30043065, 0.5484393 , 0.4152446 , 0.42164482,\n",
       "         0.41212702, 0.2680766 , 0.48475049, 0.50626602, 0.46782177,\n",
       "         0.52070717, 0.27253689, 0.        , 0.56343549, 0.40888362,\n",
       "         0.53798236, 0.36566313, 0.29693292, 0.22913488],\n",
       "        [0.46407461, 0.52777202, 0.52920393, 0.45681687, 0.34132204,\n",
       "         0.40845389, 0.28643823, 0.52079818, 0.42312757, 0.49136437,\n",
       "         0.61900456, 0.35321959, 0.56343549, 0.        , 0.46527467,\n",
       "         0.61019083, 0.29173042, 0.3473591 , 0.51374859],\n",
       "        [0.51010771, 0.45725148, 0.39845527, 0.3635806 , 0.25869054,\n",
       "         0.3028846 , 0.29835546, 0.34514993, 0.29212365, 0.28177712,\n",
       "         0.48068107, 0.2117269 , 0.40888362, 0.46527467, 0.        ,\n",
       "         0.39703559, 0.3789863 , 0.52471528, 0.50216282],\n",
       "        [0.48943761, 0.57074285, 0.3417951 , 0.34916198, 0.30585733,\n",
       "         0.38575115, 0.27726368, 0.46628987, 0.35437762, 0.47699017,\n",
       "         0.58465054, 0.33748324, 0.53798236, 0.61019083, 0.39703559,\n",
       "         0.        , 0.39266328, 0.48787931, 0.52307519],\n",
       "        [0.28754171, 0.41705129, 0.48878653, 0.3787479 , 0.4666704 ,\n",
       "         0.38361996, 0.35670999, 0.47740666, 0.38515001, 0.43330706,\n",
       "         0.45483864, 0.3243865 , 0.36566313, 0.29173042, 0.3789863 ,\n",
       "         0.39266328, 0.        , 0.41117794, 0.54142015],\n",
       "        [0.37850243, 0.40481227, 0.4119892 , 0.35971806, 0.30060737,\n",
       "         0.35750521, 0.33316358, 0.42747394, 0.3087295 , 0.33614257,\n",
       "         0.26087949, 0.24882625, 0.29693292, 0.3473591 , 0.52471528,\n",
       "         0.48787931, 0.41117794, 0.        , 0.48628514],\n",
       "        [0.42170006, 0.49287865, 0.34244478, 0.34078895, 0.2606021 ,\n",
       "         0.28729008, 0.20576475, 0.39794217, 0.29309089, 0.22306447,\n",
       "         0.15990805, 0.20204828, 0.22913488, 0.51374859, 0.50216282,\n",
       "         0.52307519, 0.54142015, 0.48628514, 0.        ]]),\n",
       " 'alpha': array([[0.        , 0.7181101 , 0.59556884, 0.56319719, 0.45322058,\n",
       "         0.44482497, 0.56709441, 0.47336918, 0.48101451, 0.51626723,\n",
       "         0.60269505, 0.50051339, 0.75940275, 0.80559959, 0.34482165,\n",
       "         0.64242804, 0.6808679 , 0.63493374, 0.56045378],\n",
       "        [0.7181101 , 0.        , 0.68222984, 0.5729721 , 0.43380972,\n",
       "         0.61135204, 0.61676904, 0.55931607, 0.56014017, 0.41575816,\n",
       "         0.62447555, 0.59091295, 0.72574227, 0.86712774, 0.59339141,\n",
       "         0.61923629, 0.56564566, 0.64710288, 0.54572806],\n",
       "        [0.59556884, 0.68222984, 0.        , 0.57156758, 0.58692492,\n",
       "         0.64219496, 0.54264839, 0.61700695, 0.46299318, 0.54174776,\n",
       "         0.56205305, 0.55264622, 0.74483987, 0.69210754, 0.5924911 ,\n",
       "         0.67720321, 0.62829929, 0.65030477, 0.48441334],\n",
       "        [0.56319719, 0.5729721 , 0.57156758, 0.        , 0.45424781,\n",
       "         0.71811277, 0.66216349, 0.71434645, 0.5975241 , 0.64684969,\n",
       "         0.7326943 , 0.3740157 , 0.52874744, 0.51631839, 0.48595931,\n",
       "         0.59977201, 0.5924113 , 0.42831412, 0.65133513],\n",
       "        [0.45322058, 0.43380972, 0.58692492, 0.45424781, 0.        ,\n",
       "         0.50670607, 0.40381821, 0.57092933, 0.29116759, 0.31165684,\n",
       "         0.36817406, 0.33695727, 0.45392807, 0.44052207, 0.32509923,\n",
       "         0.55947707, 0.4038291 , 0.4596775 , 0.36575037],\n",
       "        [0.44482497, 0.61135204, 0.64219496, 0.71811277, 0.50670607,\n",
       "         0.        , 0.60905281, 0.63522431, 0.47850293, 0.35248506,\n",
       "         0.52139166, 0.53556572, 0.60022734, 0.74138714, 0.46295396,\n",
       "         0.797687  , 0.65046973, 0.58043112, 0.5878746 ],\n",
       "        [0.56709441, 0.61676904, 0.54264839, 0.66216349, 0.40381821,\n",
       "         0.60905281, 0.        , 0.64750948, 0.52341559, 0.59612883,\n",
       "         0.32369164, 0.45424885, 0.61449257, 0.69358877, 0.61894048,\n",
       "         0.75030745, 0.6768505 , 0.60101111, 0.46811472],\n",
       "        [0.47336918, 0.55931607, 0.61700695, 0.71434645, 0.57092933,\n",
       "         0.63522431, 0.64750948, 0.        , 0.45661749, 0.32093293,\n",
       "         0.59415078, 0.53342373, 0.68612629, 0.79444499, 0.44788151,\n",
       "         0.81690654, 0.58406335, 0.59281453, 0.55604998],\n",
       "        [0.48101451, 0.56014017, 0.46299318, 0.5975241 , 0.29116759,\n",
       "         0.47850293, 0.52341559, 0.45661749, 0.        , 0.54164366,\n",
       "         0.50475587, 0.57176746, 0.55936768, 0.68426101, 0.30801631,\n",
       "         0.65882199, 0.56809925, 0.61670349, 0.5708887 ],\n",
       "        [0.51626723, 0.41575816, 0.54174776, 0.64684969, 0.31165684,\n",
       "         0.35248506, 0.59612883, 0.32093293, 0.54164366, 0.        ,\n",
       "         0.56297414, 0.61873353, 0.5311497 , 0.62942541, 0.36842299,\n",
       "         0.66499401, 0.43555016, 0.66099408, 0.61451434],\n",
       "        [0.60269505, 0.62447555, 0.56205305, 0.7326943 , 0.36817406,\n",
       "         0.52139166, 0.32369164, 0.59415078, 0.50475587, 0.56297414,\n",
       "         0.        , 0.52504397, 0.77779687, 0.73599537, 0.47296543,\n",
       "         0.75292015, 0.67308497, 0.68283054, 0.37519777],\n",
       "        [0.50051339, 0.59091295, 0.55264622, 0.3740157 , 0.33695727,\n",
       "         0.53556572, 0.45424885, 0.53342373, 0.57176746, 0.61873353,\n",
       "         0.52504397, 0.        , 0.53666512, 0.63773232, 0.53475661,\n",
       "         0.65385477, 0.6855631 , 0.59601544, 0.41378968],\n",
       "        [0.75940275, 0.72574227, 0.74483987, 0.52874744, 0.45392807,\n",
       "         0.60022734, 0.61449257, 0.68612629, 0.55936768, 0.5311497 ,\n",
       "         0.77779687, 0.53666512, 0.        , 0.65831333, 0.76447689,\n",
       "         0.6762059 , 0.61117097, 0.45547905, 0.7599521 ],\n",
       "        [0.80559959, 0.86712774, 0.69210754, 0.51631839, 0.44052207,\n",
       "         0.74138714, 0.69358877, 0.79444499, 0.68426101, 0.62942541,\n",
       "         0.73599537, 0.63773232, 0.65831333, 0.        , 0.8438523 ,\n",
       "         0.74088406, 0.77028269, 0.57006003, 0.78454249],\n",
       "        [0.34482165, 0.59339141, 0.5924911 , 0.48595931, 0.32509923,\n",
       "         0.46295396, 0.61894048, 0.44788151, 0.30801631, 0.36842299,\n",
       "         0.47296543, 0.53475661, 0.76447689, 0.8438523 , 0.        ,\n",
       "         0.60555   , 0.57303222, 0.69179631, 0.64346271],\n",
       "        [0.64242804, 0.61923629, 0.67720321, 0.59977201, 0.55947707,\n",
       "         0.797687  , 0.75030745, 0.81690654, 0.65882199, 0.66499401,\n",
       "         0.75292015, 0.65385477, 0.6762059 , 0.74088406, 0.60555   ,\n",
       "         0.        , 0.6632259 , 0.59332675, 0.68243084],\n",
       "        [0.6808679 , 0.56564566, 0.62829929, 0.5924113 , 0.4038291 ,\n",
       "         0.65046973, 0.6768505 , 0.58406335, 0.56809925, 0.43555016,\n",
       "         0.67308497, 0.6855631 , 0.61117097, 0.77028269, 0.57303222,\n",
       "         0.6632259 , 0.        , 0.65111084, 0.59312217],\n",
       "        [0.63493374, 0.64710288, 0.65030477, 0.42831412, 0.4596775 ,\n",
       "         0.58043112, 0.60101111, 0.59281453, 0.61670349, 0.66099408,\n",
       "         0.68283054, 0.59601544, 0.45547905, 0.57006003, 0.69179631,\n",
       "         0.59332675, 0.65111084, 0.        , 0.62285381],\n",
       "        [0.56045378, 0.54572806, 0.48441334, 0.65133513, 0.36575037,\n",
       "         0.5878746 , 0.46811472, 0.55604998, 0.5708887 , 0.61451434,\n",
       "         0.37519777, 0.41378968, 0.7599521 , 0.78454249, 0.64346271,\n",
       "         0.68243084, 0.59312217, 0.62285381, 0.        ]]),\n",
       " 'beta': array([[0.        , 0.50352402, 0.37465932, 0.46024535, 0.42218012,\n",
       "         0.4511374 , 0.61560244, 0.44283623, 0.37740826, 0.45880194,\n",
       "         0.51338824, 0.43672227, 0.52963483, 0.56530788, 0.35182453,\n",
       "         0.3423784 , 0.37682957, 0.40091015, 0.53432182],\n",
       "        [0.50352402, 0.        , 0.36551755, 0.48277689, 0.40660531,\n",
       "         0.42281523, 0.50113363, 0.38104645, 0.4316364 , 0.45607473,\n",
       "         0.53518568, 0.39569701, 0.53890347, 0.53548405, 0.37379356,\n",
       "         0.44976491, 0.37925191, 0.45634209, 0.51484377],\n",
       "        [0.37465932, 0.36551755, 0.        , 0.4065567 , 0.47437594,\n",
       "         0.56870413, 0.49944817, 0.60438755, 0.48201068, 0.45644545,\n",
       "         0.58355727, 0.3857774 , 0.55816418, 0.35003621, 0.35043846,\n",
       "         0.46897853, 0.40501857, 0.32386532, 0.43580965],\n",
       "        [0.46024535, 0.48277689, 0.4065567 , 0.        , 0.52543134,\n",
       "         0.6408549 , 0.47711935, 0.65766522, 0.5385067 , 0.4831764 ,\n",
       "         0.58114793, 0.43461411, 0.40007468, 0.45414922, 0.41074445,\n",
       "         0.56207253, 0.47169032, 0.45443692, 0.42333259],\n",
       "        [0.42218012, 0.40660531, 0.47437594, 0.52543134, 0.        ,\n",
       "         0.59051546, 0.39823122, 0.68702635, 0.45441577, 0.34540228,\n",
       "         0.45283764, 0.28124682, 0.38528561, 0.53080614, 0.42020276,\n",
       "         0.64898215, 0.38726246, 0.34711359, 0.32635412],\n",
       "        [0.4511374 , 0.42281523, 0.56870413, 0.6408549 , 0.59051546,\n",
       "         0.        , 0.53646112, 0.71669374, 0.37651671, 0.38572892,\n",
       "         0.39785556, 0.34789503, 0.43109361, 0.73699995, 0.45530371,\n",
       "         0.74214336, 0.33191535, 0.41610914, 0.38343788],\n",
       "        [0.61560244, 0.50113363, 0.49944817, 0.47711935, 0.39823122,\n",
       "         0.53646112, 0.        , 0.63645225, 0.58331301, 0.35884696,\n",
       "         0.51362967, 0.40923844, 0.4218827 , 0.63705884, 0.52483599,\n",
       "         0.62979768, 0.45324486, 0.42737491, 0.41246011],\n",
       "        [0.44283623, 0.38104645, 0.60438755, 0.65766522, 0.68702635,\n",
       "         0.71669374, 0.63645225, 0.        , 0.33299354, 0.47418149,\n",
       "         0.44473523, 0.41699635, 0.4726221 , 0.7559954 , 0.46123964,\n",
       "         0.68844144, 0.28053336, 0.41839275, 0.45177196],\n",
       "        [0.37740826, 0.4316364 , 0.48201068, 0.5385067 , 0.45441577,\n",
       "         0.37651671, 0.58331301, 0.33299354, 0.        , 0.45967064,\n",
       "         0.49719611, 0.36827888, 0.50086633, 0.69038527, 0.41929328,\n",
       "         0.65396294, 0.36447551, 0.50368065, 0.45183391],\n",
       "        [0.45880194, 0.45607473, 0.45644545, 0.4831764 , 0.34540228,\n",
       "         0.38572892, 0.35884696, 0.47418149, 0.45967064, 0.        ,\n",
       "         0.44100668, 0.3443494 , 0.39277441, 0.60731346, 0.45049941,\n",
       "         0.65857865, 0.45521915, 0.48098402, 0.37084114],\n",
       "        [0.51338824, 0.53518568, 0.58355727, 0.58114793, 0.45283764,\n",
       "         0.39785556, 0.51362967, 0.44473523, 0.49719611, 0.44100668,\n",
       "         0.        , 0.57098131, 0.86754931, 0.77544675, 0.55914853,\n",
       "         0.68188149, 0.48768305, 0.62105656, 0.46234342],\n",
       "        [0.43672227, 0.39569701, 0.3857774 , 0.43461411, 0.28124682,\n",
       "         0.34789503, 0.40923844, 0.41699635, 0.36827888, 0.3443494 ,\n",
       "         0.57098131, 0.        , 0.73743997, 0.44204554, 0.41213545,\n",
       "         0.45338055, 0.34394283, 0.39454323, 0.40700058],\n",
       "        [0.52963483, 0.53890347, 0.55816418, 0.40007468, 0.38528561,\n",
       "         0.43109361, 0.4218827 , 0.4726221 , 0.50086633, 0.39277441,\n",
       "         0.86754931, 0.73743997, 0.        , 0.67015743, 0.77391386,\n",
       "         0.55043162, 0.42531962, 0.3414168 , 0.61231738],\n",
       "        [0.56530788, 0.53548405, 0.35003621, 0.45414922, 0.53080614,\n",
       "         0.73699995, 0.63705884, 0.7559954 , 0.69038527, 0.60731346,\n",
       "         0.77544675, 0.44204554, 0.67015743, 0.        , 0.68805185,\n",
       "         0.71079793, 0.57170527, 0.42747375, 0.65264285],\n",
       "        [0.35182453, 0.37379356, 0.35043846, 0.41074445, 0.42020276,\n",
       "         0.45530371, 0.52483599, 0.46123964, 0.41929328, 0.45049941,\n",
       "         0.55914853, 0.41213545, 0.77391386, 0.68805185, 0.        ,\n",
       "         0.53583055, 0.34549583, 0.43686569, 0.48703142],\n",
       "        [0.3423784 , 0.44976491, 0.46897853, 0.56207253, 0.64898215,\n",
       "         0.74214336, 0.62979768, 0.68844144, 0.65396294, 0.65857865,\n",
       "         0.68188149, 0.45338055, 0.55043162, 0.71079793, 0.53583055,\n",
       "         0.        , 0.52727584, 0.4893968 , 0.50724135],\n",
       "        [0.37682957, 0.37925191, 0.40501857, 0.47169032, 0.38726246,\n",
       "         0.33191535, 0.45324486, 0.28053336, 0.36447551, 0.45521915,\n",
       "         0.48768305, 0.34394283, 0.42531962, 0.57170527, 0.34549583,\n",
       "         0.52727584, 0.        , 0.4691562 , 0.48986573],\n",
       "        [0.40091015, 0.45634209, 0.32386532, 0.45443692, 0.34711359,\n",
       "         0.41610914, 0.42737491, 0.41839275, 0.50368065, 0.48098402,\n",
       "         0.62105656, 0.39454323, 0.3414168 , 0.42747375, 0.43686569,\n",
       "         0.4893968 , 0.4691562 , 0.        , 0.4041169 ],\n",
       "        [0.53432182, 0.51484377, 0.43580965, 0.42333259, 0.32635412,\n",
       "         0.38343788, 0.41246011, 0.45177196, 0.45183391, 0.37084114,\n",
       "         0.46234342, 0.40700058, 0.61231738, 0.65264285, 0.48703142,\n",
       "         0.50724135, 0.48986573, 0.4041169 , 0.        ]]),\n",
       " 'broadband': array([[0.        , 0.48403623, 0.42843094, 0.43757804, 0.4164107 ,\n",
       "         0.43269756, 0.52073747, 0.4345294 , 0.40833756, 0.44789053,\n",
       "         0.50111486, 0.41342172, 0.51964085, 0.57632907, 0.37342515,\n",
       "         0.40350564, 0.43155793, 0.43725652, 0.50387866],\n",
       "        [0.48403623, 0.        , 0.46913975, 0.46956578, 0.42976124,\n",
       "         0.4386893 , 0.4762212 , 0.41585405, 0.4610401 , 0.4441416 ,\n",
       "         0.53552955, 0.41599961, 0.53554812, 0.5605836 , 0.41196481,\n",
       "         0.47445885, 0.43375084, 0.47700045, 0.50775004],\n",
       "        [0.42843094, 0.46913975, 0.        , 0.44843264, 0.48671279,\n",
       "         0.52551128, 0.47896089, 0.53662097, 0.46022278, 0.42462902,\n",
       "         0.56747185, 0.37676576, 0.58339395, 0.45629571, 0.41283777,\n",
       "         0.49771839, 0.47574983, 0.41476227, 0.427864  ],\n",
       "        [0.43757804, 0.46956578, 0.44843264, 0.        , 0.49763557,\n",
       "         0.58411036, 0.4519771 , 0.587638  , 0.50389145, 0.48396877,\n",
       "         0.55342045, 0.40249775, 0.43236237, 0.44564035, 0.41215039,\n",
       "         0.50936632, 0.47622044, 0.42631242, 0.44790787],\n",
       "        [0.4164107 , 0.42976124, 0.48671279, 0.49763557, 0.        ,\n",
       "         0.50099771, 0.39011452, 0.57889318, 0.41119377, 0.30779596,\n",
       "         0.44415964, 0.31890579, 0.40184792, 0.47350665, 0.3693434 ,\n",
       "         0.56251838, 0.42926461, 0.38045181, 0.3404164 ],\n",
       "        [0.43269756, 0.4386893 , 0.52551128, 0.58411036, 0.50099771,\n",
       "         0.        , 0.49046896, 0.60725825, 0.40306462, 0.37307459,\n",
       "         0.41418966, 0.39473884, 0.43259974, 0.63450495, 0.41944986,\n",
       "         0.64717625, 0.38955692, 0.4413132 , 0.40047016],\n",
       "        [0.52073747, 0.4762212 , 0.47896089, 0.4519771 , 0.39011452,\n",
       "         0.49046896, 0.        , 0.56066101, 0.53038085, 0.38940586,\n",
       "         0.46119046, 0.39622938, 0.4341126 , 0.54711411, 0.48703181,\n",
       "         0.55439537, 0.46462036, 0.43161019, 0.39938244],\n",
       "        [0.4345294 , 0.41585405, 0.53662097, 0.587638  , 0.57889318,\n",
       "         0.60725825, 0.56066101, 0.        , 0.37338983, 0.42168934,\n",
       "         0.46561993, 0.42691098, 0.50262326, 0.6905621 , 0.42606395,\n",
       "         0.62590465, 0.36533604, 0.43962624, 0.44729571],\n",
       "        [0.40833756, 0.4610401 , 0.46022278, 0.50389145, 0.41119377,\n",
       "         0.40306462, 0.53038085, 0.37338983, 0.        , 0.5026258 ,\n",
       "         0.47808488, 0.42607878, 0.51108902, 0.60743375, 0.37977828,\n",
       "         0.58185666, 0.42165755, 0.48156721, 0.44102713],\n",
       "        [0.44789053, 0.4441416 , 0.42462902, 0.48396877, 0.30779596,\n",
       "         0.37307459, 0.38940586, 0.42168934, 0.5026258 , 0.        ,\n",
       "         0.45355135, 0.40367389, 0.4368711 , 0.55920383, 0.39200772,\n",
       "         0.59240931, 0.43604891, 0.48078471, 0.38479381],\n",
       "        [0.50111486, 0.53552955, 0.56747185, 0.55342045, 0.44415964,\n",
       "         0.41418966, 0.46119046, 0.46561993, 0.47808488, 0.45355135,\n",
       "         0.        , 0.50078618, 0.76146034, 0.69149995, 0.49850067,\n",
       "         0.64644449, 0.49996184, 0.54461292, 0.40340058],\n",
       "        [0.41342172, 0.41599961, 0.37676576, 0.40249775, 0.31890579,\n",
       "         0.39473884, 0.39622938, 0.42691098, 0.42607878, 0.40367389,\n",
       "         0.50078618, 0.        , 0.59765362, 0.46054789, 0.38936048,\n",
       "         0.46436368, 0.39790994, 0.40308448, 0.36862982],\n",
       "        [0.51964085, 0.53554812, 0.58339395, 0.43236237, 0.40184792,\n",
       "         0.43259974, 0.4341126 , 0.50262326, 0.51108902, 0.4368711 ,\n",
       "         0.76146034, 0.59765362, 0.        , 0.61561007, 0.65928572,\n",
       "         0.53977817, 0.43628337, 0.35669035, 0.55927145],\n",
       "        [0.57632907, 0.5605836 , 0.45629571, 0.44564035, 0.47350665,\n",
       "         0.63450495, 0.54711411, 0.6905621 , 0.60743375, 0.55920383,\n",
       "         0.69149995, 0.46054789, 0.61561007, 0.        , 0.64041019,\n",
       "         0.6352133 , 0.53537688, 0.43359818, 0.62141315],\n",
       "        [0.37342515, 0.41196481, 0.41283777, 0.41215039, 0.3693434 ,\n",
       "         0.41944986, 0.48703181, 0.42606395, 0.37977828, 0.39200772,\n",
       "         0.49850067, 0.38936048, 0.65928572, 0.64041019, 0.        ,\n",
       "         0.53644398, 0.38790688, 0.4956205 , 0.51559913],\n",
       "        [0.40350564, 0.47445885, 0.49771839, 0.50936632, 0.56251838,\n",
       "         0.64717625, 0.55439537, 0.62590465, 0.58185666, 0.59240931,\n",
       "         0.64644449, 0.46436368, 0.53977817, 0.6352133 , 0.53644398,\n",
       "         0.        , 0.52530246, 0.50783118, 0.53522429],\n",
       "        [0.43155793, 0.43375084, 0.47574983, 0.47622044, 0.42926461,\n",
       "         0.38955692, 0.46462036, 0.36533604, 0.42165755, 0.43604891,\n",
       "         0.49996184, 0.39790994, 0.43628337, 0.53537688, 0.38790688,\n",
       "         0.52530246, 0.        , 0.49897038, 0.51038832],\n",
       "        [0.43725652, 0.47700045, 0.41476227, 0.42631242, 0.38045181,\n",
       "         0.4413132 , 0.43161019, 0.43962624, 0.48156721, 0.48078471,\n",
       "         0.54461292, 0.40308448, 0.35669035, 0.43359818, 0.4956205 ,\n",
       "         0.50783118, 0.49897038, 0.        , 0.44885147],\n",
       "        [0.50387866, 0.50775004, 0.427864  , 0.44790787, 0.3404164 ,\n",
       "         0.40047016, 0.39938244, 0.44729571, 0.44102713, 0.38479381,\n",
       "         0.40340058, 0.36862982, 0.55927145, 0.62141315, 0.51559913,\n",
       "         0.53522429, 0.51038832, 0.44885147, 0.        ]])}"
      ]
     },
     "execution_count": 41,
     "metadata": {},
     "output_type": "execute_result"
    }
   ],
   "source": [
    "asdf"
   ]
  },
  {
   "cell_type": "code",
   "execution_count": 36,
   "metadata": {},
   "outputs": [
    {
     "data": {
      "text/html": [
       "<div>\n",
       "<style scoped>\n",
       "    .dataframe tbody tr th:only-of-type {\n",
       "        vertical-align: middle;\n",
       "    }\n",
       "\n",
       "    .dataframe tbody tr th {\n",
       "        vertical-align: top;\n",
       "    }\n",
       "\n",
       "    .dataframe thead th {\n",
       "        text-align: right;\n",
       "    }\n",
       "</style>\n",
       "<table border=\"1\" class=\"dataframe\">\n",
       "  <thead>\n",
       "    <tr style=\"text-align: right;\">\n",
       "      <th></th>\n",
       "      <th>REV mean</th>\n",
       "      <th>REV std</th>\n",
       "      <th>REV max</th>\n",
       "      <th>REV min</th>\n",
       "    </tr>\n",
       "  </thead>\n",
       "  <tbody>\n",
       "    <tr>\n",
       "      <th>0</th>\n",
       "      <td>0.000005</td>\n",
       "      <td>0.000005</td>\n",
       "      <td>0.000058</td>\n",
       "      <td>2.549159e-08</td>\n",
       "    </tr>\n",
       "    <tr>\n",
       "      <th>1</th>\n",
       "      <td>0.000003</td>\n",
       "      <td>0.000003</td>\n",
       "      <td>0.000040</td>\n",
       "      <td>4.543830e-08</td>\n",
       "    </tr>\n",
       "    <tr>\n",
       "      <th>2</th>\n",
       "      <td>0.000002</td>\n",
       "      <td>0.000002</td>\n",
       "      <td>0.000028</td>\n",
       "      <td>2.075557e-08</td>\n",
       "    </tr>\n",
       "    <tr>\n",
       "      <th>3</th>\n",
       "      <td>0.000005</td>\n",
       "      <td>0.000006</td>\n",
       "      <td>0.000056</td>\n",
       "      <td>1.636417e-07</td>\n",
       "    </tr>\n",
       "    <tr>\n",
       "      <th>4</th>\n",
       "      <td>0.000002</td>\n",
       "      <td>0.000002</td>\n",
       "      <td>0.000026</td>\n",
       "      <td>1.524263e-08</td>\n",
       "    </tr>\n",
       "    <tr>\n",
       "      <th>5</th>\n",
       "      <td>0.000004</td>\n",
       "      <td>0.000004</td>\n",
       "      <td>0.000057</td>\n",
       "      <td>6.368913e-08</td>\n",
       "    </tr>\n",
       "    <tr>\n",
       "      <th>6</th>\n",
       "      <td>0.000004</td>\n",
       "      <td>0.000004</td>\n",
       "      <td>0.000054</td>\n",
       "      <td>1.131248e-07</td>\n",
       "    </tr>\n",
       "    <tr>\n",
       "      <th>7</th>\n",
       "      <td>0.000003</td>\n",
       "      <td>0.000003</td>\n",
       "      <td>0.000043</td>\n",
       "      <td>2.408892e-08</td>\n",
       "    </tr>\n",
       "    <tr>\n",
       "      <th>8</th>\n",
       "      <td>0.000005</td>\n",
       "      <td>0.000005</td>\n",
       "      <td>0.000047</td>\n",
       "      <td>1.370969e-07</td>\n",
       "    </tr>\n",
       "    <tr>\n",
       "      <th>9</th>\n",
       "      <td>0.000004</td>\n",
       "      <td>0.000004</td>\n",
       "      <td>0.000044</td>\n",
       "      <td>1.485697e-07</td>\n",
       "    </tr>\n",
       "  </tbody>\n",
       "</table>\n",
       "</div>"
      ],
      "text/plain": [
       "   REV mean   REV std   REV max       REV min\n",
       "0  0.000005  0.000005  0.000058  2.549159e-08\n",
       "1  0.000003  0.000003  0.000040  4.543830e-08\n",
       "2  0.000002  0.000002  0.000028  2.075557e-08\n",
       "3  0.000005  0.000006  0.000056  1.636417e-07\n",
       "4  0.000002  0.000002  0.000026  1.524263e-08\n",
       "5  0.000004  0.000004  0.000057  6.368913e-08\n",
       "6  0.000004  0.000004  0.000054  1.131248e-07\n",
       "7  0.000003  0.000003  0.000043  2.408892e-08\n",
       "8  0.000005  0.000005  0.000047  1.370969e-07\n",
       "9  0.000004  0.000004  0.000044  1.485697e-07"
      ]
     },
     "execution_count": 36,
     "metadata": {},
     "output_type": "execute_result"
    }
   ],
   "source": [
    "CM.fit_quality"
   ]
  },
  {
   "cell_type": "code",
   "execution_count": 49,
   "metadata": {},
   "outputs": [
    {
     "data": {
      "text/plain": [
       "0.3077959644254676"
      ]
     },
     "execution_count": 49,
     "metadata": {},
     "output_type": "execute_result"
    }
   ],
   "source": [
    "np.nanmin(to_plot)"
   ]
  },
  {
   "cell_type": "code",
   "execution_count": 52,
   "metadata": {},
   "outputs": [
    {
     "data": {
      "text/plain": [
       "0.7614603403970679"
      ]
     },
     "execution_count": 52,
     "metadata": {},
     "output_type": "execute_result"
    }
   ],
   "source": [
    "np.nanmax(to_plot)"
   ]
  },
  {
   "cell_type": "code",
   "execution_count": 50,
   "metadata": {},
   "outputs": [
    {
     "data": {
      "text/plain": [
       "array([[       nan, 0.48403623, 0.42843094, 0.43757804, 0.4164107 ,\n",
       "        0.43269756, 0.52073747, 0.4345294 , 0.40833756, 0.44789053,\n",
       "        0.50111486, 0.41342172, 0.51964085, 0.57632907, 0.37342515,\n",
       "        0.40350564, 0.43155793, 0.43725652, 0.50387866],\n",
       "       [0.48403623,        nan, 0.46913975, 0.46956578, 0.42976124,\n",
       "        0.4386893 , 0.4762212 , 0.41585405, 0.4610401 , 0.4441416 ,\n",
       "        0.53552955, 0.41599961, 0.53554812, 0.5605836 , 0.41196481,\n",
       "        0.47445885, 0.43375084, 0.47700045, 0.50775004],\n",
       "       [0.42843094, 0.46913975,        nan, 0.44843264, 0.48671279,\n",
       "        0.52551128, 0.47896089, 0.53662097, 0.46022278, 0.42462902,\n",
       "        0.56747185, 0.37676576, 0.58339395, 0.45629571, 0.41283777,\n",
       "        0.49771839, 0.47574983, 0.41476227, 0.427864  ],\n",
       "       [0.43757804, 0.46956578, 0.44843264,        nan, 0.49763557,\n",
       "        0.58411036, 0.4519771 , 0.587638  , 0.50389145, 0.48396877,\n",
       "        0.55342045, 0.40249775, 0.43236237, 0.44564035, 0.41215039,\n",
       "        0.50936632, 0.47622044, 0.42631242, 0.44790787],\n",
       "       [0.4164107 , 0.42976124, 0.48671279, 0.49763557,        nan,\n",
       "        0.50099771, 0.39011452, 0.57889318, 0.41119377, 0.30779596,\n",
       "        0.44415964, 0.31890579, 0.40184792, 0.47350665, 0.3693434 ,\n",
       "        0.56251838, 0.42926461, 0.38045181, 0.3404164 ],\n",
       "       [0.43269756, 0.4386893 , 0.52551128, 0.58411036, 0.50099771,\n",
       "               nan, 0.49046896, 0.60725825, 0.40306462, 0.37307459,\n",
       "        0.41418966, 0.39473884, 0.43259974, 0.63450495, 0.41944986,\n",
       "        0.64717625, 0.38955692, 0.4413132 , 0.40047016],\n",
       "       [0.52073747, 0.4762212 , 0.47896089, 0.4519771 , 0.39011452,\n",
       "        0.49046896,        nan, 0.56066101, 0.53038085, 0.38940586,\n",
       "        0.46119046, 0.39622938, 0.4341126 , 0.54711411, 0.48703181,\n",
       "        0.55439537, 0.46462036, 0.43161019, 0.39938244],\n",
       "       [0.4345294 , 0.41585405, 0.53662097, 0.587638  , 0.57889318,\n",
       "        0.60725825, 0.56066101,        nan, 0.37338983, 0.42168934,\n",
       "        0.46561993, 0.42691098, 0.50262326, 0.6905621 , 0.42606395,\n",
       "        0.62590465, 0.36533604, 0.43962624, 0.44729571],\n",
       "       [0.40833756, 0.4610401 , 0.46022278, 0.50389145, 0.41119377,\n",
       "        0.40306462, 0.53038085, 0.37338983,        nan, 0.5026258 ,\n",
       "        0.47808488, 0.42607878, 0.51108902, 0.60743375, 0.37977828,\n",
       "        0.58185666, 0.42165755, 0.48156721, 0.44102713],\n",
       "       [0.44789053, 0.4441416 , 0.42462902, 0.48396877, 0.30779596,\n",
       "        0.37307459, 0.38940586, 0.42168934, 0.5026258 ,        nan,\n",
       "        0.45355135, 0.40367389, 0.4368711 , 0.55920383, 0.39200772,\n",
       "        0.59240931, 0.43604891, 0.48078471, 0.38479381],\n",
       "       [0.50111486, 0.53552955, 0.56747185, 0.55342045, 0.44415964,\n",
       "        0.41418966, 0.46119046, 0.46561993, 0.47808488, 0.45355135,\n",
       "               nan, 0.50078618, 0.76146034, 0.69149995, 0.49850067,\n",
       "        0.64644449, 0.49996184, 0.54461292, 0.40340058],\n",
       "       [0.41342172, 0.41599961, 0.37676576, 0.40249775, 0.31890579,\n",
       "        0.39473884, 0.39622938, 0.42691098, 0.42607878, 0.40367389,\n",
       "        0.50078618,        nan, 0.59765362, 0.46054789, 0.38936048,\n",
       "        0.46436368, 0.39790994, 0.40308448, 0.36862982],\n",
       "       [0.51964085, 0.53554812, 0.58339395, 0.43236237, 0.40184792,\n",
       "        0.43259974, 0.4341126 , 0.50262326, 0.51108902, 0.4368711 ,\n",
       "        0.76146034, 0.59765362,        nan, 0.61561007, 0.65928572,\n",
       "        0.53977817, 0.43628337, 0.35669035, 0.55927145],\n",
       "       [0.57632907, 0.5605836 , 0.45629571, 0.44564035, 0.47350665,\n",
       "        0.63450495, 0.54711411, 0.6905621 , 0.60743375, 0.55920383,\n",
       "        0.69149995, 0.46054789, 0.61561007,        nan, 0.64041019,\n",
       "        0.6352133 , 0.53537688, 0.43359818, 0.62141315],\n",
       "       [0.37342515, 0.41196481, 0.41283777, 0.41215039, 0.3693434 ,\n",
       "        0.41944986, 0.48703181, 0.42606395, 0.37977828, 0.39200772,\n",
       "        0.49850067, 0.38936048, 0.65928572, 0.64041019,        nan,\n",
       "        0.53644398, 0.38790688, 0.4956205 , 0.51559913],\n",
       "       [0.40350564, 0.47445885, 0.49771839, 0.50936632, 0.56251838,\n",
       "        0.64717625, 0.55439537, 0.62590465, 0.58185666, 0.59240931,\n",
       "        0.64644449, 0.46436368, 0.53977817, 0.6352133 , 0.53644398,\n",
       "               nan, 0.52530246, 0.50783118, 0.53522429],\n",
       "       [0.43155793, 0.43375084, 0.47574983, 0.47622044, 0.42926461,\n",
       "        0.38955692, 0.46462036, 0.36533604, 0.42165755, 0.43604891,\n",
       "        0.49996184, 0.39790994, 0.43628337, 0.53537688, 0.38790688,\n",
       "        0.52530246,        nan, 0.49897038, 0.51038832],\n",
       "       [0.43725652, 0.47700045, 0.41476227, 0.42631242, 0.38045181,\n",
       "        0.4413132 , 0.43161019, 0.43962624, 0.48156721, 0.48078471,\n",
       "        0.54461292, 0.40308448, 0.35669035, 0.43359818, 0.4956205 ,\n",
       "        0.50783118, 0.49897038,        nan, 0.44885147],\n",
       "       [0.50387866, 0.50775004, 0.427864  , 0.44790787, 0.3404164 ,\n",
       "        0.40047016, 0.39938244, 0.44729571, 0.44102713, 0.38479381,\n",
       "        0.40340058, 0.36862982, 0.55927145, 0.62141315, 0.51559913,\n",
       "        0.53522429, 0.51038832, 0.44885147,        nan]])"
      ]
     },
     "execution_count": 50,
     "metadata": {},
     "output_type": "execute_result"
    }
   ],
   "source": [
    "to_plot"
   ]
  },
  {
   "cell_type": "code",
   "execution_count": 43,
   "metadata": {},
   "outputs": [
    {
     "data": {
      "image/png": "[encoded data removed]",
      "text/plain": [
       "<Figure size 432x288 with 2 Axes>"
      ]
     },
     "metadata": {
      "needs_background": "light"
     },
     "output_type": "display_data"
    }
   ],
   "source": [
    "import numpy as np\n",
    "import seaborn as sns\n",
    "import matplotlib.pylab as plt\n",
    "\n",
    "to_plot = asdf['broadband']\n",
    "np.fill_diagonal(to_plot, np.nan)\n",
    "ax = sns.heatmap(to_plot, linewidth=0.1, cmap='viridis')\n",
    "plt.show()"
   ]
  },
  {
   "cell_type": "code",
   "execution_count": 31,
   "metadata": {},
   "outputs": [
    {
     "data": {
      "image/png": "[encoded data removed]",
      "text/plain": [
       "<Figure size 432x288 with 2 Axes>"
      ]
     },
     "metadata": {
      "needs_background": "light"
     },
     "output_type": "display_data"
    }
   ],
   "source": [
    "import numpy as np\n",
    "import seaborn as sns\n",
    "import matplotlib.pylab as plt\n",
    "\n",
    "to_plot = asdf['beta']\n",
    "np.fill_diagonal(to_plot, np.nan)\n",
    "ax = sns.heatmap(to_plot, linewidth=0.1, cmap='viridis')\n",
    "plt.show()"
   ]
  },
  {
   "cell_type": "code",
   "execution_count": 32,
   "metadata": {},
   "outputs": [
    {
     "data": {
      "image/png": "[encoded data removed]",
      "text/plain": [
       "<Figure size 432x288 with 2 Axes>"
      ]
     },
     "metadata": {
      "needs_background": "light"
     },
     "output_type": "display_data"
    }
   ],
   "source": [
    "import numpy as np\n",
    "import seaborn as sns\n",
    "import matplotlib.pylab as plt\n",
    "\n",
    "to_plot = asdf['alpha']\n",
    "np.fill_diagonal(to_plot, np.nan)\n",
    "ax = sns.heatmap(to_plot, linewidth=0.1, cmap='viridis')\n",
    "plt.show()"
   ]
  },
  {
   "cell_type": "code",
   "execution_count": 33,
   "metadata": {},
   "outputs": [
    {
     "data": {
      "image/png": "[encoded data removed]",
      "text/plain": [
       "<Figure size 432x288 with 2 Axes>"
      ]
     },
     "metadata": {
      "needs_background": "light"
     },
     "output_type": "display_data"
    }
   ],
   "source": [
    "import numpy as np\n",
    "import seaborn as sns\n",
    "import matplotlib.pylab as plt\n",
    "\n",
    "to_plot = asdf['theta']\n",
    "np.fill_diagonal(to_plot, np.nan)\n",
    "ax = sns.heatmap(to_plot, linewidth=0.1, cmap='viridis')\n",
    "plt.show()"
   ]
  },
  {
   "cell_type": "code",
   "execution_count": 34,
   "metadata": {},
   "outputs": [
    {
     "data": {
      "image/png": "[encoded data removed]",
      "text/plain": [
       "<Figure size 432x288 with 2 Axes>"
      ]
     },
     "metadata": {
      "needs_background": "light"
     },
     "output_type": "display_data"
    }
   ],
   "source": [
    "import numpy as np\n",
    "import seaborn as sns\n",
    "import matplotlib.pylab as plt\n",
    "\n",
    "to_plot = asdf['delta']\n",
    "np.fill_diagonal(to_plot, np.nan)\n",
    "ax = sns.heatmap(to_plot, linewidth=0.1, cmap='viridis')\n",
    "plt.show()"
   ]
  },
  {
   "cell_type": "code",
   "execution_count": null,
   "metadata": {},
   "outputs": [],
   "source": []
  }
 ],
 "metadata": {
  "kernelspec": {
   "display_name": "Python 3",
   "language": "python",
   "name": "python3"
  },
  "language_info": {
   "codemirror_mode": {
    "name": "ipython",
    "version": 3
   },
   "file_extension": ".py",
   "mimetype": "text/x-python",
   "name": "python",
   "nbconvert_exporter": "python",
   "pygments_lexer": "ipython3",
   "version": "3.7.3"
  },
  "toc": {
   "base_numbering": 1,
   "nav_menu": {},
   "number_sections": false,
   "sideBar": true,
   "skip_h1_title": false,
   "title_cell": "Table of Contents",
   "title_sidebar": "Contents",
   "toc_cell": false,
   "toc_position": {},
   "toc_section_display": true,
   "toc_window_display": false
  },
  "varInspector": {
   "cols": {
    "lenName": 16,
    "lenType": 16,
    "lenVar": 40
   },
   "kernels_config": {
    "python": {
     "delete_cmd_postfix": "",
     "delete_cmd_prefix": "del ",
     "library": "var_list.py",
     "varRefreshCmd": "print(var_dic_list())"
    },
    "r": {
     "delete_cmd_postfix": ") ",
     "delete_cmd_prefix": "rm(",
     "library": "var_list.r",
     "varRefreshCmd": "cat(var_dic_list()) "
    }
   },
   "types_to_exclude": [
    "module",
    "function",
    "builtin_function_or_method",
    "instance",
    "_Feature"
   ],
   "window_display": false
  }
 },
 "nbformat": 4,
 "nbformat_minor": 2
}
