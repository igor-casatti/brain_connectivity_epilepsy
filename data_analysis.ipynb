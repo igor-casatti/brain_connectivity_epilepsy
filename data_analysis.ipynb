{
 "cells": [
  {
   "cell_type": "code",
   "execution_count": 132,
   "metadata": {},
   "outputs": [],
   "source": [
    "import numpy as np\n",
    "import mne\n",
    "import matplotlib\n",
    "%matplotlib inline\n",
    "#%matplotlib qt\n",
    "import matplotlib as mpl\n",
    "import matplotlib.pyplot as plt\n",
    "import seaborn as sns\n",
    "import glob, os\n",
    "import scipy\n",
    "import pickle\n",
    "import networkx as nx\n",
    "import preprocessing as prep\n",
    "from itertools import permutations\n",
    "import pandas as pd\n",
    "from tqdm import tqdm\n",
    "\n",
    "from epoch_connectivity import ConnEEG as cnegg\n",
    "from epoch_connectivity import ConnectionMatrices as cm\n",
    "from epoch_connectivity import Connectomes as cntms\n",
    "\n",
    "from epoch_connectivity.utils import FrequencyBand, only_EEG_channels\n",
    "\n",
    "import mne_connectivity as mnecon"
   ]
  },
  {
   "cell_type": "code",
   "execution_count": 181,
   "metadata": {},
   "outputs": [
    {
     "data": {
      "image/png": "[encoded data removed]",
      "text/plain": [
       "<Figure size 432x288 with 1 Axes>"
      ]
     },
     "metadata": {
      "needs_background": "light"
     },
     "output_type": "display_data"
    }
   ],
   "source": [
    "def get_column_name(measure_used, record_status, frequency_band, graph_measure=None):\n",
    "    if measure_used is not 'wPLI':\n",
    "        return measure_used+'_'+frequency_band+'_'+record_status+'_'+graph_measure\n",
    "    else:\n",
    "        return measure_used+'_'+frequency_band+'_'+record_status+'_'+'MEAN_SYNCH'\n",
    "    \n",
    "    \n",
    "def r_nr_asarrays(column_name, full_dataframe):\n",
    "    responders = np.array(full_dataframe.loc[full_dataframe[\"response\"] == \"R\", column_name])\n",
    "    non_responders = np.array(full_dataframe.loc[full_dataframe[\"response\"] == \"NR\", column_name])\n",
    "    return responders, non_responders\n",
    "\n",
    "def get_reduced_df(full_dataframe, measure_used, record_status, graph_measure=None):\n",
    "    columns_to_get = []\n",
    "    for frequency_band in ['delta', 'theta', 'alpha', 'beta', 'broadband']:\n",
    "        columns_to_get.append(get_column_name(measure_used=measure_used, graph_measure=graph_measure,\n",
    "                                              record_status=record_status, frequency_band=frequency_band))\n",
    "    columns_to_get.append('response')\n",
    "    return full_dataframe[columns_to_get]\n",
    "\n",
    "def get_plot_title(measure_used, record_status, graph_measure=None):\n",
    "    g_measure_name = {'GE':'Global efficiency', 'MOD':'Modularity', 'GRC':'Global reaching centrality',\n",
    "                      'DA':'Degree assortativity', 'AVGCC':'Average clustering coefficient', 'MEAN_SYCNH':'Mean synchronization'}\n",
    "    rec_status_name = {'SLEEP':'sleep', 'AWAKE':'awake'}\n",
    "    if measure_used is not 'wPLI':\n",
    "        return g_measure_name[graph_measure]+' ('+measure_used+') while '+rec_status_name[record_status], 'Mean wPLI value'\n",
    "    else:\n",
    "        return 'wPLI mean synchronization while '+rec_status_name[record_status], g_measure_name[graph_measure]+' value'\n",
    "    \n",
    "def plot_boxplot(full_dataframe, measure_used, record_status, graph_measure=None):\n",
    "    reduced_df = get_reduced_df(full_dataframe=full_dataframe, measure_used=measure_used, graph_measure=graph_measure,\n",
    "                                record_status=record_status)\n",
    "    bp = sns.boxplot(x=\"variable\", y=\"value\", hue=\"response\", data=pd.melt(reduced_df, id_vars='response'))\n",
    "    bp.set_xticklabels(['delta', 'theta', 'alpha', 'beta', 'broadband'])\n",
    "    title, y_label = \n",
    "    plt.xlabel('Frequency bands')\n",
    "    plt.title(get_plot_title(measure_used=measure_used, record_status=record_status, graph_measure=graph_measure), fontsize=14)\n",
    "    plt.xticks(rotation=45)\n",
    "    if measure_used = 'wPLI':\n",
    "        plt.ylabel('Mean wPLI value')\n",
    "    else:\n",
    "        plt.ylabel('')\n",
    "    return\n",
    "\n",
    "#column_name = get_column_name('PDC', 'DA', 'SLEEP', 'beta')\n",
    "#a, b = r_nr_asarrays(column_name, full_df)\n",
    "\n",
    "plot_boxplot(full_df, 'PDC', 'SLEEP', 'GE')\n",
    "#get_reduced_df(full_dataframe=full_df, measure_used='wPLI', record_status='SLEEP')"
   ]
  },
  {
   "cell_type": "code",
   "execution_count": 157,
   "metadata": {},
   "outputs": [
    {
     "data": {
      "text/plain": [
       "Ttest_indResult(statistic=1.1257847385927788, pvalue=0.26814073889267964)"
      ]
     },
     "execution_count": 157,
     "metadata": {},
     "output_type": "execute_result"
    }
   ],
   "source": [
    "scipy.stats.ttest_ind(a, b)"
   ]
  },
  {
   "cell_type": "code",
   "execution_count": 141,
   "metadata": {},
   "outputs": [],
   "source": [
    "response = pd.read_csv('response.csv', sep=';') # Read the response data\n",
    "features = pd.read_csv('no_thresh_08042022.csv', index_col=0) # Read the features dataframe\n",
    "full_df = pd.merge(features, response, on='patient', how='outer') # Join the two dataframes\n",
    "full_df = full_df.dropna() # Drop the NaN values\n",
    "\n",
    "#\n",
    "full_df.loc[full_df[\"response\"] == \"RP\", \"response\"] = \"R\"\n",
    "full_df.loc[full_df[\"response\"] == \"PR\", \"response\"] = \"R\"\n",
    "#full_df.loc[full_df[\"response\"] == \"R\", \"response\"] = \"R\"\n",
    "#full_df.loc[full_df[\"response\"] == \"NR\", \"response\"] = \"0\""
   ]
  },
  {
   "cell_type": "code",
   "execution_count": 120,
   "metadata": {},
   "outputs": [
    {
     "data": {
      "text/plain": [
       "array([1.31915147, 0.85499827, 0.64942255, 1.19929286, 2.52991171,\n",
       "       1.40908276, 0.75640702, 0.27955426, 0.92620592, 1.42626271,\n",
       "       0.46567199, 0.96136907, 1.00927089, 0.31064104])"
      ]
     },
     "execution_count": 120,
     "metadata": {},
     "output_type": "execute_result"
    }
   ],
   "source": [
    "np.array(full_df.loc[full_df[\"response\"] == \"NR\", \"DTF_delta_AWAKE_GRC\"])"
   ]
  },
  {
   "cell_type": "code",
   "execution_count": 145,
   "metadata": {},
   "outputs": [
    {
     "data": {
      "text/plain": [
       "(array([0, 1, 2, 3, 4, 5, 6, 7, 8, 9]),\n",
       " [Text(0, 0, 'DTF_delta_SLEEP_GE'),\n",
       "  Text(1, 0, 'DTF_theta_SLEEP_GE'),\n",
       "  Text(2, 0, 'DTF_alpha_SLEEP_GE'),\n",
       "  Text(3, 0, 'DTF_beta_SLEEP_GE'),\n",
       "  Text(4, 0, 'DTF_broadband_SLEEP_GE'),\n",
       "  Text(5, 0, 'PDC_delta_SLEEP_GE'),\n",
       "  Text(6, 0, 'PDC_theta_SLEEP_GE'),\n",
       "  Text(7, 0, 'PDC_alpha_SLEEP_GE'),\n",
       "  Text(8, 0, 'PDC_beta_SLEEP_GE'),\n",
       "  Text(9, 0, 'PDC_broadband_SLEEP_GE')])"
      ]
     },
     "execution_count": 145,
     "metadata": {},
     "output_type": "execute_result"
    },
    {
     "data": {
      "image/png": "[encoded data removed]",
      "text/plain": [
       "<Figure size 432x288 with 1 Axes>"
      ]
     },
     "metadata": {
      "needs_background": "light"
     },
     "output_type": "display_data"
    }
   ],
   "source": [
    "#aux = full_df.filter(regex='(?=.*SLEEP_MEAN_SYNCH$)|(?=.*response)',axis=1)\n",
    "aux = full_df.filter(regex='(?=.*SLEEP_GE$)|(?=.*response)',axis=1)\n",
    "\n",
    "#sns.boxplot(x=\"response\", y=\"wPLI_theta_SLEEP_MEAN_SYNCH\", hue=\"response\", data=aux)\n",
    "sns.boxplot(x=\"variable\", y=\"value\", hue=\"response\", data=pd.melt(aux, id_vars='response'))\n",
    "plt.xticks(rotation=90)\n",
    "\n",
    "#pd.melt(aux, id_vars='response')"
   ]
  },
  {
   "cell_type": "code",
   "execution_count": 114,
   "metadata": {},
   "outputs": [
    {
     "data": {
      "text/plain": [
       "(array([0, 1, 2, 3, 4, 5, 6, 7, 8, 9]),\n",
       " [Text(0, 0, 'DTF_delta_AWAKE_GE'),\n",
       "  Text(1, 0, 'DTF_theta_AWAKE_GE'),\n",
       "  Text(2, 0, 'DTF_alpha_AWAKE_GE'),\n",
       "  Text(3, 0, 'DTF_beta_AWAKE_GE'),\n",
       "  Text(4, 0, 'DTF_broadband_AWAKE_GE'),\n",
       "  Text(5, 0, 'PDC_delta_AWAKE_GE'),\n",
       "  Text(6, 0, 'PDC_theta_AWAKE_GE'),\n",
       "  Text(7, 0, 'PDC_alpha_AWAKE_GE'),\n",
       "  Text(8, 0, 'PDC_beta_AWAKE_GE'),\n",
       "  Text(9, 0, 'PDC_broadband_AWAKE_GE')])"
      ]
     },
     "execution_count": 114,
     "metadata": {},
     "output_type": "execute_result"
    },
    {
     "data": {
      "image/png": "[encoded data removed]",
      "text/plain": [
       "<Figure size 432x288 with 1 Axes>"
      ]
     },
     "metadata": {
      "needs_background": "light"
     },
     "output_type": "display_data"
    }
   ],
   "source": [
    "#aux = full_df.filter(regex='(?=.*SLEEP_MEAN_SYNCH$)|(?=.*response)',axis=1)\n",
    "aux = full_df.filter(regex='(?=.*AWAKE_GE$)|(?=.*response)',axis=1)\n",
    "\n",
    "#sns.boxplot(x=\"response\", y=\"wPLI_theta_SLEEP_MEAN_SYNCH\", hue=\"response\", data=aux)\n",
    "sns.boxplot(x=\"variable\", y=\"value\", hue=\"response\", data=pd.melt(aux, id_vars='response'))\n",
    "plt.xticks(rotation=90)\n",
    "\n",
    "#pd.melt(aux, id_vars='response')"
   ]
  },
  {
   "cell_type": "code",
   "execution_count": 75,
   "metadata": {},
   "outputs": [
    {
     "data": {
      "text/plain": [
       "<AxesSubplot:xlabel='response', ylabel='wPLI_alpha_SLEEP_MEAN_SYNCH'>"
      ]
     },
     "execution_count": 75,
     "metadata": {},
     "output_type": "execute_result"
    },
    {
     "data": {
      "image/png": "[encoded data removed]",
      "text/plain": [
       "<Figure size 432x288 with 1 Axes>"
      ]
     },
     "metadata": {
      "needs_background": "light"
     },
     "output_type": "display_data"
    }
   ],
   "source": [
    "sns.boxplot(x=\"response\", y=\"wPLI_alpha_SLEEP_MEAN_SYNCH\", hue=\"response\", data=aux)"
   ]
  },
  {
   "cell_type": "code",
   "execution_count": 35,
   "metadata": {},
   "outputs": [
    {
     "data": {
      "text/html": [
       "<div>\n",
       "<style scoped>\n",
       "    .dataframe tbody tr th:only-of-type {\n",
       "        vertical-align: middle;\n",
       "    }\n",
       "\n",
       "    .dataframe tbody tr th {\n",
       "        vertical-align: top;\n",
       "    }\n",
       "\n",
       "    .dataframe thead th {\n",
       "        text-align: right;\n",
       "    }\n",
       "</style>\n",
       "<table border=\"1\" class=\"dataframe\">\n",
       "  <thead>\n",
       "    <tr style=\"text-align: right;\">\n",
       "      <th></th>\n",
       "      <th>response</th>\n",
       "      <th>variable</th>\n",
       "      <th>value</th>\n",
       "    </tr>\n",
       "  </thead>\n",
       "  <tbody>\n",
       "    <tr>\n",
       "      <th>0</th>\n",
       "      <td>NR</td>\n",
       "      <td>wPLI_delta_AWAKE_MEAN_SYNCH</td>\n",
       "      <td>0.374143</td>\n",
       "    </tr>\n",
       "    <tr>\n",
       "      <th>1</th>\n",
       "      <td>R</td>\n",
       "      <td>wPLI_delta_AWAKE_MEAN_SYNCH</td>\n",
       "      <td>0.353198</td>\n",
       "    </tr>\n",
       "    <tr>\n",
       "      <th>2</th>\n",
       "      <td>R</td>\n",
       "      <td>wPLI_delta_AWAKE_MEAN_SYNCH</td>\n",
       "      <td>0.390946</td>\n",
       "    </tr>\n",
       "    <tr>\n",
       "      <th>3</th>\n",
       "      <td>R</td>\n",
       "      <td>wPLI_delta_AWAKE_MEAN_SYNCH</td>\n",
       "      <td>0.384421</td>\n",
       "    </tr>\n",
       "    <tr>\n",
       "      <th>4</th>\n",
       "      <td>R</td>\n",
       "      <td>wPLI_delta_AWAKE_MEAN_SYNCH</td>\n",
       "      <td>0.396470</td>\n",
       "    </tr>\n",
       "    <tr>\n",
       "      <th>...</th>\n",
       "      <td>...</td>\n",
       "      <td>...</td>\n",
       "      <td>...</td>\n",
       "    </tr>\n",
       "    <tr>\n",
       "      <th>125</th>\n",
       "      <td>NR</td>\n",
       "      <td>wPLI_broadband_AWAKE_MEAN_SYNCH</td>\n",
       "      <td>0.398500</td>\n",
       "    </tr>\n",
       "    <tr>\n",
       "      <th>126</th>\n",
       "      <td>RP</td>\n",
       "      <td>wPLI_broadband_AWAKE_MEAN_SYNCH</td>\n",
       "      <td>0.346520</td>\n",
       "    </tr>\n",
       "    <tr>\n",
       "      <th>127</th>\n",
       "      <td>R</td>\n",
       "      <td>wPLI_broadband_AWAKE_MEAN_SYNCH</td>\n",
       "      <td>0.397728</td>\n",
       "    </tr>\n",
       "    <tr>\n",
       "      <th>128</th>\n",
       "      <td>R</td>\n",
       "      <td>wPLI_broadband_AWAKE_MEAN_SYNCH</td>\n",
       "      <td>0.337260</td>\n",
       "    </tr>\n",
       "    <tr>\n",
       "      <th>129</th>\n",
       "      <td>NR</td>\n",
       "      <td>wPLI_broadband_AWAKE_MEAN_SYNCH</td>\n",
       "      <td>0.399859</td>\n",
       "    </tr>\n",
       "  </tbody>\n",
       "</table>\n",
       "<p>130 rows × 3 columns</p>\n",
       "</div>"
      ],
      "text/plain": [
       "    response                         variable     value\n",
       "0         NR      wPLI_delta_AWAKE_MEAN_SYNCH  0.374143\n",
       "1          R      wPLI_delta_AWAKE_MEAN_SYNCH  0.353198\n",
       "2          R      wPLI_delta_AWAKE_MEAN_SYNCH  0.390946\n",
       "3          R      wPLI_delta_AWAKE_MEAN_SYNCH  0.384421\n",
       "4          R      wPLI_delta_AWAKE_MEAN_SYNCH  0.396470\n",
       "..       ...                              ...       ...\n",
       "125      NR   wPLI_broadband_AWAKE_MEAN_SYNCH  0.398500\n",
       "126      RP   wPLI_broadband_AWAKE_MEAN_SYNCH  0.346520\n",
       "127        R  wPLI_broadband_AWAKE_MEAN_SYNCH  0.397728\n",
       "128        R  wPLI_broadband_AWAKE_MEAN_SYNCH  0.337260\n",
       "129      NR   wPLI_broadband_AWAKE_MEAN_SYNCH  0.399859\n",
       "\n",
       "[130 rows x 3 columns]"
      ]
     },
     "execution_count": 35,
     "metadata": {},
     "output_type": "execute_result"
    }
   ],
   "source": [
    "pd.melt(aux, id_vars='response')"
   ]
  },
  {
   "cell_type": "code",
   "execution_count": null,
   "metadata": {},
   "outputs": [],
   "source": []
  }
 ],
 "metadata": {
  "kernelspec": {
   "display_name": "Python 3",
   "language": "python",
   "name": "python3"
  },
  "language_info": {
   "codemirror_mode": {
    "name": "ipython",
    "version": 3
   },
   "file_extension": ".py",
   "mimetype": "text/x-python",
   "name": "python",
   "nbconvert_exporter": "python",
   "pygments_lexer": "ipython3",
   "version": "3.7.3"
  },
  "toc": {
   "base_numbering": 1,
   "nav_menu": {},
   "number_sections": false,
   "sideBar": true,
   "skip_h1_title": false,
   "title_cell": "Table of Contents",
   "title_sidebar": "Contents",
   "toc_cell": false,
   "toc_position": {},
   "toc_section_display": true,
   "toc_window_display": false
  },
  "varInspector": {
   "cols": {
    "lenName": 16,
    "lenType": 16,
    "lenVar": 40
   },
   "kernels_config": {
    "python": {
     "delete_cmd_postfix": "",
     "delete_cmd_prefix": "del ",
     "library": "var_list.py",
     "varRefreshCmd": "print(var_dic_list())"
    },
    "r": {
     "delete_cmd_postfix": ") ",
     "delete_cmd_prefix": "rm(",
     "library": "var_list.r",
     "varRefreshCmd": "cat(var_dic_list()) "
    }
   },
   "types_to_exclude": [
    "module",
    "function",
    "builtin_function_or_method",
    "instance",
    "_Feature"
   ],
   "window_display": false
  }
 },
 "nbformat": 4,
 "nbformat_minor": 2
}
