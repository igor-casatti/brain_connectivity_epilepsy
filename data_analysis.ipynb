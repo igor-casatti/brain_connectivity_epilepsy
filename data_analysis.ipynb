{
 "cells": [
  {
   "cell_type": "code",
   "execution_count": 132,
   "metadata": {},
   "outputs": [],
   "source": [
    "import numpy as np\n",
    "import mne\n",
    "import matplotlib\n",
    "%matplotlib inline\n",
    "#%matplotlib qt\n",
    "import matplotlib as mpl\n",
    "import matplotlib.pyplot as plt\n",
    "import seaborn as sns\n",
    "import glob, os\n",
    "import scipy\n",
    "import pickle\n",
    "import networkx as nx\n",
    "import preprocessing as prep\n",
    "from itertools import permutations\n",
    "import pandas as pd\n",
    "from tqdm import tqdm\n",
    "\n",
    "from epoch_connectivity import ConnEEG as cnegg\n",
    "from epoch_connectivity import ConnectionMatrices as cm\n",
    "from epoch_connectivity import Connectomes as cntms\n",
    "\n",
    "from epoch_connectivity.utils import FrequencyBand, only_EEG_channels\n",
    "\n",
    "import mne_connectivity as mnecon"
   ]
  },
  {
   "cell_type": "code",
   "execution_count": 258,
   "metadata": {},
   "outputs": [],
   "source": [
    "def get_column_name(measure_used, record_status, frequency_band, graph_measure=None):\n",
    "    if measure_used is not 'wPLI':\n",
    "        return measure_used+'_'+frequency_band+'_'+record_status+'_'+graph_measure\n",
    "    else:\n",
    "        return measure_used+'_'+frequency_band+'_'+record_status+'_'+'MEAN_SYNCH'\n",
    "    \n",
    "    \n",
    "def r_nr_asarrays(column_name, full_dataframe):\n",
    "    responders = np.array(full_dataframe.loc[full_dataframe[\"response\"] == \"R\", column_name])\n",
    "    non_responders = np.array(full_dataframe.loc[full_dataframe[\"response\"] == \"NR\", column_name])\n",
    "    return responders, non_responders\n",
    "\n",
    "def get_reduced_df(full_dataframe, measure_used, record_status, graph_measure=None):\n",
    "    columns_to_get = []\n",
    "    for frequency_band in ['delta', 'theta', 'alpha', 'beta', 'broadband']:\n",
    "        columns_to_get.append(get_column_name(measure_used=measure_used, graph_measure=graph_measure,\n",
    "                                              record_status=record_status, frequency_band=frequency_band))\n",
    "    columns_to_get.append('response')\n",
    "    return full_dataframe[columns_to_get]\n",
    "\n",
    "def get_plot_title(measure_used, record_status, graph_measure=None):\n",
    "    g_measure_name = {'GE':'Global efficiency', 'MOD':'Modularity', 'GRC':'Global reaching centrality',\n",
    "                      'DA':'Degree assortativity', 'AVGCC':'Average clustering coefficient', 'MEAN_SYCNH':'Mean synchronization'}\n",
    "    rec_status_name = {'SLEEP':'asleep', 'AWAKE':'awake'}\n",
    "    if measure_used is not 'wPLI':\n",
    "        if record_status=='ASRATIO':\n",
    "            return f'{g_measure_name[graph_measure]} ratio between awake and asleep EEG', f'{g_measure_name[graph_measure]} awake / {g_measure_name[graph_measure]} asleep'\n",
    "        else:\n",
    "            return g_measure_name[graph_measure]+' ('+measure_used+') while '+rec_status_name[record_status], g_measure_name[graph_measure]+' value'\n",
    "    else:\n",
    "        if record_status=='ASRATIO':\n",
    "            return f'wPLI mean synchronization ratio between awake and asleep EEG', 'Mean wPLI awake / Mean wPLI asleep'\n",
    "        else:\n",
    "            return 'wPLI mean synchronization while '+rec_status_name[record_status], 'Mean wPLI value'\n",
    "    \n",
    "def plot_boxplot(full_dataframe, measure_used, record_status, directory_to_save=None, graph_measure=None, savefig=False):\n",
    "    reduced_df = get_reduced_df(full_dataframe=full_dataframe, measure_used=measure_used, graph_measure=graph_measure,\n",
    "                                record_status=record_status)\n",
    "    bp = sns.boxplot(x=\"variable\", y=\"value\", hue=\"response\", data=pd.melt(reduced_df, id_vars='response'))\n",
    "    bp.set_xticklabels(['delta', 'theta', 'alpha', 'beta', 'broadband'])\n",
    "    title, y_label = get_plot_title(measure_used=measure_used, record_status=record_status, graph_measure=graph_measure)\n",
    "    plt.xlabel('Frequency bands')\n",
    "    plt.ylabel(y_label)\n",
    "    plt.title(title)\n",
    "    if savefig:\n",
    "        plt.savefig(directory_to_save)\n",
    "        plt.close()\n",
    "    return"
   ]
  },
  {
   "cell_type": "markdown",
   "metadata": {},
   "source": [
    "### Code used to test the normality of the data"
   ]
  },
  {
   "cell_type": "code",
   "execution_count": null,
   "metadata": {},
   "outputs": [],
   "source": [
    "import numpy as np\n",
    "import statsmodels.api as sm\n",
    "import pylab\n",
    "\n",
    "column = get_column_name(measure_used='wPLI', record_status='SLEEP', frequency_band='delta')#, graph_measure='GE')\n",
    "a, b = r_nr_asarrays(column_name=column, full_dataframe=full_df)\n",
    "\n",
    "#test = np.random.normal(0,1, 1000)\n",
    "\n",
    "sm.qqplot(a, line='45')\n",
    "pylab.show()"
   ]
  },
  {
   "cell_type": "markdown",
   "metadata": {},
   "source": [
    "### Mann-Whitney U test and Boxplot for the networks thresholded with the surrogate data test\n",
    "It is necessary to do the Mann-Whitney U test because the data is not normal, so the T-student is not a good option. Also, we test the ration between the measures between awake and asleep EEG."
   ]
  },
  {
   "cell_type": "code",
   "execution_count": 260,
   "metadata": {},
   "outputs": [],
   "source": [
    "response = pd.read_csv('response.csv', sep=';') # Read the response data\n",
    "features = pd.read_csv('surrogate_08042022.csv', index_col=0) # Read the features dataframe\n",
    "\n",
    "# To create columns with the ration among the features on AWAKE/SLEEP state\n",
    "for measure in ['wPLI', 'PDC', 'DTF']:\n",
    "    if measure == 'wPLI':\n",
    "        for f_band in ['delta', 'theta', 'alpha', 'beta', 'broadband']:\n",
    "            features[f'{measure}_{f_band}_ASRATIO_MEAN_SYNCH'] = features[f'{measure}_{f_band}_AWAKE_MEAN_SYNCH'].div(features[f'{measure}_{f_band}_SLEEP_MEAN_SYNCH'])\n",
    "    else:\n",
    "        for f_band in ['delta', 'theta', 'alpha', 'beta', 'broadband']:\n",
    "            for graph_measures in ['GE', 'GRC', 'MOD', 'DA', 'AVGCC']:\n",
    "                features[f'{measure}_{f_band}_ASRATIO_{graph_measures}'] = features[f'{measure}_{f_band}_AWAKE_{graph_measures}'].div(features[f'{measure}_{f_band}_SLEEP_{graph_measures}'])\n",
    "\n",
    "full_df = pd.merge(features, response, on='patient', how='outer') # Join the two dataframes\n",
    "full_df = full_df.dropna() # Drop the NaN values\n",
    "full_df.loc[full_df[\"response\"] == \"RP\", \"response\"] = \"R\"\n",
    "full_df.loc[full_df[\"response\"] == \"PR\", \"response\"] = \"R\""
   ]
  },
  {
   "cell_type": "code",
   "execution_count": 262,
   "metadata": {},
   "outputs": [],
   "source": [
    "# Perform the boxplots for all the measures and the t-student test\n",
    "directory = 'C:/code_thesis/brain_connectivity_epilepsy/data_analysis/surrogate/'\n",
    "t_test_df = {}\n",
    "t_test_df['measure'], t_test_df['delta'], t_test_df['theta'], t_test_df['alpha'], t_test_df['beta'], t_test_df['broadband'] = [], [], [], [], [], []\n",
    "for measure in ['wPLI', 'PDC', 'DTF']:\n",
    "    if measure == 'wPLI':\n",
    "        for record_status in ['AWAKE', 'SLEEP', 'ASRATIO']:\n",
    "            t_test_df['measure'].append(measure+'_'+record_status+'_'+'MEAN_SYNCH')\n",
    "            to_save = directory+'surrogate_'+measure+'_'+record_status+'.pdf'\n",
    "            plot_boxplot(full_dataframe=full_df, measure_used=measure, record_status=record_status,\n",
    "                             graph_measure=graph_measures, directory_to_save=to_save, savefig=True)\n",
    "            for f_band in ['delta', 'theta', 'alpha', 'beta', 'broadband']:\n",
    "                column = get_column_name(measure_used=measure, record_status=record_status, frequency_band=f_band)\n",
    "                a, b = r_nr_asarrays(column_name=column, full_dataframe=full_df)\n",
    "                t_test_df[f_band].append(scipy.stats.mannwhitneyu(a, b)[1])\n",
    "    else:\n",
    "        for record_status in ['AWAKE', 'SLEEP', 'ASRATIO']:\n",
    "            for graph_measures in ['GE', 'GRC', 'MOD', 'DA', 'AVGCC']:\n",
    "                t_test_df['measure'].append(measure+'_'+record_status+'_'+graph_measures)\n",
    "                to_save = directory+'surrogate_'+measure+'_'+record_status+'_'+graph_measures+'.pdf'\n",
    "                plot_boxplot(full_dataframe=full_df, measure_used=measure, record_status=record_status,\n",
    "                             graph_measure=graph_measures, directory_to_save=to_save, savefig=True)\n",
    "                for f_band in ['delta', 'theta', 'alpha', 'beta', 'broadband']:\n",
    "                    column = get_column_name(measure_used=measure, record_status=record_status, frequency_band=f_band, graph_measure=graph_measures)\n",
    "                    a, b = r_nr_asarrays(column_name=column, full_dataframe=full_df)\n",
    "                    t_test_df[f_band].append(scipy.stats.mannwhitneyu(a, b)[1])\n",
    "t_test_df = pd.DataFrame(t_test_df)\n",
    "#t_test_df.to_csv(directory+'surrogate_ttest.csv', sep=';')\n",
    "t_test_df.to_csv(directory+'surrogate_mannwhiteyu.csv', sep=';')"
   ]
  },
  {
   "cell_type": "markdown",
   "metadata": {},
   "source": [
    "### Mann-Whitney U test and Boxplot for the networks not thresholded\n",
    "It is necessary to do the Mann-Whitney U test because the data is not normal, so the T-student is not a good option. Also, we test the ration between the measures between awake and asleep EEG."
   ]
  },
  {
   "cell_type": "code",
   "execution_count": 264,
   "metadata": {},
   "outputs": [],
   "source": [
    "response = pd.read_csv('response.csv', sep=';') # Read the response data\n",
    "features = pd.read_csv('no_thresh_08042022.csv', index_col=0) # Read the features dataframe\n",
    "\n",
    "# To create columns with the ration among the features on AWAKE/SLEEP state\n",
    "for measure in ['wPLI', 'PDC', 'DTF']:\n",
    "    if measure == 'wPLI':\n",
    "        for f_band in ['delta', 'theta', 'alpha', 'beta', 'broadband']:\n",
    "            features[f'{measure}_{f_band}_ASRATIO_MEAN_SYNCH'] = features[f'{measure}_{f_band}_AWAKE_MEAN_SYNCH'].div(features[f'{measure}_{f_band}_SLEEP_MEAN_SYNCH'])\n",
    "    else:\n",
    "        for f_band in ['delta', 'theta', 'alpha', 'beta', 'broadband']:\n",
    "            for graph_measures in ['GE', 'GRC', 'MOD', 'DA', 'AVGCC']:\n",
    "                features[f'{measure}_{f_band}_ASRATIO_{graph_measures}'] = features[f'{measure}_{f_band}_AWAKE_{graph_measures}'].div(features[f'{measure}_{f_band}_SLEEP_{graph_measures}'])\n",
    "\n",
    "full_df = pd.merge(features, response, on='patient', how='outer') # Join the two dataframes\n",
    "full_df = full_df.dropna() # Drop the NaN values\n",
    "full_df.loc[full_df[\"response\"] == \"RP\", \"response\"] = \"R\"\n",
    "full_df.loc[full_df[\"response\"] == \"PR\", \"response\"] = \"R\""
   ]
  },
  {
   "cell_type": "code",
   "execution_count": 265,
   "metadata": {},
   "outputs": [],
   "source": [
    "# Perform the boxplots for all the measures and the t-student test\n",
    "directory = 'C:/code_thesis/brain_connectivity_epilepsy/data_analysis/no_threshold/'\n",
    "t_test_df = {}\n",
    "t_test_df['measure'], t_test_df['delta'], t_test_df['theta'], t_test_df['alpha'], t_test_df['beta'], t_test_df['broadband'] = [], [], [], [], [], []\n",
    "for measure in ['wPLI', 'PDC', 'DTF']:\n",
    "    if measure == 'wPLI':\n",
    "        for record_status in ['AWAKE', 'SLEEP', 'ASRATIO']:\n",
    "            t_test_df['measure'].append(measure+'_'+record_status+'_'+'MEAN_SYNCH')\n",
    "            to_save = directory+'surrogate_'+measure+'_'+record_status+'.pdf'\n",
    "            plot_boxplot(full_dataframe=full_df, measure_used=measure, record_status=record_status,\n",
    "                             graph_measure=graph_measures, directory_to_save=to_save, savefig=True)\n",
    "            for f_band in ['delta', 'theta', 'alpha', 'beta', 'broadband']:\n",
    "                column = get_column_name(measure_used=measure, record_status=record_status, frequency_band=f_band)\n",
    "                a, b = r_nr_asarrays(column_name=column, full_dataframe=full_df)\n",
    "                #t_test_df[f_band].append(scipy.stats.ttest_ind(a, b)[1])\n",
    "                t_test_df[f_band].append(scipy.stats.mannwhitneyu(a, b)[1])\n",
    "    else:\n",
    "        for record_status in ['AWAKE', 'SLEEP', 'ASRATIO']:\n",
    "            for graph_measures in ['GE', 'GRC', 'MOD', 'DA', 'AVGCC']:\n",
    "                t_test_df['measure'].append(measure+'_'+record_status+'_'+graph_measures)\n",
    "                to_save = directory+'surrogate_'+measure+'_'+record_status+'_'+graph_measures+'.pdf'\n",
    "                plot_boxplot(full_dataframe=full_df, measure_used=measure, record_status=record_status,\n",
    "                             graph_measure=graph_measures, directory_to_save=to_save, savefig=True)\n",
    "                for f_band in ['delta', 'theta', 'alpha', 'beta', 'broadband']:\n",
    "                    column = get_column_name(measure_used=measure, record_status=record_status, frequency_band=f_band, graph_measure=graph_measures)\n",
    "                    a, b = r_nr_asarrays(column_name=column, full_dataframe=full_df)\n",
    "                    #t_test_df[f_band].append(scipy.stats.ttest_ind(a, b)[1])\n",
    "                    t_test_df[f_band].append(scipy.stats.mannwhitneyu(a, b)[1])\n",
    "t_test_df = pd.DataFrame(t_test_df)\n",
    "#t_test_df.to_csv(directory+'no_thresh_ttest.csv', sep=';')\n",
    "t_test_df.to_csv(directory+'no_thresh_mannwhitneyu.csv', sep=';')"
   ]
  },
  {
   "cell_type": "markdown",
   "metadata": {},
   "source": [
    "### Chi-squared test for the "
   ]
  },
  {
   "cell_type": "code",
   "execution_count": 221,
   "metadata": {},
   "outputs": [],
   "source": [
    "from sklearn.feature_selection import f_classif"
   ]
  },
  {
   "cell_type": "code",
   "execution_count": 220,
   "metadata": {},
   "outputs": [
    {
     "ename": "ValueError",
     "evalue": "could not convert string to float: 'NR'",
     "output_type": "error",
     "traceback": [
      "\u001b[1;31m---------------------------------------------------------------------------\u001b[0m",
      "\u001b[1;31mValueError\u001b[0m                                Traceback (most recent call last)",
      "\u001b[1;32m<ipython-input-220-d58fd68ceb2c>\u001b[0m in \u001b[0;36m<module>\u001b[1;34m\u001b[0m\n\u001b[1;32m----> 1\u001b[1;33m \u001b[0mf_classif\u001b[0m\u001b[1;33m(\u001b[0m\u001b[0mfull_df\u001b[0m\u001b[1;33m,\u001b[0m \u001b[0mresponse\u001b[0m\u001b[1;33m)\u001b[0m\u001b[1;33m\u001b[0m\u001b[1;33m\u001b[0m\u001b[0m\n\u001b[0m",
      "\u001b[1;32mc:\\program files\\python37\\lib\\site-packages\\sklearn\\feature_selection\\_univariate_selection.py\u001b[0m in \u001b[0;36mf_classif\u001b[1;34m(X, y)\u001b[0m\n\u001b[0;32m    147\u001b[0m     \u001b[0mf_regression\u001b[0m\u001b[1;33m:\u001b[0m \u001b[0mF\u001b[0m\u001b[1;33m-\u001b[0m\u001b[0mvalue\u001b[0m \u001b[0mbetween\u001b[0m \u001b[0mlabel\u001b[0m\u001b[1;33m/\u001b[0m\u001b[0mfeature\u001b[0m \u001b[1;32mfor\u001b[0m \u001b[0mregression\u001b[0m \u001b[0mtasks\u001b[0m\u001b[1;33m.\u001b[0m\u001b[1;33m\u001b[0m\u001b[1;33m\u001b[0m\u001b[0m\n\u001b[0;32m    148\u001b[0m     \"\"\"\n\u001b[1;32m--> 149\u001b[1;33m     \u001b[0mX\u001b[0m\u001b[1;33m,\u001b[0m \u001b[0my\u001b[0m \u001b[1;33m=\u001b[0m \u001b[0mcheck_X_y\u001b[0m\u001b[1;33m(\u001b[0m\u001b[0mX\u001b[0m\u001b[1;33m,\u001b[0m \u001b[0my\u001b[0m\u001b[1;33m,\u001b[0m \u001b[0maccept_sparse\u001b[0m\u001b[1;33m=\u001b[0m\u001b[1;33m[\u001b[0m\u001b[1;34m'csr'\u001b[0m\u001b[1;33m,\u001b[0m \u001b[1;34m'csc'\u001b[0m\u001b[1;33m,\u001b[0m \u001b[1;34m'coo'\u001b[0m\u001b[1;33m]\u001b[0m\u001b[1;33m)\u001b[0m\u001b[1;33m\u001b[0m\u001b[1;33m\u001b[0m\u001b[0m\n\u001b[0m\u001b[0;32m    150\u001b[0m     \u001b[0margs\u001b[0m \u001b[1;33m=\u001b[0m \u001b[1;33m[\u001b[0m\u001b[0mX\u001b[0m\u001b[1;33m[\u001b[0m\u001b[0msafe_mask\u001b[0m\u001b[1;33m(\u001b[0m\u001b[0mX\u001b[0m\u001b[1;33m,\u001b[0m \u001b[0my\u001b[0m \u001b[1;33m==\u001b[0m \u001b[0mk\u001b[0m\u001b[1;33m)\u001b[0m\u001b[1;33m]\u001b[0m \u001b[1;32mfor\u001b[0m \u001b[0mk\u001b[0m \u001b[1;32min\u001b[0m \u001b[0mnp\u001b[0m\u001b[1;33m.\u001b[0m\u001b[0munique\u001b[0m\u001b[1;33m(\u001b[0m\u001b[0my\u001b[0m\u001b[1;33m)\u001b[0m\u001b[1;33m]\u001b[0m\u001b[1;33m\u001b[0m\u001b[1;33m\u001b[0m\u001b[0m\n\u001b[0;32m    151\u001b[0m     \u001b[1;32mreturn\u001b[0m \u001b[0mf_oneway\u001b[0m\u001b[1;33m(\u001b[0m\u001b[1;33m*\u001b[0m\u001b[0margs\u001b[0m\u001b[1;33m)\u001b[0m\u001b[1;33m\u001b[0m\u001b[1;33m\u001b[0m\u001b[0m\n",
      "\u001b[1;32mc:\\program files\\python37\\lib\\site-packages\\sklearn\\utils\\validation.py\u001b[0m in \u001b[0;36minner_f\u001b[1;34m(*args, **kwargs)\u001b[0m\n\u001b[0;32m     70\u001b[0m                           FutureWarning)\n\u001b[0;32m     71\u001b[0m         \u001b[0mkwargs\u001b[0m\u001b[1;33m.\u001b[0m\u001b[0mupdate\u001b[0m\u001b[1;33m(\u001b[0m\u001b[1;33m{\u001b[0m\u001b[0mk\u001b[0m\u001b[1;33m:\u001b[0m \u001b[0marg\u001b[0m \u001b[1;32mfor\u001b[0m \u001b[0mk\u001b[0m\u001b[1;33m,\u001b[0m \u001b[0marg\u001b[0m \u001b[1;32min\u001b[0m \u001b[0mzip\u001b[0m\u001b[1;33m(\u001b[0m\u001b[0msig\u001b[0m\u001b[1;33m.\u001b[0m\u001b[0mparameters\u001b[0m\u001b[1;33m,\u001b[0m \u001b[0margs\u001b[0m\u001b[1;33m)\u001b[0m\u001b[1;33m}\u001b[0m\u001b[1;33m)\u001b[0m\u001b[1;33m\u001b[0m\u001b[1;33m\u001b[0m\u001b[0m\n\u001b[1;32m---> 72\u001b[1;33m         \u001b[1;32mreturn\u001b[0m \u001b[0mf\u001b[0m\u001b[1;33m(\u001b[0m\u001b[1;33m**\u001b[0m\u001b[0mkwargs\u001b[0m\u001b[1;33m)\u001b[0m\u001b[1;33m\u001b[0m\u001b[1;33m\u001b[0m\u001b[0m\n\u001b[0m\u001b[0;32m     73\u001b[0m     \u001b[1;32mreturn\u001b[0m \u001b[0minner_f\u001b[0m\u001b[1;33m\u001b[0m\u001b[1;33m\u001b[0m\u001b[0m\n\u001b[0;32m     74\u001b[0m \u001b[1;33m\u001b[0m\u001b[0m\n",
      "\u001b[1;32mc:\\program files\\python37\\lib\\site-packages\\sklearn\\utils\\validation.py\u001b[0m in \u001b[0;36mcheck_X_y\u001b[1;34m(X, y, accept_sparse, accept_large_sparse, dtype, order, copy, force_all_finite, ensure_2d, allow_nd, multi_output, ensure_min_samples, ensure_min_features, y_numeric, estimator)\u001b[0m\n\u001b[0;32m    800\u001b[0m                     \u001b[0mensure_min_samples\u001b[0m\u001b[1;33m=\u001b[0m\u001b[0mensure_min_samples\u001b[0m\u001b[1;33m,\u001b[0m\u001b[1;33m\u001b[0m\u001b[1;33m\u001b[0m\u001b[0m\n\u001b[0;32m    801\u001b[0m                     \u001b[0mensure_min_features\u001b[0m\u001b[1;33m=\u001b[0m\u001b[0mensure_min_features\u001b[0m\u001b[1;33m,\u001b[0m\u001b[1;33m\u001b[0m\u001b[1;33m\u001b[0m\u001b[0m\n\u001b[1;32m--> 802\u001b[1;33m                     estimator=estimator)\n\u001b[0m\u001b[0;32m    803\u001b[0m     \u001b[1;32mif\u001b[0m \u001b[0mmulti_output\u001b[0m\u001b[1;33m:\u001b[0m\u001b[1;33m\u001b[0m\u001b[1;33m\u001b[0m\u001b[0m\n\u001b[0;32m    804\u001b[0m         y = check_array(y, accept_sparse='csr', force_all_finite=True,\n",
      "\u001b[1;32mc:\\program files\\python37\\lib\\site-packages\\sklearn\\utils\\validation.py\u001b[0m in \u001b[0;36minner_f\u001b[1;34m(*args, **kwargs)\u001b[0m\n\u001b[0;32m     70\u001b[0m                           FutureWarning)\n\u001b[0;32m     71\u001b[0m         \u001b[0mkwargs\u001b[0m\u001b[1;33m.\u001b[0m\u001b[0mupdate\u001b[0m\u001b[1;33m(\u001b[0m\u001b[1;33m{\u001b[0m\u001b[0mk\u001b[0m\u001b[1;33m:\u001b[0m \u001b[0marg\u001b[0m \u001b[1;32mfor\u001b[0m \u001b[0mk\u001b[0m\u001b[1;33m,\u001b[0m \u001b[0marg\u001b[0m \u001b[1;32min\u001b[0m \u001b[0mzip\u001b[0m\u001b[1;33m(\u001b[0m\u001b[0msig\u001b[0m\u001b[1;33m.\u001b[0m\u001b[0mparameters\u001b[0m\u001b[1;33m,\u001b[0m \u001b[0margs\u001b[0m\u001b[1;33m)\u001b[0m\u001b[1;33m}\u001b[0m\u001b[1;33m)\u001b[0m\u001b[1;33m\u001b[0m\u001b[1;33m\u001b[0m\u001b[0m\n\u001b[1;32m---> 72\u001b[1;33m         \u001b[1;32mreturn\u001b[0m \u001b[0mf\u001b[0m\u001b[1;33m(\u001b[0m\u001b[1;33m**\u001b[0m\u001b[0mkwargs\u001b[0m\u001b[1;33m)\u001b[0m\u001b[1;33m\u001b[0m\u001b[1;33m\u001b[0m\u001b[0m\n\u001b[0m\u001b[0;32m     73\u001b[0m     \u001b[1;32mreturn\u001b[0m \u001b[0minner_f\u001b[0m\u001b[1;33m\u001b[0m\u001b[1;33m\u001b[0m\u001b[0m\n\u001b[0;32m     74\u001b[0m \u001b[1;33m\u001b[0m\u001b[0m\n",
      "\u001b[1;32mc:\\program files\\python37\\lib\\site-packages\\sklearn\\utils\\validation.py\u001b[0m in \u001b[0;36mcheck_array\u001b[1;34m(array, accept_sparse, accept_large_sparse, dtype, order, copy, force_all_finite, ensure_2d, allow_nd, ensure_min_samples, ensure_min_features, estimator)\u001b[0m\n\u001b[0;32m    596\u001b[0m                     \u001b[0marray\u001b[0m \u001b[1;33m=\u001b[0m \u001b[0marray\u001b[0m\u001b[1;33m.\u001b[0m\u001b[0mastype\u001b[0m\u001b[1;33m(\u001b[0m\u001b[0mdtype\u001b[0m\u001b[1;33m,\u001b[0m \u001b[0mcasting\u001b[0m\u001b[1;33m=\u001b[0m\u001b[1;34m\"unsafe\"\u001b[0m\u001b[1;33m,\u001b[0m \u001b[0mcopy\u001b[0m\u001b[1;33m=\u001b[0m\u001b[1;32mFalse\u001b[0m\u001b[1;33m)\u001b[0m\u001b[1;33m\u001b[0m\u001b[1;33m\u001b[0m\u001b[0m\n\u001b[0;32m    597\u001b[0m                 \u001b[1;32melse\u001b[0m\u001b[1;33m:\u001b[0m\u001b[1;33m\u001b[0m\u001b[1;33m\u001b[0m\u001b[0m\n\u001b[1;32m--> 598\u001b[1;33m                     \u001b[0marray\u001b[0m \u001b[1;33m=\u001b[0m \u001b[0mnp\u001b[0m\u001b[1;33m.\u001b[0m\u001b[0masarray\u001b[0m\u001b[1;33m(\u001b[0m\u001b[0marray\u001b[0m\u001b[1;33m,\u001b[0m \u001b[0morder\u001b[0m\u001b[1;33m=\u001b[0m\u001b[0morder\u001b[0m\u001b[1;33m,\u001b[0m \u001b[0mdtype\u001b[0m\u001b[1;33m=\u001b[0m\u001b[0mdtype\u001b[0m\u001b[1;33m)\u001b[0m\u001b[1;33m\u001b[0m\u001b[1;33m\u001b[0m\u001b[0m\n\u001b[0m\u001b[0;32m    599\u001b[0m             \u001b[1;32mexcept\u001b[0m \u001b[0mComplexWarning\u001b[0m\u001b[1;33m:\u001b[0m\u001b[1;33m\u001b[0m\u001b[1;33m\u001b[0m\u001b[0m\n\u001b[0;32m    600\u001b[0m                 raise ValueError(\"Complex data not supported\\n\"\n",
      "\u001b[1;32mc:\\program files\\python37\\lib\\site-packages\\pandas\\core\\generic.py\u001b[0m in \u001b[0;36m__array__\u001b[1;34m(self, dtype)\u001b[0m\n\u001b[0;32m   1991\u001b[0m \u001b[1;33m\u001b[0m\u001b[0m\n\u001b[0;32m   1992\u001b[0m     \u001b[1;32mdef\u001b[0m \u001b[0m__array__\u001b[0m\u001b[1;33m(\u001b[0m\u001b[0mself\u001b[0m\u001b[1;33m,\u001b[0m \u001b[0mdtype\u001b[0m\u001b[1;33m:\u001b[0m \u001b[0mNpDtype\u001b[0m \u001b[1;33m|\u001b[0m \u001b[1;32mNone\u001b[0m \u001b[1;33m=\u001b[0m \u001b[1;32mNone\u001b[0m\u001b[1;33m)\u001b[0m \u001b[1;33m->\u001b[0m \u001b[0mnp\u001b[0m\u001b[1;33m.\u001b[0m\u001b[0mndarray\u001b[0m\u001b[1;33m:\u001b[0m\u001b[1;33m\u001b[0m\u001b[1;33m\u001b[0m\u001b[0m\n\u001b[1;32m-> 1993\u001b[1;33m         \u001b[1;32mreturn\u001b[0m \u001b[0mnp\u001b[0m\u001b[1;33m.\u001b[0m\u001b[0masarray\u001b[0m\u001b[1;33m(\u001b[0m\u001b[0mself\u001b[0m\u001b[1;33m.\u001b[0m\u001b[0m_values\u001b[0m\u001b[1;33m,\u001b[0m \u001b[0mdtype\u001b[0m\u001b[1;33m=\u001b[0m\u001b[0mdtype\u001b[0m\u001b[1;33m)\u001b[0m\u001b[1;33m\u001b[0m\u001b[1;33m\u001b[0m\u001b[0m\n\u001b[0m\u001b[0;32m   1994\u001b[0m \u001b[1;33m\u001b[0m\u001b[0m\n\u001b[0;32m   1995\u001b[0m     def __array_wrap__(\n",
      "\u001b[1;31mValueError\u001b[0m: could not convert string to float: 'NR'"
     ]
    }
   ],
   "source": [
    "response = pd.read_csv('response.csv', sep=';') # Read the response data\n",
    "features = pd.read_csv('surrogate_08042022.csv', index_col=0) # Read the features dataframe\n",
    "full_df = pd.merge(features, response, on='patient', how='outer') # Join the two dataframes\n",
    "full_df = full_df.dropna() # Drop the NaN values\n",
    "\n",
    "response = full_df['response'].copy()\n",
    "full_df.drop(columns=['response'], inplace=True)\n",
    "\n",
    "response.loc[response[\"response\"] == \"RP\", \"response\"] = 1\n",
    "response.loc[response[\"response\"] == \"PR\", \"response\"] = 1\n",
    "\n",
    "f_classif(full_df, response)"
   ]
  }
 ],
 "metadata": {
  "kernelspec": {
   "display_name": "Python 3",
   "language": "python",
   "name": "python3"
  },
  "language_info": {
   "codemirror_mode": {
    "name": "ipython",
    "version": 3
   },
   "file_extension": ".py",
   "mimetype": "text/x-python",
   "name": "python",
   "nbconvert_exporter": "python",
   "pygments_lexer": "ipython3",
   "version": "3.7.3"
  },
  "toc": {
   "base_numbering": 1,
   "nav_menu": {},
   "number_sections": false,
   "sideBar": true,
   "skip_h1_title": false,
   "title_cell": "Table of Contents",
   "title_sidebar": "Contents",
   "toc_cell": false,
   "toc_position": {},
   "toc_section_display": true,
   "toc_window_display": false
  },
  "varInspector": {
   "cols": {
    "lenName": 16,
    "lenType": 16,
    "lenVar": 40
   },
   "kernels_config": {
    "python": {
     "delete_cmd_postfix": "",
     "delete_cmd_prefix": "del ",
     "library": "var_list.py",
     "varRefreshCmd": "print(var_dic_list())"
    },
    "r": {
     "delete_cmd_postfix": ") ",
     "delete_cmd_prefix": "rm(",
     "library": "var_list.r",
     "varRefreshCmd": "cat(var_dic_list()) "
    }
   },
   "types_to_exclude": [
    "module",
    "function",
    "builtin_function_or_method",
    "instance",
    "_Feature"
   ],
   "window_display": false
  }
 },
 "nbformat": 4,
 "nbformat_minor": 2
}
