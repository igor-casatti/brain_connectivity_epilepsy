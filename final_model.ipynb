{
 "cells": [
  {
   "cell_type": "code",
   "execution_count": 91,
   "metadata": {},
   "outputs": [],
   "source": [
    "import pandas as pd\n",
    "from tqdm import tqdm\n",
    "import numpy as np\n",
    "import scipy\n",
    "from scipy import signal, stats\n",
    "from scipy.stats import pointbiserialr\n",
    "import math\n",
    "from math import sqrt\n",
    "\n",
    "import seaborn as sns\n",
    "import matplotlib as mpl\n",
    "import matplotlib.pyplot as plt\n",
    "\n",
    "from sklearn.preprocessing import MinMaxScaler, Normalizer, StandardScaler\n",
    "from sklearn.feature_selection import mutual_info_regression\n",
    "from sklearn.metrics import accuracy_score, confusion_matrix, make_scorer, recall_score\n",
    "from sklearn.model_selection import cross_val_score, GridSearchCV, KFold, permutation_test_score, cross_validate\n",
    "from sklearn.base import clone\n",
    "\n",
    "sns.set_theme(style=\"whitegrid\")\n",
    "\n",
    "from sklearn.svm import SVC\n",
    "from sklearn.neighbors import KNeighborsClassifier\n",
    "from sklearn.tree import DecisionTreeClassifier, plot_tree\n",
    "from sklearn.gaussian_process import GaussianProcessClassifier\n",
    "from sklearn.ensemble import RandomForestClassifier, AdaBoostClassifier\n",
    "\n",
    "from sklearn.pipeline import make_pipeline, Pipeline\n",
    "\n",
    "from sklearn.gaussian_process.kernels import DotProduct, WhiteKernel, RBF\n",
    "\n",
    "import mrmr"
   ]
  },
  {
   "cell_type": "markdown",
   "metadata": {},
   "source": [
    "### K-Nearest Neighbors"
   ]
  },
  {
   "cell_type": "code",
   "execution_count": 110,
   "metadata": {},
   "outputs": [],
   "source": [
    "response = pd.read_csv('response.csv', sep=';') # Read the response data\n",
    "features = pd.read_csv('surrogate_18042022.csv', index_col=0) # Read the features dataframe\n",
    "\n",
    "selected_features = ['PDC_beta_SLEEP_GE', 'wPLI_broadband_SLEEP_MEAN_SYNCH', 'PDC_delta_SLEEP_AVGCC',\n",
    "                     'wPLI_alpha_SLEEP_MEAN_SYNCH', 'PDC_broadband_SLEEP_GE', 'wPLI_beta_SLEEP_MEAN_SYNCH']\n",
    "\n",
    "full_df = pd.merge(features, response, on='patient', how='outer') # Join the two dataframes\n",
    "full_df = full_df.dropna() # Drop the NaN values\n",
    "full_df.loc[full_df[\"response\"] == \"RP\", \"response\"] = 1\n",
    "full_df.loc[full_df[\"response\"] == \"PR\", \"response\"] = 1\n",
    "full_df.loc[full_df[\"response\"] == \"R\", \"response\"]  = 1\n",
    "full_df.loc[full_df[\"response\"] == \"NR\", \"response\"] = 0\n",
    "\n",
    "full_df.drop(columns=['patient'], inplace=True)\n",
    "full_df = full_df[selected_features + ['response']]\n",
    "\n",
    "#train=full_df.copy()#.sample(n=30, random_state=42)\n",
    "train=full_df.sample(n=30, random_state=42)\n",
    "test=full_df.drop(train.index)\n",
    "full_df = train.sort_index().copy()\n",
    "test_df = test.copy()"
   ]
  },
  {
   "cell_type": "code",
   "execution_count": 111,
   "metadata": {},
   "outputs": [
    {
     "name": "stdout",
     "output_type": "stream",
     "text": [
      "The test accuracy obtained for the model is: 0.8571428571428571\n"
     ]
    }
   ],
   "source": [
    "X = full_df.drop(columns=['response'], inplace=False)\n",
    "Y = full_df['response']\n",
    "\n",
    "X_test = test_df.drop(columns=['response'], inplace=False)\n",
    "Y_test = test_df['response'].to_numpy(dtype='int')\n",
    "\n",
    "X_train = X.to_numpy()\n",
    "Y_train = Y.to_numpy(dtype='int')\n",
    "\n",
    "model = Pipeline(steps=[('scaler', MinMaxScaler()), ('ml_model', KNeighborsClassifier(leaf_size=1, n_neighbors=13))])\n",
    "model.fit(X_train, Y_train)\n",
    "\n",
    "Y_pred = model.predict(X_test.to_numpy())\n",
    "\n",
    "test_acc = accuracy_score(Y_test, Y_pred)\n",
    "\n",
    "print(f'The test accuracy obtained for the model is: {test_acc}')"
   ]
  },
  {
   "cell_type": "code",
   "execution_count": 112,
   "metadata": {},
   "outputs": [
    {
     "data": {
      "text/plain": [
       "array([1, 0, 1, 1, 1, 1, 0])"
      ]
     },
     "execution_count": 112,
     "metadata": {},
     "output_type": "execute_result"
    }
   ],
   "source": [
    "Y_pred"
   ]
  },
  {
   "cell_type": "code",
   "execution_count": 114,
   "metadata": {},
   "outputs": [
    {
     "data": {
      "text/plain": [
       "array([0, 0, 1, 1, 1, 1, 0])"
      ]
     },
     "execution_count": 114,
     "metadata": {},
     "output_type": "execute_result"
    }
   ],
   "source": [
    "Y_test"
   ]
  },
  {
   "cell_type": "code",
   "execution_count": 80,
   "metadata": {},
   "outputs": [],
   "source": [
    "n_uncorrelated_features = 6\n",
    "rng = np.random.RandomState(seed=42)\n",
    "# Use same number of samples as in iris and 20 features\n",
    "#X_rand = rng.normal(size=(X.shape[0], n_uncorrelated_features))\n",
    "\n",
    "cv = KFold(6, shuffle=True, random_state=42)\n",
    "\n",
    "score_iris, perm_scores_iris, pvalue_iris = permutation_test_score(\n",
    "    model, X, Y.to_numpy(dtype='int'), scoring=\"accuracy\", cv=cv, n_permutations=1000\n",
    ")\n",
    "\n",
    "#score_rand, perm_scores_rand, pvalue_rand = permutation_test_score(\n",
    "#    model, X_rand, Y.to_numpy(dtype='int'), scoring=\"accuracy\", cv=cv, n_permutations=1000\n",
    "#)"
   ]
  },
  {
   "cell_type": "code",
   "execution_count": 82,
   "metadata": {
    "scrolled": true
   },
   "outputs": [
    {
     "data": {
      "image/png": "[encoded data removed]",
      "text/plain": [
       "<Figure size 432x288 with 1 Axes>"
      ]
     },
     "metadata": {},
     "output_type": "display_data"
    }
   ],
   "source": [
    "fig, ax = plt.subplots()\n",
    "\n",
    "ax.hist(perm_scores_iris, bins=20, density=True)\n",
    "ax.axvline(score_iris, ls=\"--\", color=\"r\")\n",
    "score_label = f\"Score on original\\ndata: {score_iris:.2f}\\n(p-value: {pvalue_iris:.5f})\"\n",
    "ax.text(0.2, -2, score_label, fontsize=12)\n",
    "ax.set_xlabel(\"Accuracy score\")\n",
    "_ = ax.set_ylabel(\"Probability\")\n",
    "ax.set_title('Scores on permutation test for K-NN', fontsize=16)\n",
    "plt.savefig('permutation_score_knn.pdf', bbox_inches='tight')"
   ]
  },
  {
   "cell_type": "markdown",
   "metadata": {},
   "source": [
    "### Gaussian process"
   ]
  },
  {
   "cell_type": "code",
   "execution_count": null,
   "metadata": {},
   "outputs": [],
   "source": [
    "response = pd.read_csv('response.csv', sep=';') # Read the response data\n",
    "features = pd.read_csv('surrogate_18042022.csv', index_col=0) # Read the features dataframe\n",
    "\n",
    "selected_features = ['PDC_beta_SLEEP_GE', 'wPLI_alpha_SLEEP_MEAN_SYNCH', 'PDC_alpha_AWAKE_MOD',\n",
    "                     'wPLI_beta_SLEEP_MEAN_SYNCH', 'PDC_delta_SLEEP_AVGCC', 'PDC_broadband_SLEEP_GE',\n",
    "                     'wPLI_broadband_SLEEP_MEAN_SYNCH']\n",
    "\n",
    "full_df = pd.merge(features, response, on='patient', how='outer') # Join the two dataframes\n",
    "full_df = full_df.dropna() # Drop the NaN values\n",
    "full_df.loc[full_df[\"response\"] == \"RP\", \"response\"] = 1\n",
    "full_df.loc[full_df[\"response\"] == \"PR\", \"response\"] = 1\n",
    "full_df.loc[full_df[\"response\"] == \"R\", \"response\"]  = 1\n",
    "full_df.loc[full_df[\"response\"] == \"NR\", \"response\"] = 0\n",
    "\n",
    "full_df.drop(columns=['patient'], inplace=True)\n",
    "full_df = full_df[selected_features + ['response']]\n",
    "\n",
    "train=full_df.copy()#.sample(n=30, random_state=42)\n",
    "#train = full_df.sample(n=30, random_state=42)\n",
    "test=full_df.drop(train.index)\n",
    "full_df = train.sort_index().copy()\n",
    "test_df = test.copy()"
   ]
  },
  {
   "cell_type": "code",
   "execution_count": null,
   "metadata": {},
   "outputs": [],
   "source": [
    "X = full_df.drop(columns=['response'], inplace=False)\n",
    "Y = full_df['response']\n",
    "\n",
    "X_test = test_df.drop(columns=['response'], inplace=False)\n",
    "Y_test = test_df['response'].to_numpy(dtype='int')\n",
    "\n",
    "X_train = X.to_numpy()\n",
    "Y_train = Y.to_numpy(dtype='int')\n",
    "\n",
    "model = Pipeline(steps=[('scaler', MinMaxScaler()),\n",
    "                ('ml_model',\n",
    "                 GaussianProcessClassifier(kernel=RBF(length_scale=1) + WhiteKernel(noise_level=1)))])\n",
    "model.fit(X_train, Y_train)\n",
    "\n",
    "Y_pred = model.predict(X_test.to_numpy())\n",
    "\n",
    "test_acc = accuracy_score(Y_test, Y_pred)\n",
    "\n",
    "print(f'The test accuracy obtained for the model is: {test_acc}')"
   ]
  },
  {
   "cell_type": "code",
   "execution_count": 74,
   "metadata": {},
   "outputs": [],
   "source": [
    "n_uncorrelated_features = 6\n",
    "rng = np.random.RandomState(seed=42)\n",
    "# Use same number of samples as in iris and 20 features\n",
    "X_rand = rng.normal(size=(X.shape[0], n_uncorrelated_features))\n",
    "\n",
    "cv = KFold(6, shuffle=True, random_state=42)\n",
    "\n",
    "score_iris, perm_scores_iris, pvalue_iris = permutation_test_score(\n",
    "    model, X, Y.to_numpy(dtype='int'), scoring=\"accuracy\", cv=cv, n_permutations=1000\n",
    ")\n",
    "\n",
    "#score_rand, perm_scores_rand, pvalue_rand = permutation_test_score(\n",
    "#    model, X_rand, Y.to_numpy(dtype='int'), scoring=\"accuracy\", cv=cv, n_permutations=1000\n",
    "#)"
   ]
  },
  {
   "cell_type": "code",
   "execution_count": 77,
   "metadata": {},
   "outputs": [
    {
     "data": {
      "image/png": "[encoded data removed]",
      "text/plain": [
       "<Figure size 432x288 with 1 Axes>"
      ]
     },
     "metadata": {},
     "output_type": "display_data"
    }
   ],
   "source": [
    "fig, ax = plt.subplots()\n",
    "\n",
    "ax.hist(perm_scores_iris, bins=20, density=True)\n",
    "ax.axvline(score_iris, ls=\"--\", color=\"r\")\n",
    "score_label = f\"Score on original\\ndata: {score_iris:.2f}\\n(p-value: {pvalue_iris:.5f})\"\n",
    "ax.text(0.2, -2, score_label, fontsize=12)\n",
    "ax.set_xlabel(\"Accuracy score\")\n",
    "_ = ax.set_ylabel(\"Probability\")\n",
    "ax.set_title('Scores on permutation test for GP', fontsize=16)\n",
    "plt.savefig('permutation_score_gp.pdf', bbox_inches='tight')"
   ]
  },
  {
   "cell_type": "code",
   "execution_count": null,
   "metadata": {},
   "outputs": [],
   "source": [
    "fig, ax = plt.subplots()\n",
    "\n",
    "ax.hist(perm_scores_rand, bins=20, density=True)\n",
    "ax.set_xlim(0.13)\n",
    "ax.axvline(score_rand, ls=\"--\", color=\"r\")\n",
    "score_label = f\"Score on original\\ndata: {score_rand:.2f}\\n(p-value: {pvalue_rand:.3f})\"\n",
    "ax.text(0.14, 7.5, score_label, fontsize=12)\n",
    "ax.set_xlabel(\"Accuracy score\")\n",
    "ax.set_ylabel(\"Probability\")\n",
    "plt.show()"
   ]
  },
  {
   "cell_type": "markdown",
   "metadata": {},
   "source": [
    "### Evaluation using CV"
   ]
  },
  {
   "cell_type": "code",
   "execution_count": 86,
   "metadata": {},
   "outputs": [],
   "source": [
    "response = pd.read_csv('response.csv', sep=';') # Read the response data\n",
    "features = pd.read_csv('surrogate_18042022.csv', index_col=0) # Read the features dataframe\n",
    "\n",
    "selected_features = ['PDC_beta_SLEEP_GE', 'wPLI_alpha_SLEEP_MEAN_SYNCH', 'PDC_alpha_AWAKE_MOD',\n",
    "                     'wPLI_beta_SLEEP_MEAN_SYNCH', 'PDC_delta_SLEEP_AVGCC', 'PDC_broadband_SLEEP_GE',\n",
    "                     'wPLI_broadband_SLEEP_MEAN_SYNCH']\n",
    "\n",
    "full_df = pd.merge(features, response, on='patient', how='outer') # Join the two dataframes\n",
    "full_df = full_df.dropna() # Drop the NaN values\n",
    "full_df.loc[full_df[\"response\"] == \"RP\", \"response\"] = 1\n",
    "full_df.loc[full_df[\"response\"] == \"PR\", \"response\"] = 1\n",
    "full_df.loc[full_df[\"response\"] == \"R\", \"response\"]  = 1\n",
    "full_df.loc[full_df[\"response\"] == \"NR\", \"response\"] = 0\n",
    "\n",
    "full_df.drop(columns=['patient'], inplace=True)\n",
    "full_df = full_df[selected_features + ['response']]\n",
    "\n",
    "train=full_df.sample(n=30, random_state=42)\n",
    "test=full_df.drop(train.index)\n",
    "full_df = train.sort_index().copy()\n",
    "test_df = test.copy()"
   ]
  },
  {
   "cell_type": "code",
   "execution_count": 87,
   "metadata": {},
   "outputs": [
    {
     "name": "stdout",
     "output_type": "stream",
     "text": [
      "The test accuracy obtained for the model is: 0.8571428571428571\n"
     ]
    }
   ],
   "source": [
    "X = full_df.drop(columns=['response'], inplace=False)\n",
    "Y = full_df['response']\n",
    "\n",
    "X_test = test_df.drop(columns=['response'], inplace=False)\n",
    "Y_test = test_df['response'].to_numpy(dtype='int')\n",
    "\n",
    "X_train = X.to_numpy()\n",
    "Y_train = Y.to_numpy(dtype='int')\n",
    "\n",
    "model = Pipeline(steps=[('scaler', MinMaxScaler()), ('ml_model', KNeighborsClassifier(leaf_size=1, n_neighbors=13))])\n",
    "model.fit(X_train, Y_train)\n",
    "\n",
    "Y_pred = model.predict(X_test.to_numpy())\n",
    "\n",
    "test_acc = accuracy_score(Y_test, Y_pred)\n",
    "\n",
    "print(f'The test accuracy obtained for the model is: {test_acc}')"
   ]
  },
  {
   "cell_type": "code",
   "execution_count": 109,
   "metadata": {},
   "outputs": [
    {
     "data": {
      "text/plain": [
       "array([1, 0, 1, 1, 1, 1, 0])"
      ]
     },
     "execution_count": 109,
     "metadata": {},
     "output_type": "execute_result"
    }
   ],
   "source": [
    "Y_pred"
   ]
  },
  {
   "cell_type": "code",
   "execution_count": 108,
   "metadata": {},
   "outputs": [
    {
     "data": {
      "text/plain": [
       "array([0, 0, 1, 1, 1, 1, 0])"
      ]
     },
     "execution_count": 108,
     "metadata": {},
     "output_type": "execute_result"
    }
   ],
   "source": [
    "Y_test"
   ]
  },
  {
   "cell_type": "code",
   "execution_count": 104,
   "metadata": {},
   "outputs": [],
   "source": [
    "model = Pipeline(steps=[('scaler', MinMaxScaler()), ('ml_model', KNeighborsClassifier(leaf_size=1, n_neighbors=13))])\n",
    "model.fit(X_train, Y_train)\n",
    "\n",
    "specificity = make_scorer(recall_score, pos_label=0)\n",
    "sensitivity = make_scorer(recall_score, pos_label=1)\n",
    "\n",
    "cv = KFold(n_splits=6, shuffle=True, random_state=42)\n",
    "cv_perf = cross_validate(model, X=X_train, y=Y_train, scoring={'specificity':specificity, 'sensitivity':sensitivity}, cv=cv)"
   ]
  },
  {
   "cell_type": "code",
   "execution_count": 105,
   "metadata": {},
   "outputs": [
    {
     "data": {
      "text/plain": [
       "{'fit_time': array([0.00199366, 0.00099897, 0.0019958 , 0.00199556, 0.00099802,\n",
       "        0.00199461]),\n",
       " 'score_time': array([0.00498724, 0.00498676, 0.00199389, 0.00598383, 0.00398874,\n",
       "        0.00498652]),\n",
       " 'test_specificity': array([0.33333333, 1.        , 0.66666667, 1.        , 0.33333333,\n",
       "        0.        ]),\n",
       " 'test_sensitivity': array([1.        , 0.66666667, 1.        , 0.5       , 1.        ,\n",
       "        0.6       ])}"
      ]
     },
     "execution_count": 105,
     "metadata": {},
     "output_type": "execute_result"
    }
   ],
   "source": [
    "cv_perf"
   ]
  },
  {
   "cell_type": "code",
   "execution_count": 106,
   "metadata": {},
   "outputs": [
    {
     "data": {
      "text/plain": [
       "0.5555555555555556"
      ]
     },
     "execution_count": 106,
     "metadata": {},
     "output_type": "execute_result"
    }
   ],
   "source": [
    "cv_perf['test_specificity'].mean()"
   ]
  },
  {
   "cell_type": "code",
   "execution_count": 107,
   "metadata": {},
   "outputs": [
    {
     "data": {
      "text/plain": [
       "0.7944444444444443"
      ]
     },
     "execution_count": 107,
     "metadata": {},
     "output_type": "execute_result"
    }
   ],
   "source": [
    "cv_perf['test_sensitivity'].mean()"
   ]
  }
 ],
 "metadata": {
  "kernelspec": {
   "display_name": "Python 3",
   "language": "python",
   "name": "python3"
  },
  "language_info": {
   "codemirror_mode": {
    "name": "ipython",
    "version": 3
   },
   "file_extension": ".py",
   "mimetype": "text/x-python",
   "name": "python",
   "nbconvert_exporter": "python",
   "pygments_lexer": "ipython3",
   "version": "3.7.3"
  },
  "toc": {
   "base_numbering": 1,
   "nav_menu": {},
   "number_sections": false,
   "sideBar": true,
   "skip_h1_title": false,
   "title_cell": "Table of Contents",
   "title_sidebar": "Contents",
   "toc_cell": false,
   "toc_position": {},
   "toc_section_display": true,
   "toc_window_display": false
  },
  "varInspector": {
   "cols": {
    "lenName": 16,
    "lenType": 16,
    "lenVar": 40
   },
   "kernels_config": {
    "python": {
     "delete_cmd_postfix": "",
     "delete_cmd_prefix": "del ",
     "library": "var_list.py",
     "varRefreshCmd": "print(var_dic_list())"
    },
    "r": {
     "delete_cmd_postfix": ") ",
     "delete_cmd_prefix": "rm(",
     "library": "var_list.r",
     "varRefreshCmd": "cat(var_dic_list()) "
    }
   },
   "types_to_exclude": [
    "module",
    "function",
    "builtin_function_or_method",
    "instance",
    "_Feature"
   ],
   "window_display": false
  }
 },
 "nbformat": 4,
 "nbformat_minor": 2
}
